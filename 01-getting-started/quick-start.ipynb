{
 "cells": [
  {
   "cell_type": "markdown",
   "metadata": {
    "id": "8iPJnDH0HhXB"
   },
   "source": [
    "<img src=\"https://imagedelivery.net/Dr98IMl5gQ9tPkFM5JRcng/3e5f6fbd-9bc6-4aa1-368e-e8bb1d6ca100/Ultra\" alt=\"Image description\" width=\"160\" />\n",
    "\n",
    "<br/>\n",
    "\n",
    "# Quick Start for Contextual AI Platform using the Python Client\n",
    "\n",
    "Contextual AI lets you create and use generative AI agents. This notebook gives a quick start for creating a Retrieval-Augmented Generation (RAG) agent for a financial use case. The agent will answer questions based on the documents provided, but avoid any forward looking statements, e.g., Tell me about sales in 2028. This notebook uses the python client.\n",
    "\n",
    "This notebook covers the following steps:\n",
    "- Creating a Datastore\n",
    "- Ingesting Documents\n",
    "- Creating an RAG Agent\n",
    "- Querying an RAG Agent\n",
    "\n",
    "The notebook can be run in under 15 minutes. The full documentation is available at [docs.contextual.ai](https://docs.contextual.ai/)\n",
    "\n",
    "To run this notebook interactively, you can open it in Google Colab. However, make sure to copy over the additional files.\n",
    "\n",
    "[![Open In Colab](https://colab.research.google.com/assets/colab-badge.svg)](https://colab.research.google.com/github/ContextualAI/examples/blob/main/01-getting-started/quick-start.ipynb)"
   ]
  },
  {
   "cell_type": "code",
   "execution_count": null,
   "metadata": {},
   "outputs": [],
   "source": [
    "!pip install contextual-client"
   ]
  },
  {
   "cell_type": "code",
   "execution_count": null,
   "metadata": {},
   "outputs": [],
   "source": [
    "import os\n",
    "import requests\n",
    "import json\n",
    "from pathlib import Path\n",
    "from typing import List, Optional, Dict\n",
    "from IPython.display import display, JSON\n",
    "import pandas as pd\n",
    "from contextual import ContextualAI"
   ]
  },
  {
   "cell_type": "code",
   "execution_count": 3,
   "metadata": {
    "id": "4wJG66VTIQvO"
   },
   "outputs": [],
   "source": [
    "#os.environ[\"CONTEXTUAL_API_KEY\"] = API_KEY  # You can store the API key is stored as the environment variable \n",
    "\n",
    "client = ContextualAI(\n",
    "    api_key=os.environ.get(\"CONTEXTUAL_API_KEY\"),  # This is the default and can be omitted\n",
    ")\n",
    "\n",
    "REQUEST_URL = 'https://api.contextual.ai/v1'\n"
   ]
  },
  {
   "cell_type": "markdown",
   "metadata": {
    "id": "lcqh_-j1MzCn"
   },
   "source": [
    "## Step 1: Create your Datastore\n",
    "\n",
    "\n",
    "You will need to first create a datastore for your agent using the  /datastores endpoint. A datastore is secure storage for data. Each agent will have it's own datastore for storing data securely."
   ]
  },
  {
   "cell_type": "code",
   "execution_count": null,
   "metadata": {
    "colab": {
     "base_uri": "https://localhost:8080/"
    },
    "id": "wlulbIvjdbZA",
    "outputId": "7029ff7d-193a-4cf1-98e8-0e29451ec446"
   },
   "outputs": [],
   "source": [
    "result = client.datastores.create(name=\"Demo_fin_rag\")\n",
    "datastore_id = result.id\n",
    "print(f\"Datastore ID: {datastore_id}\")"
   ]
  },
  {
   "cell_type": "markdown",
   "metadata": {
    "id": "_IkAep8Vf29_"
   },
   "source": [
    "## Step 2: Ingest Documents into your Datastore\n",
    "\n",
    "You can now ingest documents into your Agent's datastore using the /datastores endpoint. Documents must be a PDF or HTML file.\n",
    "\n",
    "\n",
    "I am using a example PDF. You can also use your own documents here. If you have very long documents (hundreds of pages), processing can take longer."
   ]
  },
  {
   "cell_type": "code",
   "execution_count": null,
   "metadata": {},
   "outputs": [],
   "source": [
    "with open('data/Apple.pdf', 'rb') as f:\n",
    "    ingestion_result = client.datastores.documents.ingest(datastore_id, file=f)\n",
    "    document_id = ingestion_result.id\n",
    "    print(f\"Successfully uploaded to datastore {datastore_id}\")"
   ]
  },
  {
   "cell_type": "markdown",
   "metadata": {
    "id": "9mZdyD5cK8lc"
   },
   "source": [
    "Once ingested, you can view the list of documents, see their metadata, and also delete documents."
   ]
  },
  {
   "cell_type": "code",
   "execution_count": null,
   "metadata": {
    "id": "j78jlN1_lIbM"
   },
   "outputs": [],
   "source": [
    "metadata = client.datastores.documents.metadata(datastore_id = datastore_id, document_id = document_id)\n",
    "print(\"Document metadata:\", metadata)"
   ]
  },
  {
   "cell_type": "markdown",
   "metadata": {
    "id": "IcTyR5QeHw7z"
   },
   "source": [
    "## Step 3: Create your Agent\n",
    "\n",
    "Next let's create the Agent and modify it to our needs.\n"
   ]
  },
  {
   "cell_type": "markdown",
   "metadata": {
    "id": "sr4jmjF_LtTp"
   },
   "source": [
    "Some additional parameters include setting a system prompt or using a previously tuned model.\n",
    "\n",
    "`system_prompt` is used for the instructions that your RAG system references when generating responses. Note that we do not guarantee that the system will follow these instructions exactly.\n",
    "\n",
    "`llm_model_id` is the optional model ID of a tuned model to use for generation. Contextual AI will use a default model if none is specified."
   ]
  },
  {
   "cell_type": "code",
   "execution_count": 7,
   "metadata": {
    "id": "r5jsWXpBPLtx"
   },
   "outputs": [],
   "source": [
    "system_prompt = '''\n",
    "You are an AI assistant specialized in financial analysis and reporting. Your responses should be precise, accurate, and sourced exclusively from official financial documentation provided to you. Please follow these guidelines:\n",
    "\n",
    "Data Analysis & Response Quality:\n",
    "* Only use information explicitly stated in provided documentation (e.g., earnings releases, financial statements, investor presentations)\n",
    "* Present comparative analyses using structured formats with tables and bullet points where appropriate\n",
    "* Include specific period-over-period comparisons (quarter-over-quarter, year-over-year) when relevant\n",
    "* Maintain consistency in numerical presentations (e.g., consistent units, decimal places)\n",
    "* Flag any one-time items or special charges that impact comparability\n",
    "\n",
    "Technical Accuracy:\n",
    "* Use industry-standard financial terminology\n",
    "* Define specialized acronyms on first use\n",
    "* Never interchange distinct financial terms (e.g., revenue, profit, income, cash flow)\n",
    "* Always include units with numerical values\n",
    "* Pay attention to fiscal vs. calendar year distinctions\n",
    "* Present monetary values with appropriate scale (millions/billions)\n",
    "\n",
    "Response Format:\n",
    "* Begin with a high-level summary of key findings when analyzing data\n",
    "* Structure detailed analyses in clear, hierarchical formats\n",
    "* Use markdown for lists, tables, and emphasized text\n",
    "* Maintain a professional, analytical tone\n",
    "* Present quantitative data in consistent formats (e.g., basis points for ratios)\n",
    "\n",
    "Critical Guidelines:\n",
    "* Avoid opinions, speculation, or assumptions\n",
    "* If information is unavailable or irrelevant, clearly state this without additional commentary\n",
    "* Answer questions directly, then stop\n",
    "* Do not reference source document names or file types in responses\n",
    "* Focus only on information that directly answers the query\n",
    "\n",
    "For any analysis, provide comprehensive insights using all relevant available information while maintaining strict adherence to these guidelines and focusing on delivering clear, actionable information.\n",
    "'''\n"
   ]
  },
  {
   "cell_type": "markdown",
   "metadata": {},
   "source": [
    "Let's create our agent. "
   ]
  },
  {
   "cell_type": "code",
   "execution_count": null,
   "metadata": {
    "colab": {
     "base_uri": "https://localhost:8080/"
    },
    "id": "ymCcfHR1Lra6",
    "outputId": "310369a2-90a6-4b40-e3f1-fcc90f117d2f"
   },
   "outputs": [],
   "source": [
    "app_response = client.agents.create(\n",
    "    name=\"Demo-Finance Forward Looking\",\n",
    "    description=\"Research Agent using only Historical Information\",\n",
    "    system_prompt=system_prompt,\n",
    "    datastore_ids=[datastore_id]\n",
    ")\n",
    "agent_id= app_response.id\n",
    "print(f\"Agent ID created: {agent_id}\")"
   ]
  },
  {
   "cell_type": "markdown",
   "metadata": {
    "id": "WFq4oMe9gMuz"
   },
   "source": [
    "## Step 4: Query your Agent\n",
    "\n",
    "Let's query our agent to see if its working. The required information is the agent_id and messages.  \n",
    "\n",
    "Optional information includes parameters for streaming, conversation_id, and model_id if using a different fine tuned model."
   ]
  },
  {
   "cell_type": "markdown",
   "metadata": {
    "id": "QOW94UdMySbp"
   },
   "source": [
    "**Note:** It may take a few minutes for the document to be ingested and processed. The Assistant will give a detailed answer once the documents are ingested."
   ]
  },
  {
   "cell_type": "code",
   "execution_count": null,
   "metadata": {
    "colab": {
     "base_uri": "https://localhost:8080/"
    },
    "id": "wE4d616-rseT",
    "outputId": "dc58d319-0ef6-4d2a-ea30-5d2d8e109db3"
   },
   "outputs": [],
   "source": [
    "query_result = client.agents.query.create(\n",
    "    agent_id=agent_id,\n",
    "    messages=[{\n",
    "        \"content\": \"what was the sales for Apple in 2022\",\n",
    "        \"role\": \"user\"\n",
    "    }]\n",
    ")\n",
    "print(query_result.message.content)"
   ]
  },
  {
   "cell_type": "markdown",
   "metadata": {
    "id": "yKAmujbKgUBj"
   },
   "source": [
    "## Next Steps\n",
    "\n",
    "In this Notebook, you have started with creating a RAG agent in the finance domain. Check out our other notebooks for a deeper dive into the COntextual AI platform, including how you evaluate and tune your agent. Finally, reach out to your account team if you have further questions or issues."
   ]
  }
 ],
 "metadata": {
  "colab": {
   "provenance": [],
   "toc_visible": true
  },
  "kernelspec": {
   "display_name": "3.10.16",
   "language": "python",
   "name": "python3"
  },
  "language_info": {
   "codemirror_mode": {
    "name": "ipython",
    "version": 3
   },
   "file_extension": ".py",
   "mimetype": "text/x-python",
   "name": "python",
   "nbconvert_exporter": "python",
   "pygments_lexer": "ipython3",
   "version": "3.10.16"
  }
 },
 "nbformat": 4,
 "nbformat_minor": 0
}
