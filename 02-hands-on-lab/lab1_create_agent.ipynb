{
 "cells": [
  {
   "cell_type": "markdown",
   "metadata": {},
   "source": [
    "<img src=\"https://imagedelivery.net/Dr98IMl5gQ9tPkFM5JRcng/3e5f6fbd-9bc6-4aa1-368e-e8bb1d6ca100/Ultra\" alt=\"Image description\" width=\"160\" />\n",
    "\n",
    "<br/>\n",
    "\n",
    "# Lab 1: Create an Agent and Datastore\n",
    "\n",
    "Contextual AI lets you create and use generative AI agents. This notebook introduces an end-to-end example workflow for creating a Retrieval-Augmented Generation (RAG) agent for a financial use case. The agent will answer questions based on the documents provided, but avoid any forward looking statements, e.g., Tell me about sales in 2028. This notebook uses the python client.\n",
    "\n",
    "This notebook covers the following steps:\n",
    "- Creating a Datastore\n",
    "- Ingesting Documents\n",
    "- Creating an RAG Agent\n",
    "- Querying an RAG Agent\n",
    "\n",
    "The full documentation is available at [docs.contextual.ai](https://docs.contextual.ai/)\n",
    "\n",
    "[![Open In Colab](https://colab.research.google.com/assets/colab-badge.svg)](https://colab.research.google.com/github/ContextualAI/examples/blob/main/02-hands-on-lab/lab1_create_agent.ipynb)"
   ]
  },
  {
   "cell_type": "markdown",
   "metadata": {},
   "source": [
    "## Prerequisites:\n",
    "\n",
    "- API key, please contact Contextual AI's sales team to get your API key.\n",
    "\n",
    "- Data files, this demo also uses 3 files, an ingested document, evaluation dataset, and a training dataset. These are toy datasets to illustrate the functionality of the platform.\n",
    "\n",
    "      Ingestion: `Apple.pdf`\n",
    "\n",
    "      Evaluation: `eval_short.csv`\n",
    "\n",
    "      Training: `fin_train.jsonl`\n",
    "\n",
    "- To use the python client `pip install --pre contextual-client`"
   ]
  },
  {
   "cell_type": "markdown",
   "metadata": {
    "id": "nw_6FO_hh3aM"
   },
   "source": [
    "### Lab 1: Creating a Datastore and an Agent"
   ]
  },
  {
   "cell_type": "markdown",
   "metadata": {},
   "source": [
    "First we'll setup the contextual [python sdk](https://github.com/ContextualAI/contextual-client-python) 🐍:"
   ]
  },
  {
   "cell_type": "code",
   "execution_count": null,
   "metadata": {},
   "outputs": [],
   "source": [
    "!pip install contextual-client"
   ]
  },
  {
   "cell_type": "code",
   "execution_count": 3,
   "metadata": {},
   "outputs": [],
   "source": [
    "import os\n",
    "import requests\n",
    "from contextual import ContextualAI\n",
    "from IPython.display import display, Markdown"
   ]
  },
  {
   "cell_type": "markdown",
   "metadata": {},
   "source": [
    "🔑 Replace \"your_api_key\" with your actual API key 👇🏼"
   ]
  },
  {
   "cell_type": "code",
   "execution_count": 8,
   "metadata": {},
   "outputs": [],
   "source": [
    "API_KEY = \"key-...\""
   ]
  },
  {
   "cell_type": "code",
   "execution_count": 3,
   "metadata": {
    "id": "4wJG66VTIQvO"
   },
   "outputs": [],
   "source": [
    "contextual = ContextualAI(\n",
    "    api_key=API_KEY,  # This is the default and can be omitted\n",
    ")"
   ]
  },
  {
   "cell_type": "markdown",
   "metadata": {
    "id": "lcqh_-j1MzCn"
   },
   "source": [
    "### Step 1: Create your Datastore\n",
    "\n",
    "\n",
    "You will need to first create a datastore for your agent. A datastore is secure storage for unstructured data (documents). Each agent can have one or more datastores for storing data securely."
   ]
  },
  {
   "cell_type": "code",
   "execution_count": 4,
   "metadata": {
    "colab": {
     "base_uri": "https://localhost:8080/"
    },
    "id": "wlulbIvjdbZA",
    "outputId": "7029ff7d-193a-4cf1-98e8-0e29451ec446"
   },
   "outputs": [
    {
     "name": "stdout",
     "output_type": "stream",
     "text": [
      "Datastore successfully created with ID: 5ee7e13c-871f-406e-85e9-1cbc49679ec9\n"
     ]
    }
   ],
   "source": [
    "result = contextual.datastores.create(name=\"financial_research_datastore\")\n",
    "datastore_id = result.id\n",
    "print(f\"Datastore successfully created with ID: {datastore_id}\")"
   ]
  },
  {
   "cell_type": "code",
   "execution_count": null,
   "metadata": {},
   "outputs": [],
   "source": [
    "print(f\"Click on the 🔗 to see your datastore: https://app.contextual.ai/ctx/datastores/{datastore_id}\")"
   ]
  },
  {
   "cell_type": "markdown",
   "metadata": {
    "id": "_IkAep8Vf29_"
   },
   "source": [
    "### Step 2: Ingest Documents into your Datastore\n",
    "\n",
    "You can now ingest documents into your Agent's datastore using the /datastores endpoint. Documents must be a PDF or HTML file.\n",
    "\n",
    "\n",
    "I am using a example PDF. You can also use your own documents here. If you have very long documents (hundreds of pages), processing can take longer."
   ]
  },
  {
   "cell_type": "code",
   "execution_count": null,
   "metadata": {},
   "outputs": [],
   "source": [
    "if not os.path.exists('data/Apple.pdf'):\n",
    "    print(f\"Fetching data/Apple.pdf\")\n",
    "    response = requests.get(\"https://raw.githubusercontent.com/ContextualAI/examples/refs/heads/main/02-hands-on-lab/data/Apple.pdf\")\n",
    "    with open('data/Apple.pdf', 'wb') as f:\n",
    "        f.write(response.content)"
   ]
  },
  {
   "cell_type": "code",
   "execution_count": 6,
   "metadata": {},
   "outputs": [
    {
     "name": "stdout",
     "output_type": "stream",
     "text": [
      "Successfully uploaded to datastore document with ID: 5ee7e13c-871f-406e-85e9-1cbc49679ec9\n"
     ]
    }
   ],
   "source": [
    "with open('data/Apple.pdf', 'rb') as f:\n",
    "    ingestion_result = contextual.datastores.documents.ingest(datastore_id, file=f)\n",
    "    document_id = ingestion_result.id\n",
    "    print(f\"Successfully uploaded to datastore document with ID: {datastore_id}\")"
   ]
  },
  {
   "cell_type": "markdown",
   "metadata": {
    "id": "9mZdyD5cK8lc"
   },
   "source": [
    "Once ingested, you can view the list of documents, see their metadata, and also delete documents."
   ]
  },
  {
   "cell_type": "code",
   "execution_count": 13,
   "metadata": {
    "id": "j78jlN1_lIbM"
   },
   "outputs": [
    {
     "name": "stdout",
     "output_type": "stream",
     "text": [
      "Document metadata: DocumentMetadata(id='5260268c-6891-41ba-a1b4-391cee6afd5a', name='Apple.pdf', status='processing')\n"
     ]
    }
   ],
   "source": [
    "metadata = contextual.datastores.documents.metadata(datastore_id = datastore_id, document_id = document_id)\n",
    "print(\"Document metadata:\", metadata)"
   ]
  },
  {
   "cell_type": "code",
   "execution_count": 18,
   "metadata": {},
   "outputs": [
    {
     "name": "stdout",
     "output_type": "stream",
     "text": [
      "Click on the 🔗 to see your document status: https://app.contextual.ai/ctx/datastores/5ee7e13c-871f-406e-85e9-1cbc49679ec9\n"
     ]
    }
   ],
   "source": [
    "print(f\"Click on the 🔗 to see your document status: https://app.contextual.ai/ctx/datastores/{datastore_id}\")"
   ]
  },
  {
   "cell_type": "markdown",
   "metadata": {},
   "source": [
    "<img src=\"datastore.png\" alt=\"View datastore information in the console\">"
   ]
  },
  {
   "cell_type": "markdown",
   "metadata": {},
   "source": [
    "*Note: make sure the document ingestion status above 👆 shows 'completed' before querying the agent.*"
   ]
  },
  {
   "cell_type": "markdown",
   "metadata": {
    "id": "IcTyR5QeHw7z"
   },
   "source": [
    "### Step 3: Create your Agent\n",
    "\n",
    "Next let's create the Agent and modify it to our needs.\n",
    "\n",
    "Some additional parameters include setting a system prompt or using a previously tuned model.\n",
    "\n",
    "`system_prompt` is used for the instructions that your RAG system references when generating responses. Note that we do not guarantee that the system will follow these instructions exactly."
   ]
  },
  {
   "cell_type": "code",
   "execution_count": 9,
   "metadata": {
    "id": "r5jsWXpBPLtx"
   },
   "outputs": [],
   "source": [
    "system_prompt = '''\n",
    "You are an AI assistant specialized in financial analysis and reporting. Your responses should be precise, accurate, and sourced exclusively from official financial documentation provided to you. Please follow these guidelines:\n",
    "\n",
    "Data Analysis & Response Quality:\n",
    "* Only use information explicitly stated in provided documentation (e.g., earnings releases, financial statements, investor presentations)\n",
    "* Present comparative analyses using structured formats with tables and bullet points where appropriate\n",
    "* Include specific period-over-period comparisons (quarter-over-quarter, year-over-year) when relevant\n",
    "* Maintain consistency in numerical presentations (e.g., consistent units, decimal places)\n",
    "* Flag any one-time items or special charges that impact comparability\n",
    "\n",
    "Technical Accuracy:\n",
    "* Use industry-standard financial terminology\n",
    "* Define specialized acronyms on first use\n",
    "* Never interchange distinct financial terms (e.g., revenue, profit, income, cash flow)\n",
    "* Always include units with numerical values\n",
    "* Pay attention to fiscal vs. calendar year distinctions\n",
    "* Present monetary values with appropriate scale (millions/billions)\n",
    "\n",
    "Response Format:\n",
    "* Begin with a high-level summary of key findings when analyzing data\n",
    "* Structure detailed analyses in clear, hierarchical formats\n",
    "* Use markdown for lists, tables, and emphasized text\n",
    "* Maintain a professional, analytical tone\n",
    "* Present quantitative data in consistent formats (e.g., basis points for ratios)\n",
    "\n",
    "Critical Guidelines:\n",
    "* Avoid opinions, speculation, or assumptions\n",
    "* If information is unavailable or irrelevant, clearly state this without additional commentary\n",
    "* Answer questions directly, then stop\n",
    "* Do not reference source document names or file types in responses\n",
    "* Focus only on information that directly answers the query\n",
    "\n",
    "For any analysis, provide comprehensive insights using all relevant available information while maintaining strict adherence to these guidelines and focusing on delivering clear, actionable information.\n",
    "'''\n"
   ]
  },
  {
   "cell_type": "markdown",
   "metadata": {},
   "source": [
    "Now are ready to create our RAG agent. "
   ]
  },
  {
   "cell_type": "code",
   "execution_count": 10,
   "metadata": {
    "colab": {
     "base_uri": "https://localhost:8080/"
    },
    "id": "ymCcfHR1Lra6",
    "outputId": "310369a2-90a6-4b40-e3f1-fcc90f117d2f"
   },
   "outputs": [
    {
     "name": "stdout",
     "output_type": "stream",
     "text": [
      "Agent created successfully with ID: faf2cc13-a503-40e1-adc9-432b977d9b4a\n"
     ]
    }
   ],
   "source": [
    "app_response = contextual.agents.create(\n",
    "    name=\"Financial Research Agent\",\n",
    "    description=\"Research Agent using only Historical Information\",\n",
    "    system_prompt=system_prompt,\n",
    "    datastore_ids=[datastore_id]\n",
    ")\n",
    "agent_id= app_response.id\n",
    "print(f\"Agent created successfully with ID: {agent_id}\")"
   ]
  },
  {
   "cell_type": "markdown",
   "metadata": {
    "id": "WFq4oMe9gMuz"
   },
   "source": [
    "### Step 4: Query your Agent\n",
    "\n",
    "Let's query our agent to see if its working and whether the answer provided is correct.\n",
    "\n",
    "*Note: It may take a few minutes for the document to be ingested and processed. The Assistant will give a detailed answer once the documents are ingested.*"
   ]
  },
  {
   "cell_type": "code",
   "execution_count": 21,
   "metadata": {
    "colab": {
     "base_uri": "https://localhost:8080/"
    },
    "id": "wE4d616-rseT",
    "outputId": "dc58d319-0ef6-4d2a-ea30-5d2d8e109db3"
   },
   "outputs": [
    {
     "data": {
      "text/markdown": [
       "**Revenue Analysis for Apple in 2022**\n",
       "\n",
       "Based on the provided financial documentation, here is the revenue analysis for Apple in 2022:\n",
       "\n",
       "**Total Revenue:**\n",
       "\n",
       "* For the three months ended December 31, 2022: **$117,154 million**[1]()[2]()\n",
       "* For the three months ended December 25, 2021: **$123,945 million**[1]()[2]()\n",
       "\n",
       "**Revenue Breakdown:**\n",
       "\n",
       "* **Products:**\n",
       "\t+ iPhone: $65,775 million (December 31, 2022) vs.[1]() $71,628 million (December 25, 2021)[1]()\n",
       "\t+ Mac: $7,735 million (December 31, 2022) vs.[1]() $10,852 million (December 25, 2021)[1]()\n",
       "\t+ iPad: $9,396 million (December 31, 2022) vs.[1]() $7,248 million (December 25, 2021)[1]()\n",
       "\t+ Wearables, Home and Accessories: $13,482 million (December 31, 2022) vs.[1]() $14,701 million (December 25, 2021)[1]()\n",
       "* **Services:**\n",
       "\t+ Total Services Revenue: $20,766 million (December 31, 2022) vs.[1]()[2]() $19,516 million (December 25, 2021)[1]()[2]()\n",
       "\n",
       "**Year-over-Year (YoY) Comparison:**\n",
       "\n",
       "* Total Revenue: -5.5% YoY decrease[1]()[2]()\n",
       "* Products Revenue: -7.6% YoY decrease[2]()\n",
       "* Services Revenue: 6.5% YoY increase"
      ],
      "text/plain": [
       "<IPython.core.display.Markdown object>"
      ]
     },
     "metadata": {},
     "output_type": "display_data"
    }
   ],
   "source": [
    "query_result = contextual.agents.query.create(\n",
    "    agent_id=agent_id,\n",
    "    messages=[{\n",
    "        \"content\": \"what was revenue in for Apple in 2022\",\n",
    "        \"role\": \"user\"\n",
    "    }]\n",
    ")\n",
    "\n",
    "display(Markdown(query_result.message.content))"
   ]
  },
  {
   "cell_type": "markdown",
   "metadata": {},
   "source": [
    "You can also query the agent from the console. To do that click on the following link:"
   ]
  },
  {
   "cell_type": "code",
   "execution_count": 23,
   "metadata": {},
   "outputs": [
    {
     "name": "stdout",
     "output_type": "stream",
     "text": [
      "Click on the 🔗 to query your agent: https://app.contextual.ai/ctx/agents/faf2cc13-a503-40e1-adc9-432b977d9b4a/chat\n"
     ]
    }
   ],
   "source": [
    "print(f\"Click on the 🔗 to query your agent: https://app.contextual.ai/ctx/agents/{agent_id}/chat\")"
   ]
  },
  {
   "cell_type": "markdown",
   "metadata": {},
   "source": [
    "<img src=\"query.png\" alt=\"Query information in the console.\">"
   ]
  },
  {
   "cell_type": "markdown",
   "metadata": {
    "id": "yKAmujbKgUBj"
   },
   "source": [
    "### Next Steps\n",
    "\n",
    "Now lets move on to 👉 [Lab 2](/python/hands-on-lab/lab2_evalulate_agent.ipynb) where we show you how to evaluate the accuracy of your RAG agent.\n"
   ]
  }
 ],
 "metadata": {
  "colab": {
   "provenance": [],
   "toc_visible": true
  },
  "kernelspec": {
   "display_name": "Python 3 (ipykernel)",
   "language": "python",
   "name": "python3"
  },
  "language_info": {
   "codemirror_mode": {
    "name": "ipython",
    "version": 3
   },
   "file_extension": ".py",
   "mimetype": "text/x-python",
   "name": "python",
   "nbconvert_exporter": "python",
   "pygments_lexer": "ipython3",
   "version": "3.12.8"
  }
 },
 "nbformat": 4,
 "nbformat_minor": 4
}
