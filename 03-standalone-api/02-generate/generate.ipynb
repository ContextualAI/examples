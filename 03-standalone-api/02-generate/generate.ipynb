{
  "cells": [
    {
      "cell_type": "markdown",
      "metadata": {
        "id": "8iPJnDH0HhXB"
      },
      "source": [
        "<img src=\"https://imagedelivery.net/Dr98IMl5gQ9tPkFM5JRcng/3e5f6fbd-9bc6-4aa1-368e-e8bb1d6ca100/Ultra\" alt=\"Image description\" width=\"160\" />\n",
        "\n",
        "<br/>\n",
        "\n",
        "# Using the GLM\n",
        "\n",
        "\n",
        "Contextual AI's GLM (Grounded Language Model) is the most grounded language model in the world, making it the best language model to use for RAG and agentic use cases for which minimizing hallucinations is critical. To learn more about the GLM and the criticality of groundedness in enterprise AI, please see our [blog](https://contextual.ai/blog/).\n",
        "\n",
        "This notebook demonstrates how to use the GLM with the Contextual API directly, our Python SDK, and our Langchain package. We'll use the same example throughout.\n",
        "\n",
        "<br/>\n",
        "\n",
        "[![Open In Colab](https://colab.research.google.com/assets/colab-badge.svg)](https://colab.research.google.com/github/ContextualAI/examples/blob/main/03-standalone-api/02-generate/generate.ipynb)"
      ]
    },
    {
      "cell_type": "markdown",
      "metadata": {
        "id": "29JM_ro71PR2"
      },
      "source": [
        "## Global Variables and Examples\n",
        "\n",
        "First, we will set up the global variables and examples we'll use with each different implementation method."
      ]
    },
    {
      "cell_type": "code",
      "source": [
        "from google.colab import userdata\n",
        "\n",
        "api_key = userdata.get(\"API_TOKEN\")\n",
        "base_url = \"https://api.contextual.ai/v1\"\n",
        "generate_api_endpoint = f\"{base_url}/generate\""
      ],
      "metadata": {
        "id": "o-o5xUaOhwDu"
      },
      "execution_count": null,
      "outputs": []
    },
    {
      "cell_type": "code",
      "execution_count": null,
      "metadata": {
        "id": "lOYFDTFHVeA6"
      },
      "outputs": [],
      "source": [
        "# Example conversation messages\n",
        "messages = [\n",
        "    {\n",
        "        \"role\": \"user\",\n",
        "        \"content\": \"What are the most promising renewable energy technologies for addressing climate change in developing nations?\"\n",
        "    },\n",
        "    {\n",
        "        \"role\": \"assistant\",\n",
        "        \"content\": \"Based on current research, solar and wind power show significant potential for developing nations due to decreasing costs and scalability. Would you like to know more about specific implementation challenges and success stories?\"\n",
        "    },\n",
        "    {\n",
        "        \"role\": \"user\",\n",
        "        \"content\": \"Yes, please tell me about successful solar implementations in Africa and their economic impact, particularly focusing on rural electrification.\"\n",
        "    }\n",
        "]\n",
        "\n",
        "\n",
        "# Detailed knowledge sources with varied information\n",
        "knowledge = [\n",
        "    \"\"\"According to the International Renewable Energy Agency (IRENA) 2023 report:\n",
        "    - Solar PV installations in Africa reached 10.4 GW in 2022\n",
        "    - The cost of solar PV modules decreased by 80% between 2010 and 2022\n",
        "    - Rural electrification projects have provided power to 17 million households\"\"\",\n",
        "\n",
        "    \"\"\"Case Study: Rural Electrification in Kenya (2020-2023)\n",
        "    - 2.5 million households connected through mini-grid systems\n",
        "    - Average household income increased by 35% after electrification\n",
        "    - Local businesses reported 47% growth in revenue\n",
        "    - Education outcomes improved with 3 additional study hours per day\"\"\",\n",
        "\n",
        "    \"\"\"Economic Analysis of Solar Projects in Sub-Saharan Africa:\n",
        "    - Job creation: 25 jobs per MW of installed capacity\n",
        "    - ROI average of 12-15% for mini-grid projects\n",
        "    - Reduced energy costs by 60% compared to diesel generators\n",
        "    - Carbon emissions reduction: 2.3 million tonnes CO2 equivalent\"\"\",\n",
        "\n",
        "    \"\"\"Technical Specifications and Best Practices:\n",
        "    - Optimal solar panel efficiency in African climate conditions: 15-22%\n",
        "    - Battery storage requirements: 4-8 kWh per household\n",
        "    - Maintenance costs: $0.02-0.04 per kWh\n",
        "    - Expected system lifetime: 20-25 years\"\"\",\n",
        "\n",
        "    \"\"\"Social Impact Assessment:\n",
        "    - Women-led businesses increased by 45% in electrified areas\n",
        "    - Healthcare facilities reported 72% improvement in service delivery\n",
        "    - Mobile money usage increased by 60%\n",
        "    - Agricultural productivity improved by 28% with electric irrigation\"\"\"\n",
        "]"
      ]
    },
    {
      "cell_type": "markdown",
      "metadata": {
        "id": "lcqh_-j1MzCn"
      },
      "source": [
        "## Direct API implementation\n",
        "\n",
        "You can use our API directly with the `requests` package. See [docs.contextual.ai](https://docs.contextual.ai/reference/generate_generate_post) for details.\n"
      ]
    },
    {
      "cell_type": "code",
      "source": [
        "import requests\n",
        "\n",
        "headers = {\n",
        "    \"accept\": \"application/json\",\n",
        "    \"content-type\": \"application/json\",\n",
        "    \"authorization\": f\"Bearer {api_key}\"\n",
        "}"
      ],
      "metadata": {
        "id": "mnElOk9mhDLD"
      },
      "execution_count": null,
      "outputs": []
    },
    {
      "cell_type": "code",
      "source": [
        "payload = {\n",
        "    \"model\": \"v1\",\n",
        "    \"messages\": messages,\n",
        "    \"knowledge\": knowledge,\n",
        "    \"avoid_commentary\": False,\n",
        "    \"max_new_tokens\": 1024,\n",
        "    \"temperature\": 0,\n",
        "    \"top_p\": 0.9\n",
        "}\n",
        "\n",
        "generate_response = requests.post(generate_api_endpoint, json=payload, headers=headers)\n",
        "\n",
        "print(generate_response.json()['response'])"
      ],
      "metadata": {
        "colab": {
          "base_uri": "https://localhost:8080/"
        },
        "id": "JCpvoaYeiXQb",
        "outputId": "9259044f-a3b9-4a74-c269-f8639e6fb293"
      },
      "execution_count": null,
      "outputs": [
        {
          "output_type": "stream",
          "name": "stdout",
          "text": [
            "Let me share the current state of solar energy in Africa, focusing on rural electrification and its economic impact:\n",
            "\n",
            "Africa has seen significant solar PV adoption, with total installations reaching 10.4 GW as of 2022, supported by an 80% decrease in solar PV module costs between 2010 and 2022.\n",
            "\n",
            "The impact on rural communities has been particularly noteworthy:\n",
            "\n",
            "Rural electrification initiatives have already connected 17 million households to power. A specific case study in Kenya (2020-2023) demonstrated impressive results:\n",
            "- 2.5 million households were connected through mini-grid systems\n",
            "- Average household income increased by 35%\n",
            "- Local businesses saw 47% revenue growth\n",
            "- Students gained 3 additional study hours per day\n",
            "\n",
            "The economic benefits extend beyond household income:\n",
            "\n",
            "The solar industry has created substantial economic opportunities:\n",
            "- Each MW of installed capacity generates 25 jobs\n",
            "- Mini-grid projects typically achieve 12-15% ROI\n",
            "- Energy costs have been reduced by 60% compared to diesel generators\n",
            "- The projects have resulted in 2.3 million tonnes CO2 equivalent in emissions reduction\n",
            "\n",
            "The social impact has been particularly significant:\n",
            "\n",
            "The data shows:\n",
            "- 45% increase in women-led businesses\n",
            "- 72% improvement in healthcare service delivery\n",
            "- 60% increase in mobile money usage\n",
            "- 28% improvement in agricultural productivity with electric irrigation\n"
          ]
        }
      ]
    },
    {
      "cell_type": "markdown",
      "metadata": {
        "id": "TBNaPz90tgAQ"
      },
      "source": [
        "## Python SDK\n",
        "\n",
        "We also have a [Python SDK](https://github.com/ContextualAI/contextual-client-python/blob/main/api.md#generate)."
      ]
    },
    {
      "cell_type": "code",
      "source": [
        "try:\n",
        "  from contextual import ContextualAI\n",
        "except:\n",
        "  %pip install contextual-client\n",
        "  from contextual import ContextualAI\n",
        "\n",
        "client = ContextualAI (api_key = api_key, base_url = base_url)"
      ],
      "metadata": {
        "id": "YCAEcszVhT0E"
      },
      "execution_count": null,
      "outputs": []
    },
    {
      "cell_type": "code",
      "source": [
        "generate_response = client.generate.create(\n",
        "    model=\"v1\",\n",
        "    messages=messages,\n",
        "    knowledge=knowledge,\n",
        "    avoid_commentary=False,\n",
        "    max_new_tokens=1024,\n",
        "    temperature=0,\n",
        "    top_p=0.9\n",
        ")\n",
        "\n",
        "print(generate_response.response)"
      ],
      "metadata": {
        "colab": {
          "base_uri": "https://localhost:8080/"
        },
        "id": "ert_nYl-kHNm",
        "outputId": "fdd66fed-aa2f-448f-f803-794b4b281752"
      },
      "execution_count": null,
      "outputs": [
        {
          "output_type": "stream",
          "name": "stdout",
          "text": [
            "Let me share the current state of solar energy in Africa, focusing on rural electrification and its economic impact:\n",
            "\n",
            "Africa has seen significant solar PV adoption, with total installations reaching 10.4 GW as of 2022, supported by an 80% decrease in solar PV module costs between 2010 and 2022.\n",
            "\n",
            "The impact on rural communities has been particularly noteworthy:\n",
            "\n",
            "Rural electrification initiatives have already connected 17 million households to power. A specific case study in Kenya (2020-2023) demonstrated impressive results:\n",
            "- 2.5 million households were connected through mini-grid systems\n",
            "- Average household income increased by 35%\n",
            "- Local businesses saw 47% revenue growth\n",
            "- Students gained 3 additional study hours per day\n",
            "\n",
            "The economic benefits extend beyond household income:\n",
            "\n",
            "The solar industry has created substantial economic opportunities:\n",
            "- Each MW of installed capacity generates 25 jobs\n",
            "- Mini-grid projects typically achieve 12-15% ROI\n",
            "- Energy costs have been reduced by 60% compared to diesel generators\n",
            "- The projects have resulted in 2.3 million tonnes CO2 equivalent in emissions reduction\n",
            "\n",
            "The social impact has been particularly significant:\n",
            "\n",
            "The data shows:\n",
            "- 45% increase in women-led businesses\n",
            "- 72% improvement in healthcare service delivery\n",
            "- 60% increase in mobile money usage\n",
            "- 28% improvement in agricultural productivity with electric irrigation\n"
          ]
        }
      ]
    },
    {
      "cell_type": "code",
      "source": [
        "print(generate_response.attributions)"
      ],
      "metadata": {
        "id": "FES6Vyh5xWGE"
      },
      "execution_count": null,
      "outputs": []
    },
    {
      "cell_type": "markdown",
      "metadata": {
        "id": "jpS99F8itgAQ"
      },
      "source": [
        "## Langchain\n",
        "\n",
        "We also have a Langchain package. See details [here](https://pypi.org/project/langchain-contextual/)."
      ]
    },
    {
      "cell_type": "code",
      "source": [
        "try:\n",
        "  from langchain_contextual import ChatContextual\n",
        "except:\n",
        "  %pip install langchain-contextual\n",
        "  from langchain_contextual import ChatContextual\n",
        "\n",
        "# intialize Contextual llm via langchain_contextual\n",
        "llm = ChatContextual(\n",
        "    model=\"v1\",\n",
        "    api_key=api_key,\n",
        ")"
      ],
      "metadata": {
        "id": "6Ykml3Iamco5"
      },
      "execution_count": null,
      "outputs": []
    },
    {
      "cell_type": "code",
      "source": [
        "ai_msg = llm.invoke(\n",
        "    messages,\n",
        "    knowledge=knowledge,\n",
        "    avoid_commentary=False,\n",
        "    max_new_tokens=1024,\n",
        "    temperature=0,\n",
        "    top_p=0.9\n",
        ")\n",
        "\n",
        "print(ai_msg.content)"
      ],
      "metadata": {
        "colab": {
          "base_uri": "https://localhost:8080/"
        },
        "id": "NBN9lPJ6XS5d",
        "outputId": "70532c1e-5ffd-4bfb-8bdf-e7faf97f57a1"
      },
      "execution_count": null,
      "outputs": [
        {
          "output_type": "stream",
          "name": "stdout",
          "text": [
            "Let me share the current state of solar energy in Africa, focusing on rural electrification and its economic impact:\n",
            "\n",
            "Africa has seen significant solar PV adoption, with total installations reaching 10.4 GW as of 2022, supported by an 80% decrease in solar PV module costs between 2010 and 2022.\n",
            "\n",
            "The impact on rural communities has been particularly noteworthy:\n",
            "\n",
            "Rural electrification initiatives have already connected 17 million households to power. A specific case study in Kenya (2020-2023) demonstrated impressive results:\n",
            "- 2.5 million households were connected through mini-grid systems\n",
            "- Average household income increased by 35%\n",
            "- Local businesses saw 47% revenue growth\n",
            "- Students gained 3 additional study hours per day\n",
            "\n",
            "The economic benefits extend beyond household income:\n",
            "\n",
            "The solar industry has created substantial economic opportunities:\n",
            "- Each MW of installed capacity generates 25 jobs\n",
            "- Mini-grid projects typically achieve 12-15% ROI\n",
            "- Energy costs have been reduced by 60% compared to diesel generators\n",
            "- The projects have resulted in 2.3 million tonnes CO2 equivalent in emissions reduction\n",
            "\n",
            "The social impact has been particularly significant:\n",
            "\n",
            "The data shows:\n",
            "- 45% increase in women-led businesses\n",
            "- 72% improvement in healthcare service delivery\n",
            "- 60% increase in mobile money usage\n",
            "- 28% improvement in agricultural productivity with electric irrigation\n"
          ]
        }
      ]
    },
    {
      "cell_type": "markdown",
      "source": [
        "# Multi-Turn Conversations\n",
        "\n",
        "The Grounded Language Model (GLM) supports multi-turn conversations, but with an important consideration: the model is stateless and knowledge does not automatically persist between turns. This means:\n",
        "\n",
        "- To continue a conversation using the same knowledge: You must provide your knowledge array again with each new request.\n",
        "- To continue a conversation with additional information: You must combine your existing knowledge array with the new information and provide the complete updated array.\n",
        "\n",
        "Remember that the GLM relies entirely on the knowledge you explicitly provide in each request, as it prioritizes these facts over its parametric knowledge."
      ],
      "metadata": {
        "id": "rYE56dCu9_-m"
      }
    },
    {
      "cell_type": "code",
      "source": [
        "#@title First Turn of Conversation\n",
        "user_msg_1 = \"Tell me about the Emperor Penguin\"\n",
        "\n",
        "messages_1 = [\n",
        "    {\n",
        "        \"role\": \"user\",\n",
        "        \"content\": user_msg_1\n",
        "    }\n",
        "]\n",
        "\n",
        "knowledge_1 = [\n",
        "    \"Emperor penguins (Aptenodytes forsteri) are the tallest and heaviest of all living penguin species, standing up to 122 cm (48 inches) tall and weighing up to 45 kg (99 pounds).\",\n",
        "    \"Emperor penguins are the only penguin species that breeds during the Antarctic winter, enduring temperatures as low as -60°C (-76°F) and wind speeds up to 200 km/h (124 mph).\",\n",
        "    \"Male Emperor penguins incubate their single egg for about 65-75 days while balancing it on their feet and covering it with a special brood pouch, during which time they don't eat and can lose up to 45% of their body weight.\",\n",
        "    \"Emperor penguins can dive deeper than any other bird, reaching depths of up to 565 meters (1,850 feet) and staying underwater for up to 22 minutes when hunting for fish, squid and krill.\"\n",
        "]\n",
        "\n",
        "response = client.generate.create(\n",
        "    knowledge=knowledge_1,\n",
        "    messages=messages_1,\n",
        "    model=\"v1\",\n",
        ")\n",
        "\n",
        "returned_response = response.to_dict()['response']\n",
        "\n",
        "print(f\"User: {user_msg_1}\\n\\n\")\n",
        "print(f\"Assistant: {returned_response}\")"
      ],
      "metadata": {
        "id": "FNRToScHYQfb",
        "colab": {
          "base_uri": "https://localhost:8080/"
        },
        "outputId": "fc5d032a-4997-4046-fb41-4718944d3083"
      },
      "execution_count": null,
      "outputs": [
        {
          "output_type": "stream",
          "name": "stdout",
          "text": [
            "User: Tell me about the Emperor Penguin\n",
            "\n",
            "\n",
            "Assistant: Let me tell you about the Emperor Penguin's remarkable characteristics and behaviors:\n",
            "\n",
            "Emperor penguins are the largest penguin species, reaching heights of up to 122 cm (48 inches) and weighing up to 45 kg (99 pounds).\n",
            "\n",
            "Their breeding habits are particularly fascinating:\n",
            "\n",
            "They are unique among penguins as they breed during the Antarctic winter, withstanding extreme conditions including:\n",
            "- Temperatures as low as -60°C (-76°F)\n",
            "- Wind speeds up to 200 km/h (124 mph)\n",
            "\n",
            "During breeding, male Emperor penguins take on remarkable parental responsibilities:\n",
            "- They incubate a single egg for 65-75 days\n",
            "- They balance the egg on their feet and cover it with a special brood pouch\n",
            "- During this time, they fast and can lose up to 45% of their body weight\n",
            "\n",
            "Their hunting abilities are equally impressive:\n",
            "\n",
            "Emperor penguins are exceptional divers, capable of:\n",
            "- Reaching depths of up to 565 meters (1,850 feet)\n",
            "- Staying underwater for up to 22 minutes\n",
            "- Hunting for fish, squid, and krill\n"
          ]
        }
      ]
    },
    {
      "cell_type": "code",
      "source": [
        "#@title Second Turn (without Extending Knowledge)\n",
        "user_msg_2 = \"Compare the emperor penguin with the adelie penguin\"\n",
        "messages_2 = [\n",
        "    {\n",
        "        \"role\": \"user\",\n",
        "        \"content\": user_msg_1\n",
        "    },\n",
        "    {\n",
        "        \"role\": \"assistant\",\n",
        "        \"content\": returned_response,\n",
        "    },\n",
        "    {\n",
        "        \"role\": \"user\",\n",
        "        \"content\": user_msg_2\n",
        "    }\n",
        "]\n",
        "knowledge_2 = [\n",
        "  \"Adélie penguins (Pygoscelis adeliae) are named after Adélie Land, a territory in Antarctica discovered by French explorer Jules Dumont d'Urville, who named it after his wife.\",\n",
        "  \"Adélie penguins are one of the most southerly distributed birds and one of only two penguin species that are truly Antarctic (the other being the Emperor penguin), breeding exclusively on the Antarctic continent and nearby islands.\",\n",
        "  \"Adélie penguins build nests made of small stones which they sometimes steal from neighboring nests, and males present these stones as gifts to potential mates during courtship.\",\n",
        "  \"With a distinctive white ring around their eyes, Adélie penguins are excellent swimmers that can travel up to 185 km (115 miles) round trip to forage for food and can reach swimming speeds of up to 45 km/h (28 mph).\"\n",
        "]\n",
        "\n",
        "print('This is turn 2')\n",
        "print(f\"User: {user_msg_2}\\n\\n\")\n",
        "\n",
        "response_2_bad = client.generate.create(\n",
        "    knowledge=knowledge_2,\n",
        "    messages=messages_2,\n",
        "    model='v1',\n",
        ")\n",
        "print(f\"Assistant: {response_2_bad.to_dict()['response']}\")"
      ],
      "metadata": {
        "id": "K_McNEFEYUyS",
        "colab": {
          "base_uri": "https://localhost:8080/"
        },
        "outputId": "edd35d89-6e50-4ce0-d9f8-25b7c911482e"
      },
      "execution_count": null,
      "outputs": [
        {
          "output_type": "stream",
          "name": "stdout",
          "text": [
            "This is turn 2\n",
            "User: Compare the emperor penguin with the adelie penguin\n",
            "\n",
            "\n",
            "Assistant: I can provide some basic comparisons between these two penguin species based on the available information:\n",
            "\n",
            "Both Emperor and Adélie penguins are truly Antarctic species, with Adélie penguins breeding exclusively on the Antarctic continent and nearby islands.\n",
            "\n",
            "Adélie penguins have distinctive physical characteristics, including a white ring around their eyes.\n",
            "\n",
            "Regarding their behavior, Adélie penguins are known to:\n",
            "- Build nests using small stones\n",
            "- Sometimes steal stones from neighboring nests\n",
            "- Use stones as gifts during courtship\n",
            "- Travel up to 185 km (115 miles) for food\n",
            "- Reach swimming speeds of up to 45 km/h (28 mph)\n",
            "\n",
            "I don't have specific information about Emperor penguins in the provided documentation to make a more detailed comparison. If you'd like to know more about Emperor penguins specifically, I'd be happy to share that information if you provide it.\n"
          ]
        }
      ]
    },
    {
      "cell_type": "code",
      "source": [
        "#@title Second Turn (with Extending Knowledge)\n",
        "extended_knowledge = knowledge_1 + knowledge_2\n",
        "\n",
        "print(f\"User: {user_msg_2}\\n\\n\")\n",
        "response_2_good = client.generate.create(\n",
        "    knowledge=extended_knowledge,\n",
        "    messages=messages_2,\n",
        "    model='v1',\n",
        ")\n",
        "\n",
        "print(f\"Assistant: {response_2_good.to_dict()['response']}\")"
      ],
      "metadata": {
        "id": "OYjNOoxEYaV_",
        "colab": {
          "base_uri": "https://localhost:8080/"
        },
        "outputId": "92f3f6f8-1b15-4a85-bc27-06f7cbd2e5fa"
      },
      "execution_count": null,
      "outputs": [
        {
          "output_type": "stream",
          "name": "stdout",
          "text": [
            "User: Compare the emperor penguin with the adelie penguin\n",
            "\n",
            "\n",
            "Assistant: Let me compare these two fascinating penguin species based on the available information:\n",
            "\n",
            "Emperor penguins are the largest penguin species, reaching heights of up to 122 cm (48 inches) and weighing up to 45 kg (99 pounds).\n",
            "\n",
            "Both species are well adapted to extreme Antarctic conditions, with Emperor penguins being the only species that breeds during the Antarctic winter, enduring temperatures as low as -60°C (-76°F) and wind speeds up to 200 km/h (124 mph).\n",
            "\n",
            "Adélie penguins are one of the most southerly distributed birds and, along with Emperor penguins, are truly Antarctic, breeding exclusively on the Antarctic continent and nearby islands.\n",
            "\n",
            "When it comes to breeding behaviors:\n",
            "- Emperor penguins have males incubating eggs for 65-75 days while fasting and losing up to 45% of their body weight\n",
            "- Adélie penguins build nests using small stones, which they sometimes take from neighboring nests\n",
            "\n",
            "In terms of swimming abilities:\n",
            "- Emperor penguins can dive to 565 meters (1,850 feet) and stay underwater for up to 22 minutes\n",
            "- Adélie penguins can travel up to 185 km (115 miles) round trip while foraging and reach swimming speeds of up to 45 km/h (28 mph)\n"
          ]
        }
      ]
    },
    {
      "cell_type": "code",
      "source": [],
      "metadata": {
        "id": "MkoS-zU0VzC5"
      },
      "execution_count": null,
      "outputs": []
    }
  ],
  "metadata": {
    "colab": {
      "provenance": []
    },
    "kernelspec": {
      "display_name": "py3.10",
      "language": "python",
      "name": "python3"
    },
    "language_info": {
      "codemirror_mode": {
        "name": "ipython",
        "version": 3
      },
      "file_extension": ".py",
      "mimetype": "text/x-python",
      "name": "python",
      "nbconvert_exporter": "python",
      "pygments_lexer": "ipython3",
      "version": "3.10.16"
    }
  },
  "nbformat": 4,
  "nbformat_minor": 0
}
