{
 "cells": [
  {
   "cell_type": "markdown",
   "metadata": {
    "vscode": {
     "languageId": "plaintext"
    }
   },
   "source": [
    "# Contextual Reranker\n",
    "\n",
    "\n",
    "<img src=\"https://imagedelivery.net/Dr98IMl5gQ9tPkFM5JRcng/3e5f6fbd-9bc6-4aa1-368e-e8bb1d6ca100/Ultra\" alt=\"Image description\" width=\"160\" />\n",
    "\n",
    "<br/>\n",
    "\n",
    "# Using the Reranker\n",
    "\n",
    "This notebook demonstrates how to use the reranker with the Contextual API directly, our Python SDK, and our Langchain package. We'll use the same example throughout.\n",
    "\n",
    "<br/>\n",
    "\n",
    "[![Open In Colab](https://colab.research.google.com/assets/colab-badge.svg)](https://colab.research.google.com/github/ContextualAI/examples/blob/main/03-standalone-api/03-rerank/rerank.ipynb)"
   ]
  },
  {
   "cell_type": "code",
   "execution_count": null,
   "metadata": {},
   "outputs": [],
   "source": [
    "import os\n",
    "from dotenv import load_dotenv\n",
    "\n",
    "# grab the api key from colab if running in colab\n",
    "# otherwise use the environment variable CONTEXTUAL_API_KEY\n",
    "try:\n",
    " from google.colab import userdata\n",
    " api_key = userdata.get(\"CONTEXTUAL_API_KEY\")\n",
    "except:\n",
    "  load_dotenv()\n",
    "  api_key = os.environ.get(\"CONTEXTUAL_API_KEY\")\n"
   ]
  },
  {
   "cell_type": "markdown",
   "metadata": {},
   "source": [
    "## Standalone API"
   ]
  },
  {
   "cell_type": "code",
   "execution_count": null,
   "metadata": {},
   "outputs": [],
   "source": [
    "documents = [\n",
    "    \"Paris is the capital of France\",\n",
    "    \"Paris is the capital of Spain\",\n",
    "  ]"
   ]
  },
  {
   "cell_type": "code",
   "execution_count": null,
   "metadata": {},
   "outputs": [],
   "source": [
    "try:\n",
    "    import requests\n",
    "except:\n",
    "    %pip install requests\n",
    "    import requests\n",
    "\n",
    "headers = {\n",
    "    \"accept\": \"application/json\",\n",
    "    \"content-type\": \"application/json\",\n",
    "    \"authorization\": f\"Bearer {api_key}\"\n",
    "}\n",
    "\n",
    "base_url = \"https://api.contextual.ai/v1\""
   ]
  },
  {
   "cell_type": "code",
   "execution_count": null,
   "metadata": {},
   "outputs": [],
   "source": [
    "payload = {\n",
    "    \"model\": \"v1\",\n",
    "    \"documents\": documents,\n",
    "    \"query\": \"What is the capital of France?\",\n",
    "    \"model\": \"v1\",\n",
    "}\n",
    "\n",
    "rerank_response = requests.post(f\"{base_url}/rerank\", json=payload, headers=headers)\n",
    "\n",
    "print(rerank_response.json())"
   ]
  },
  {
   "cell_type": "markdown",
   "metadata": {},
   "source": [
    "## Python SDK"
   ]
  },
  {
   "cell_type": "code",
   "execution_count": null,
   "metadata": {},
   "outputs": [],
   "source": [
    "try:\n",
    "  from contextual import ContextualAI\n",
    "except:\n",
    "  %pip install contextual-client\n",
    "  from contextual import ContextualAI\n",
    "\n",
    "client = ContextualAI (api_key = api_key)"
   ]
  },
  {
   "cell_type": "code",
   "execution_count": null,
   "metadata": {},
   "outputs": [],
   "source": [
    "documents = [\n",
    "    \"Paris is the capital of Spain\",\n",
    "    \"Paris is the capital of France\",\n",
    "  ]\n",
    "\n",
    "response = client.rerank.create(\n",
    "  model = \"v1\",\n",
    "  query = \"What is the capital of France?\",\n",
    "  documents = documents\n",
    ")"
   ]
  },
  {
   "cell_type": "code",
   "execution_count": null,
   "metadata": {},
   "outputs": [],
   "source": [
    "# Zip documents with relevance scores for easier reading\n",
    "results = sorted(response.to_dict().get('results'), key=lambda x: x['index'])\n",
    "for i, doc in enumerate(documents):\n",
    "    print(f\"Document: {doc}\")\n",
    "    print(f\"Relevance Score: {results[i]}\\n\")\n"
   ]
  }
 ],
 "metadata": {
  "kernelspec": {
   "display_name": "venv",
   "language": "python",
   "name": "python3"
  },
  "language_info": {
   "codemirror_mode": {
    "name": "ipython",
    "version": 3
   },
   "file_extension": ".py",
   "mimetype": "text/x-python",
   "name": "python",
   "nbconvert_exporter": "python",
   "pygments_lexer": "ipython3",
   "version": "3.11.6"
  }
 },
 "nbformat": 4,
 "nbformat_minor": 2
}
