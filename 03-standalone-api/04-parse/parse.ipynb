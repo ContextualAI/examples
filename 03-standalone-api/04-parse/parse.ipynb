{
 "cells": [
  {
   "cell_type": "markdown",
   "metadata": {
    "id": "02-H04579t8u"
   },
   "source": [
    "# Using the Contextual AI Document Parser\n",
    "\n",
    "This notebook demonstrates how to use `/parse` with the [Contextual API](https://docs.contextual.ai/api-reference/parse/parse-file) directly and our [Python SDK](https://github.com/ContextualAI/contextual-client-python/tree/main). We'll use the same doc, [Attention is All You Need](https://arxiv.org/pdf/1706.03762) for both. Please see our [blog post](https://contextual.ai/blog/...) for more details on its comparative advantages to other parsers.\n",
    "\n",
    "This notebook has 6 major sections:\n",
    "\n",
    "0. Fetch doc and API key\n",
    "1. REST API implementation\n",
    "2. Contextual SDK\n",
    "3. Parse UI\n",
    "4. Output Types\n",
    "5. Section Metadata\n",
    "6. Table Extraction\n",
    "\n",
    "You can run this notebook entirely in Colab:\n",
    "\n",
    "[![Open In Colab](https://colab.research.google.com/assets/colab-badge.svg)](https://colab.research.google.com/github/ContextualAI/examples/blob/main/03-standalone-api/03-parse/parse.ipynb)"
   ]
  },
  {
   "cell_type": "markdown",
   "metadata": {
    "id": "iWm3zGBbAAC7"
   },
   "source": [
    "## 0. Fetch the doc & Set API Key"
   ]
  },
  {
   "cell_type": "markdown",
   "metadata": {
    "id": "Z8aXLCh-UeWR"
   },
   "source": [
    "First, we will fetch the document that we'll use throughout the notebook."
   ]
  },
  {
   "cell_type": "code",
   "execution_count": null,
   "metadata": {
    "id": "y-Xs20pz9Heg"
   },
   "outputs": [],
   "source": [
    "url = \"https://arxiv.org/pdf/1706.03762\""
   ]
  },
  {
   "cell_type": "code",
   "execution_count": null,
   "metadata": {
    "id": "E_riFCPQ9JyI"
   },
   "outputs": [],
   "source": [
    "import requests\n",
    "\n",
    "# Download doc\n",
    "file_path = \"attention-is-all-you-need.pdf\"\n",
    "with open(file_path, \"wb\") as f:\n",
    "    f.write(requests.get(url).content)"
   ]
  },
  {
   "cell_type": "markdown",
   "metadata": {
    "id": "jewW6qJwAKsS"
   },
   "source": [
    "### API Key 🔑"
   ]
  },
  {
   "cell_type": "code",
   "execution_count": null,
   "metadata": {
    "id": "P2Jrcac9AKR2"
   },
   "outputs": [],
   "source": [
    "# Set the API key in the 🔑 pane of google colab\n",
    "from google.colab import userdata\n",
    "api_key = userdata.get('CONTEXTUAL_API_KEY')"
   ]
  },
  {
   "cell_type": "markdown",
   "metadata": {
    "id": "gOxjaakzANCV"
   },
   "source": [
    "# 1. REST API implementation"
   ]
  },
  {
   "cell_type": "markdown",
   "metadata": {
    "id": "hg81EQ9hZsY7"
   },
   "source": [
    "You can use our API directly with the `requests` package. See [docs.contextual.ai](https://docs.contextual.ai/api-reference/parse/parse-file) for details."
   ]
  },
  {
   "cell_type": "code",
   "execution_count": null,
   "metadata": {
    "id": "fwMbaFcv9sRT"
   },
   "outputs": [],
   "source": [
    "import requests\n",
    "import json\n",
    "\n",
    "base_url = \"https://api.contextual.ai/v1\"\n",
    "\n",
    "headers = {\n",
    "    \"accept\": \"application/json\",\n",
    "    \"authorization\": f\"Bearer {api_key}\"\n",
    "}"
   ]
  },
  {
   "cell_type": "markdown",
   "metadata": {
    "id": "Ov3jw3Ir-d0F"
   },
   "source": [
    "## 1.1 Submit Parse Job\n",
    "\n",
    "Next, we'll define the configuration for our parse job and submit it. This initiates an async parse job and returns a `job_id` we can use to monitor progress."
   ]
  },
  {
   "cell_type": "code",
   "execution_count": null,
   "metadata": {
    "colab": {
     "base_uri": "https://localhost:8080/",
     "height": 35
    },
    "id": "ilX_lgcR-LKe",
    "outputId": "86352a3d-172b-490f-907a-168639b23d50"
   },
   "outputs": [],
   "source": [
    "url = f\"{base_url}/parse\"\n",
    "\n",
    "config = {\n",
    "    \"parse_mode\": \"standard\",\n",
    "    \"figure_caption_mode\": \"concise\",\n",
    "    \"enable_document_hierarchy\": True,\n",
    "    \"page_range\": \"0-5\",\n",
    "}\n",
    "\n",
    "with open(file_path, \"rb\") as fp:\n",
    "    file = {\"raw_file\": fp}\n",
    "    result = requests.post(url, headers=headers, data=config, files=file)\n",
    "    response = json.loads(result.text)\n",
    "\n",
    "job_id = response['job_id']\n",
    "job_id"
   ]
  },
  {
   "cell_type": "code",
   "execution_count": null,
   "metadata": {
    "colab": {
     "base_uri": "https://localhost:8080/"
    },
    "id": "Fg-uBKuC-wXD",
    "outputId": "119d7459-a1e3-449a-f0bf-1aa970b3888a"
   },
   "outputs": [],
   "source": [
    "response"
   ]
  },
  {
   "cell_type": "markdown",
   "metadata": {
    "id": "PVrZE0MK-muR"
   },
   "source": [
    "## 1.2 Monitor Job Status\n",
    "\n",
    "Using the `job_id` from above, we can monitor the status of our parse job."
   ]
  },
  {
   "cell_type": "code",
   "execution_count": null,
   "metadata": {
    "colab": {
     "base_uri": "https://localhost:8080/"
    },
    "id": "TmHJiE6G-Ly3",
    "outputId": "ac3e3dab-2944-4b68-c5c1-e5168e9d1ba0"
   },
   "outputs": [],
   "source": [
    "# Check on parse job status\n",
    "from time import sleep\n",
    "\n",
    "url = f\"{base_url}/parse/jobs/{job_id}/status\"\n",
    "\n",
    "while True:\n",
    "    result = requests.get(url, headers=headers)\n",
    "    parse_response = json.loads(result.text)['status']\n",
    "    print(f\"Job is {parse_response}\")\n",
    "    if parse_response == \"completed\":\n",
    "        break\n",
    "    sleep(30)"
   ]
  },
  {
   "cell_type": "markdown",
   "metadata": {
    "id": "9dWLNt3KGS6d"
   },
   "source": [
    "## 1.3 List all jobs\n",
    "\n",
    "If we submit multiple jobs and want to see the status of each of them, then we can use the list jobs api:"
   ]
  },
  {
   "cell_type": "code",
   "execution_count": null,
   "metadata": {
    "colab": {
     "base_uri": "https://localhost:8080/"
    },
    "id": "-jF65e7HGRBu",
    "outputId": "404455ee-bc1f-4fe3-b5bd-e64499d91e91"
   },
   "outputs": [],
   "source": [
    "url = f\"{base_url}/parse/jobs\"\n",
    "\n",
    "result = requests.get(url, headers=headers)\n",
    "parse_response = json.loads(result.text)\n",
    "parse_response"
   ]
  },
  {
   "cell_type": "markdown",
   "metadata": {
    "id": "Peszi92i-qXx"
   },
   "source": [
    "## 1.4 Get Parse results"
   ]
  },
  {
   "cell_type": "code",
   "execution_count": null,
   "metadata": {
    "colab": {
     "base_uri": "https://localhost:8080/"
    },
    "id": "LBzELtL7-M0K",
    "outputId": "59090bcd-34df-495e-bc60-2632bd66d6fe"
   },
   "outputs": [],
   "source": [
    "url = f\"{base_url}/parse/jobs/{job_id}/results\"\n",
    "\n",
    "output_types = [\"markdown-per-page\"]\n",
    "\n",
    "result = requests.get(\n",
    "    url,\n",
    "    headers=headers,\n",
    "    params={\"output_types\": \",\".join(output_types)},\n",
    ")\n",
    "\n",
    "result = json.loads(result.text)\n",
    "from pprint import pprint\n",
    "pprint(result)"
   ]
  },
  {
   "cell_type": "markdown",
   "metadata": {
    "id": "fG0Y_4spJrsp"
   },
   "source": [
    "## 1.5 View Document Hierarchy"
   ]
  },
  {
   "cell_type": "code",
   "execution_count": null,
   "metadata": {
    "colab": {
     "base_uri": "https://localhost:8080/",
     "height": 344
    },
    "id": "sLOQ2sUtJSfQ",
    "outputId": "5903e9db-3106-4808-c06b-ff1db4a16948"
   },
   "outputs": [],
   "source": [
    "from IPython.display import display, Markdown\n",
    "\n",
    "display(Markdown(result['table_of_contents']['markdown']))"
   ]
  },
  {
   "cell_type": "markdown",
   "metadata": {
    "id": "GkT9x62wJodW"
   },
   "source": [
    "## 1.6 Display 1st Page"
   ]
  },
  {
   "cell_type": "code",
   "execution_count": null,
   "metadata": {
    "colab": {
     "base_uri": "https://localhost:8080/",
     "height": 677
    },
    "id": "46ahgvFvJhwP",
    "outputId": "72c3f778-cdde-418f-ee83-c18d5265f54b"
   },
   "outputs": [],
   "source": [
    "from IPython.display import display, Markdown\n",
    "\n",
    "display(Markdown(result['pages'][0]['markdown']))"
   ]
  },
  {
   "cell_type": "markdown",
   "metadata": {
    "id": "tE8agDhjA7jq"
   },
   "source": [
    "# 2. Contextual SDK"
   ]
  },
  {
   "cell_type": "code",
   "execution_count": null,
   "metadata": {
    "id": "AwAcEfQ_A-JM"
   },
   "outputs": [],
   "source": [
    "try:\n",
    "  from contextual import ContextualAI\n",
    "except:\n",
    "  %pip install --upgrade --quiet contextual-client\n",
    "  from contextual import ContextualAI\n",
    "\n",
    "# Setup Contextual Python SDK\n",
    "client = ContextualAI(api_key=api_key)"
   ]
  },
  {
   "cell_type": "markdown",
   "metadata": {
    "id": "dwygsQe0Ep4s"
   },
   "source": [
    "## 2.1 Submit Parse Job"
   ]
  },
  {
   "cell_type": "code",
   "execution_count": null,
   "metadata": {
    "colab": {
     "base_uri": "https://localhost:8080/",
     "height": 0
    },
    "id": "bN-1c2miDN1K",
    "outputId": "e2833e7b-473d-412f-a87b-bc621e00fc1e"
   },
   "outputs": [],
   "source": [
    "with open(file_path, \"rb\") as fp:\n",
    "    response = client.parse.create(\n",
    "        raw_file=fp,\n",
    "        parse_mode=\"standard\",\n",
    "        figure_caption_mode=\"concise\",\n",
    "        enable_document_hierarchy=True,\n",
    "        page_range=\"0-5\",\n",
    "    )\n",
    "\n",
    "job_id = response.job_id\n",
    "job_id"
   ]
  },
  {
   "cell_type": "markdown",
   "metadata": {
    "id": "cqGKdWtGEsut"
   },
   "source": [
    "## 2.2 Monitor Job Status"
   ]
  },
  {
   "cell_type": "code",
   "execution_count": null,
   "metadata": {
    "colab": {
     "base_uri": "https://localhost:8080/"
    },
    "id": "aPLOIz87EwT0",
    "outputId": "0960cdef-e25c-421c-9d2e-a3e1fbd78e3c"
   },
   "outputs": [],
   "source": [
    "# Check on parse job status\n",
    "from time import sleep\n",
    "\n",
    "\n",
    "while True:\n",
    "    result = client.parse.job_status(job_id)\n",
    "    parse_response = result.status\n",
    "    print(f\"Job is {parse_response}\")\n",
    "    if parse_response == \"completed\":\n",
    "        break\n",
    "    sleep(30)"
   ]
  },
  {
   "cell_type": "markdown",
   "metadata": {
    "id": "VasFXM3LFqdQ"
   },
   "source": [
    "## 2.3 Get Job Results"
   ]
  },
  {
   "cell_type": "code",
   "execution_count": null,
   "metadata": {
    "colab": {
     "base_uri": "https://localhost:8080/"
    },
    "id": "-UBHttQEFqzz",
    "outputId": "8fca4aa2-eaed-4363-b20d-2ff95f46ddb2"
   },
   "outputs": [],
   "source": [
    "results = client.parse.job_results(job_id, output_types=['markdown-per-page'])\n",
    "\n",
    "results"
   ]
  },
  {
   "cell_type": "markdown",
   "metadata": {
    "id": "4URev2otqb7j"
   },
   "source": [
    "# 3. Parse UI\n",
    "\n",
    "To see job results in an interactive manner and submit new jobs naviate to the UI using the following link, note you'll need to change `your-tenant-name` to your tenant."
   ]
  },
  {
   "cell_type": "code",
   "execution_count": null,
   "metadata": {
    "colab": {
     "base_uri": "https://localhost:8080/"
    },
    "id": "zZnKJmvxreYS",
    "outputId": "785a3f24-9c30-4d5c-b6a6-419fb249b086"
   },
   "outputs": [],
   "source": [
    "tenant = \"your-tenant-name\"\n",
    "print(f\"https://app.contextual.ai/{tenant}/components/parse?job={job_id}\")"
   ]
  },
  {
   "cell_type": "markdown",
   "metadata": {
    "id": "BL1feiz9ruM5"
   },
   "source": [
    "![Parse UI](parse-ui.png)"
   ]
  },
  {
   "cell_type": "markdown",
   "metadata": {
    "id": "SSwzYe02Hpsq"
   },
   "source": [
    "## 5. Document Hierarchy (Table of Contents)\n",
    "\n",
    "To see the document hierarchy, otherwise known as the table of contents you can run:"
   ]
  },
  {
   "cell_type": "code",
   "execution_count": null,
   "metadata": {
    "colab": {
     "base_uri": "https://localhost:8080/",
     "height": 0
    },
    "id": "kWFijrNBHpA4",
    "outputId": "093cfef7-75a5-45fc-b5e1-05963b2e75ea"
   },
   "outputs": [],
   "source": [
    "from IPython.display import display, Markdown\n",
    "\n",
    "display(Markdown(results.table_of_contents.markdown))"
   ]
  },
  {
   "cell_type": "markdown",
   "metadata": {
    "id": "9Z_33Gz7oEUy"
   },
   "source": [
    "# 4. Output Types\n",
    "\n",
    "You can set the desired output format(s) of the parsed file using the `output_types` parameter. Must be `markdown-document`, `markdown-per-page`, and/or `blocks-per-page`. Specify multiple values to get multiple formats in the response:\n",
    "* `markdown-document` parses the whole document into a single concatenated markdown output.\n",
    "* `markdown-per-page` provides markdown output per page.\n",
    "* `blocks-per-page` provides a structured JSON representation of the content blocks on each page, sorted by reading order."
   ]
  },
  {
   "cell_type": "markdown",
   "metadata": {
    "id": "x6TvInUQHxoH"
   },
   "source": [
    "### 4.1 Display Markdown-per-page"
   ]
  },
  {
   "cell_type": "code",
   "execution_count": null,
   "metadata": {
    "colab": {
     "base_uri": "https://localhost:8080/",
     "height": 0
    },
    "id": "bxOa_7uMHxGE",
    "outputId": "b822475f-b1ef-41ff-b8b5-44f11fcd6bee"
   },
   "outputs": [],
   "source": [
    "results = client.parse.job_results(job_id, output_types=['markdown-per-page'])\n",
    "\n",
    "for page in results.pages:\n",
    "    display(Markdown(page.markdown))"
   ]
  },
  {
   "cell_type": "markdown",
   "metadata": {
    "id": "pGqzOlb3JCmx"
   },
   "source": [
    "### 4.2 Blocks per page"
   ]
  },
  {
   "cell_type": "code",
   "execution_count": null,
   "metadata": {
    "colab": {
     "base_uri": "https://localhost:8080/",
     "height": 0
    },
    "id": "AKpdj7w2JA0N",
    "outputId": "bfacd3f2-42aa-4856-f9a3-1ccc1627173d"
   },
   "outputs": [],
   "source": [
    "results = client.parse.job_results(job_id, output_types=['blocks-per-page'])\n",
    "\n",
    "for page in results.pages:\n",
    "    for block in page.blocks:\n",
    "        display(Markdown(block.markdown))"
   ]
  },
  {
   "cell_type": "markdown",
   "metadata": {
    "id": "P9uw3UlKJE0Y"
   },
   "source": [
    "### 4.3 Markdown-document\n",
    "\n",
    "This returns the document text into a single field `markdown_document`."
   ]
  },
  {
   "cell_type": "code",
   "execution_count": null,
   "metadata": {
    "colab": {
     "base_uri": "https://localhost:8080/",
     "height": 0
    },
    "id": "Wq-LiKOIJGTM",
    "outputId": "8161c487-7543-4812-8de8-2b7fea9b5900"
   },
   "outputs": [],
   "source": [
    "result = client.parse.job_results(job_id, output_types=['markdown-document'])\n",
    "\n",
    "display(Markdown(result.markdown_document))"
   ]
  },
  {
   "cell_type": "markdown",
   "metadata": {
    "id": "iJWrTNcUuAeR"
   },
   "source": [
    "# 5. Section Metadata\n",
    "\n",
    "LLMs work best when they're provided with structured information about the document's hierarchy and organization. That's why we've written the parse api to be context aware, i.e. we can include metadata such as which section the text is from.\n",
    "\n",
    "To do this we'll set output_type to `blocks-per-page` and use the parameter `parent_ids` to get the section. In this doc each section has only one parent id however in docs with multiple nesting sections you can have multiple parent id's."
   ]
  },
  {
   "cell_type": "code",
   "execution_count": null,
   "metadata": {
    "colab": {
     "base_uri": "https://localhost:8080/",
     "height": 0
    },
    "id": "89b6OSxwuB0I",
    "outputId": "a807172a-bb78-486f-c70f-1efb89bd2801"
   },
   "outputs": [],
   "source": [
    "result = client.parse.job_results(job_id, output_types=['blocks-per-page'])\n",
    "\n",
    "hash_table = {}\n",
    "\n",
    "for page in result.pages:\n",
    "  for block in page.blocks:\n",
    "    hash_table[block.id] = block.markdown\n",
    "\n",
    "for page in result.pages:\n",
    "  for block in page.blocks:\n",
    "    if block.parent_ids:\n",
    "      parent_content = \"\\n\".join([hash_table[parent_id] for parent_id in block.parent_ids])\n",
    "      display(Markdown(f\"Text\\n======\\n {block.markdown} \\n\\n Section:\\n======\\n{parent_content}\"))"
   ]
  },
  {
   "cell_type": "markdown",
   "metadata": {
    "id": "vrDZaMCHhaaq"
   },
   "source": [
    "# 6. Table Extraction\n",
    "\n",
    "If we're interested in extracting large tables, sometimes we need to split up those tables to use them in the LLM but preserve table header information across each chunk. To do that we'll use the `enable_split_tables` and `max_split_table_cells` parameters like so:"
   ]
  },
  {
   "cell_type": "code",
   "execution_count": null,
   "metadata": {
    "id": "AAmKVGm8mB8y"
   },
   "outputs": [],
   "source": [
    "url = 'https://raw.githubusercontent.com/ContextualAI/examples/refs/heads/main/03-standalone-api/04-parse/data/omnidocbench-text.pdf'\n",
    "\n",
    "# Download doc\n",
    "file_path = \"omnidocbench-text_pdf.pdf\"\n",
    "with open(file_path, \"wb\") as f:\n",
    "    f.write(requests.get(url).content)"
   ]
  },
  {
   "cell_type": "code",
   "execution_count": null,
   "metadata": {
    "colab": {
     "base_uri": "https://localhost:8080/",
     "height": 35
    },
    "id": "zyAQ8qyAhZpy",
    "outputId": "f6e70ecc-2bfb-4f83-e239-9d5a234cb239"
   },
   "outputs": [],
   "source": [
    "file_path = 'omnidocbench-text_pdf.pdf'\n",
    "with open(file_path, \"rb\") as fp:\n",
    "    response = client.parse.create(\n",
    "        raw_file=fp,\n",
    "        parse_mode=\"standard\",\n",
    "        enable_split_tables=True,\n",
    "        max_split_table_cells=5,\n",
    "    )\n",
    "\n",
    "job_id = response.job_id\n",
    "job_id"
   ]
  },
  {
   "cell_type": "code",
   "execution_count": null,
   "metadata": {
    "colab": {
     "base_uri": "https://localhost:8080/"
    },
    "id": "_eKXQDjChq8Y",
    "outputId": "f1e04b52-18ac-44d6-a5e5-c65e240a7230"
   },
   "outputs": [],
   "source": [
    "# Check on parse job status\n",
    "while True:\n",
    "    result = client.parse.job_status(job_id)\n",
    "    parse_response = result.status\n",
    "    print(f\"Job is {parse_response}\")\n",
    "    if parse_response == \"completed\":\n",
    "        break\n",
    "    sleep(30)"
   ]
  },
  {
   "cell_type": "code",
   "execution_count": null,
   "metadata": {
    "colab": {
     "base_uri": "https://localhost:8080/",
     "height": 1000
    },
    "id": "IlBbuBZpuU5e",
    "outputId": "2d08927d-5fce-4148-c4cb-f9e351c398f2"
   },
   "outputs": [],
   "source": [
    "result = client.parse.job_results(job_id, output_types=['markdown-per-page'])\n",
    "\n",
    "for page in result.pages:\n",
    "  display(Markdown(page.markdown))\n"
   ]
  }
 ],
 "metadata": {
  "colab": {
   "collapsed_sections": [
    "tE8agDhjA7jq",
    "4URev2otqb7j",
    "SSwzYe02Hpsq",
    "9Z_33Gz7oEUy",
    "x6TvInUQHxoH",
    "pGqzOlb3JCmx",
    "P9uw3UlKJE0Y",
    "iJWrTNcUuAeR"
   ],
   "provenance": []
  },
  "kernelspec": {
   "display_name": "colab-notebook",
   "language": "python",
   "name": "python3"
  },
  "language_info": {
   "name": "python",
   "version": "3.10.0"
  }
 },
 "nbformat": 4,
 "nbformat_minor": 0
}
