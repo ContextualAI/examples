{
 "cells": [
  {
   "cell_type": "markdown",
   "metadata": {
    "id": "02-H04579t8u"
   },
   "source": [
    "# Using the Contextual AI Document Parser\n",
    "\n",
    "\n",
    "Contextual AI's `/parse` API is purpose-built for RAG to ensure enterprise AI agents can navigate and understand large and complex documents with superior accuracy and context awareness.\n",
    "\n",
    "Please see our [blog post](https://contextual.ai/blog/) for details on its comparative advantages to other parsers.\n",
    "\n",
    "This notebook demonstrates how to use `/parse` with the Contextual API directly and our Python SDK. We'll use the same doc, [Attention is all you need](https://arxiv.org/pdf/1706.03762) for both.\n",
    "\n",
    "You can run this notebook entirely in Colab:\n",
    "\n",
    "[![Open In Colab](https://colab.research.google.com/assets/colab-badge.svg)](https://colab.research.google.com/github/ContextualAI/examples/blob/main/03-standalone-api/03-parse/parse.ipynb)"
   ]
  },
  {
   "cell_type": "markdown",
   "metadata": {
    "id": "iWm3zGBbAAC7"
   },
   "source": [
    "### Fetch the doc"
   ]
  },
  {
   "cell_type": "markdown",
   "metadata": {
    "id": "Z8aXLCh-UeWR"
   },
   "source": [
    "First, we will fetch the document that we'll use throughout the notebook."
   ]
  },
  {
   "cell_type": "code",
   "execution_count": null,
   "metadata": {
    "id": "y-Xs20pz9Heg"
   },
   "outputs": [],
   "source": [
    "url = \"https://arxiv.org/pdf/1706.03762\""
   ]
  },
  {
   "cell_type": "code",
   "execution_count": null,
   "metadata": {
    "id": "E_riFCPQ9JyI"
   },
   "outputs": [],
   "source": [
    "import requests\n",
    "\n",
    "# Download doc\n",
    "file_path = \"attention-is-all-you-need.pdf\"\n",
    "with open(file_path, \"wb\") as f:\n",
    "    f.write(requests.get(url).content)"
   ]
  },
  {
   "cell_type": "markdown",
   "metadata": {
    "id": "jewW6qJwAKsS"
   },
   "source": [
    "### API Key 🔑"
   ]
  },
  {
   "cell_type": "code",
   "execution_count": null,
   "metadata": {
    "id": "P2Jrcac9AKR2"
   },
   "outputs": [],
   "source": [
    "# Set the API key in the 🔑 pane of google colab\n",
    "from google.colab import userdata\n",
    "api_key = userdata.get('CONTEXTUAL_API_KEY')"
   ]
  },
  {
   "cell_type": "markdown",
   "metadata": {
    "id": "gOxjaakzANCV"
   },
   "source": [
    "# REST API implementation"
   ]
  },
  {
   "cell_type": "markdown",
   "metadata": {
    "id": "hg81EQ9hZsY7"
   },
   "source": [
    "You can use our API directly with the `requests` package. See [docs.contextual.ai](https://docs.contextual.ai/api-reference/parse/parse-file) for details."
   ]
  },
  {
   "cell_type": "code",
   "execution_count": null,
   "metadata": {
    "id": "fwMbaFcv9sRT"
   },
   "outputs": [],
   "source": [
    "import requests\n",
    "import json\n",
    "\n",
    "base_url = \"https://api.contextual.ai/v1\"\n",
    "\n",
    "headers = {\n",
    "    \"accept\": \"application/json\",\n",
    "    \"authorization\": f\"Bearer {api_key}\"\n",
    "}"
   ]
  },
  {
   "cell_type": "markdown",
   "metadata": {
    "id": "Ov3jw3Ir-d0F"
   },
   "source": [
    "### Submit Parse Job\n",
    "\n",
    "Next, we'll define the configuration for our parse job and submit it. This initiates an async parse job and returns a `job_id` we can use to monitor progress."
   ]
  },
  {
   "cell_type": "code",
   "execution_count": null,
   "metadata": {
    "colab": {
     "base_uri": "https://localhost:8080/",
     "height": 193
    },
    "id": "ilX_lgcR-LKe",
    "outputId": "186a89e9-29a6-4168-f944-701b48be36a5"
   },
   "outputs": [],
   "source": [
    "url = f\"{base_url}/parse\"\n",
    "\n",
    "config = {\n",
    "    \"parse_mode\": \"standard\",\n",
    "    \"figure_caption_mode\": \"concise\",\n",
    "    \"enable_document_hierarchy\": True,\n",
    "    \"page_range\": \"0-5\",\n",
    "    \"enable_split_tables\": False,\n",
    "    \"max_split_table_cells\": 30,\n",
    "}\n",
    "\n",
    "with open(file_path, \"rb\") as fp:\n",
    "    file = {\"raw_file\": fp}\n",
    "    result = requests.post(url, headers=headers, data=config, files=file)\n",
    "    response = json.loads(result.text)\n",
    "\n",
    "job_id = response['job_id']\n",
    "job_id"
   ]
  },
  {
   "cell_type": "code",
   "execution_count": null,
   "metadata": {
    "colab": {
     "base_uri": "https://localhost:8080/"
    },
    "id": "Fg-uBKuC-wXD",
    "outputId": "6114166f-bd7b-46f0-9f30-470284c0c7cf"
   },
   "outputs": [],
   "source": [
    "response"
   ]
  },
  {
   "cell_type": "markdown",
   "metadata": {
    "id": "PVrZE0MK-muR"
   },
   "source": [
    "### Monitor Job Status\n",
    "\n",
    "Using the `job_id` from above, we can monitor the status of our parse job."
   ]
  },
  {
   "cell_type": "code",
   "execution_count": null,
   "metadata": {
    "colab": {
     "base_uri": "https://localhost:8080/"
    },
    "id": "TmHJiE6G-Ly3",
    "outputId": "cafb63e9-f363-4a19-8cde-f1c459562a2c"
   },
   "outputs": [],
   "source": [
    "# Check on parse job status\n",
    "from time import sleep\n",
    "\n",
    "url = f\"{base_url}/parse/jobs/{job_id}/status\"\n",
    "\n",
    "while True:\n",
    "    result = requests.get(url, headers=headers)\n",
    "    parse_response = json.loads(result.text)['status']\n",
    "    print(f\"Job is {parse_response}\")\n",
    "    if parse_response == \"completed\":\n",
    "        break\n",
    "    sleep(30)"
   ]
  },
  {
   "cell_type": "markdown",
   "metadata": {
    "id": "9dWLNt3KGS6d"
   },
   "source": [
    "### List all jobs\n",
    "\n",
    "If we submit multiple jobs and want to see the status of each of them, then we can use the list jobs api:"
   ]
  },
  {
   "cell_type": "code",
   "execution_count": null,
   "metadata": {
    "id": "-jF65e7HGRBu"
   },
   "outputs": [],
   "source": [
    "url = f\"{base_url}/parse/jobs\"\n",
    "\n",
    "result = requests.get(url, headers=headers)\n",
    "parse_response = json.loads(result.text)\n",
    "parse_response"
   ]
  },
  {
   "cell_type": "markdown",
   "metadata": {
    "id": "Peszi92i-qXx"
   },
   "source": [
    "### Get Parse results"
   ]
  },
  {
   "cell_type": "code",
   "execution_count": null,
   "metadata": {
    "id": "LBzELtL7-M0K"
   },
   "outputs": [],
   "source": [
    "url = f\"{base_url}/parse/jobs/{job_id}/results\"\n",
    "\n",
    "output_types = [\"markdown-per-page\"]\n",
    "\n",
    "result = requests.get(\n",
    "    url,\n",
    "    headers=headers,\n",
    "    params={\"output_types\": \",\".join(output_types)},\n",
    ")\n",
    "\n",
    "result = json.loads(result.text)\n",
    "from pprint import pprint\n",
    "pprint(result)"
   ]
  },
  {
   "cell_type": "markdown",
   "metadata": {
    "id": "fG0Y_4spJrsp"
   },
   "source": [
    "### View Document Hierarchy"
   ]
  },
  {
   "cell_type": "code",
   "execution_count": null,
   "metadata": {
    "colab": {
     "base_uri": "https://localhost:8080/",
     "height": 344
    },
    "id": "sLOQ2sUtJSfQ",
    "outputId": "cf9f1dd3-39b6-4627-a470-b02b20b3ad4d"
   },
   "outputs": [],
   "source": [
    "from IPython.display import display, Markdown\n",
    "\n",
    "display(Markdown(result['table_of_contents']['markdown']))"
   ]
  },
  {
   "cell_type": "markdown",
   "metadata": {
    "id": "GkT9x62wJodW"
   },
   "source": [
    "### Display 1st Page"
   ]
  },
  {
   "cell_type": "code",
   "execution_count": null,
   "metadata": {
    "colab": {
     "base_uri": "https://localhost:8080/",
     "height": 659
    },
    "id": "46ahgvFvJhwP",
    "outputId": "2ecc0700-60f7-47ef-e520-b157cb4f2710"
   },
   "outputs": [],
   "source": [
    "from IPython.display import display, Markdown\n",
    "\n",
    "display(Markdown(result['pages'][0]['markdown']))"
   ]
  },
  {
   "cell_type": "markdown",
   "metadata": {
    "id": "tE8agDhjA7jq"
   },
   "source": [
    "# Contextual SDK"
   ]
  },
  {
   "cell_type": "code",
   "execution_count": null,
   "metadata": {
    "id": "AwAcEfQ_A-JM"
   },
   "outputs": [],
   "source": [
    "try:\n",
    "  from contextual import ContextualAI\n",
    "except:\n",
    "  %pip install --upgrade --quiet contextual-client\n",
    "  from contextual import ContextualAI\n",
    "\n",
    "# Setup Contextual Python SDK\n",
    "client = ContextualAI(api_key=api_key)"
   ]
  },
  {
   "cell_type": "markdown",
   "metadata": {
    "id": "dwygsQe0Ep4s"
   },
   "source": [
    "### Submit Parse Job"
   ]
  },
  {
   "cell_type": "code",
   "execution_count": null,
   "metadata": {
    "colab": {
     "base_uri": "https://localhost:8080/",
     "height": 35
    },
    "id": "bN-1c2miDN1K",
    "outputId": "e918dc47-e48e-4a7b-e9ba-cbacf4d4d42c"
   },
   "outputs": [],
   "source": [
    "with open(file_path, \"rb\") as fp:\n",
    "    response = client.parse.create(\n",
    "        raw_file=fp,\n",
    "        parse_mode=\"standard\",\n",
    "        figure_caption_mode=\"concise\",\n",
    "        enable_document_hierarchy=True,\n",
    "        page_range=\"0-5\",\n",
    "    )\n",
    "\n",
    "job_id = response.job_id\n",
    "job_id"
   ]
  },
  {
   "cell_type": "markdown",
   "metadata": {
    "id": "cqGKdWtGEsut"
   },
   "source": [
    "### Monitor Job Status"
   ]
  },
  {
   "cell_type": "code",
   "execution_count": null,
   "metadata": {
    "colab": {
     "base_uri": "https://localhost:8080/"
    },
    "id": "aPLOIz87EwT0",
    "outputId": "d44a7f5c-10e6-476f-a501-7b97cdc41d4c"
   },
   "outputs": [],
   "source": [
    "# Check on parse job status\n",
    "from time import sleep\n",
    "\n",
    "\n",
    "while True:\n",
    "    result = client.parse.job_status(job_id)\n",
    "    parse_response = result.status\n",
    "    print(f\"Job is {parse_response}\")\n",
    "    if parse_response == \"completed\":\n",
    "        break\n",
    "    sleep(30)"
   ]
  },
  {
   "cell_type": "markdown",
   "metadata": {
    "id": "VasFXM3LFqdQ"
   },
   "source": [
    "### Get Job Results"
   ]
  },
  {
   "cell_type": "code",
   "execution_count": null,
   "metadata": {
    "id": "-UBHttQEFqzz"
   },
   "outputs": [],
   "source": [
    "results = client.parse.job_results(job_id, output_types=['markdown-per-page'])\n",
    "\n",
    "results"
   ]
  },
  {
   "cell_type": "markdown",
   "metadata": {
    "id": "4URev2otqb7j"
   },
   "source": [
    "## Parse UI\n",
    "\n",
    "To navigate to the UI, run the following cell:"
   ]
  },
  {
   "cell_type": "code",
   "execution_count": null,
   "metadata": {
    "colab": {
     "base_uri": "https://localhost:8080/"
    },
    "id": "zZnKJmvxreYS",
    "outputId": "c80f97a7-31c6-46f4-8f57-09a26b0495f4"
   },
   "outputs": [],
   "source": [
    "tenant = \"your-tenant-name\"\n",
    "print(f\"https://app.contextual.ai/{tenant}/components/parse?job={job_id}\")"
   ]
  },
  {
   "cell_type": "markdown",
   "metadata": {
    "id": "BL1feiz9ruM5"
   },
   "source": [
    "![](parse-ui.png)"
   ]
  },
  {
   "cell_type": "markdown",
   "metadata": {
    "id": "SSwzYe02Hpsq"
   },
   "source": [
    "## Document Hierarchy (Table of Contents)\n",
    "\n",
    "To see the document hierarchy, otherwise known as the table of contents you can run:"
   ]
  },
  {
   "cell_type": "code",
   "execution_count": null,
   "metadata": {
    "colab": {
     "base_uri": "https://localhost:8080/",
     "height": 344
    },
    "id": "kWFijrNBHpA4",
    "outputId": "54bf397a-5dc6-475c-9dc0-0cd33ebe5e39"
   },
   "outputs": [],
   "source": [
    "from IPython.display import display, Markdown\n",
    "\n",
    "display(Markdown(results.table_of_contents.markdown))"
   ]
  },
  {
   "cell_type": "markdown",
   "metadata": {
    "id": "9Z_33Gz7oEUy"
   },
   "source": [
    "## Output Types\n",
    "\n",
    "You can set the desired output format(s) of the parsed file using the `output_types` parameter. Must be `markdown-document`, `markdown-per-page`, and/or `blocks-per-page`. Specify multiple values to get multiple formats in the response:\n",
    "* `markdown-document` parses the whole document into a single concatenated markdown output.\n",
    "* `markdown-per-page` provides markdown output per page.\n",
    "* `blocks-per-page` provides a structured JSON representation of the content blocks on each page, sorted by reading order."
   ]
  },
  {
   "cell_type": "markdown",
   "metadata": {
    "id": "x6TvInUQHxoH"
   },
   "source": [
    "### Display Markdown-per-page"
   ]
  },
  {
   "cell_type": "code",
   "execution_count": null,
   "metadata": {
    "colab": {
     "base_uri": "https://localhost:8080/",
     "height": 1000
    },
    "id": "bxOa_7uMHxGE",
    "outputId": "eb3f802e-4149-4695-8cb6-0e1e8ecebb63"
   },
   "outputs": [],
   "source": [
    "results = client.parse.job_results(job_id, output_types=['markdown-per-page'])\n",
    "\n",
    "for page in results.pages:\n",
    "    display(Markdown(page.markdown))"
   ]
  },
  {
   "cell_type": "markdown",
   "metadata": {
    "id": "pGqzOlb3JCmx"
   },
   "source": [
    "### Blocks per page"
   ]
  },
  {
   "cell_type": "code",
   "execution_count": null,
   "metadata": {
    "colab": {
     "base_uri": "https://localhost:8080/",
     "height": 1000
    },
    "id": "AKpdj7w2JA0N",
    "outputId": "ca76a696-5c31-47ac-d5d2-882f8feabcab"
   },
   "outputs": [],
   "source": [
    "results = client.parse.job_results(job_id, output_types=['blocks-per-page'])\n",
    "\n",
    "for page in results.pages:\n",
    "    for block in page.blocks:\n",
    "        display(Markdown(block.markdown))"
   ]
  },
  {
   "cell_type": "markdown",
   "metadata": {
    "id": "P9uw3UlKJE0Y"
   },
   "source": [
    "### Markdown-document\n",
    "\n",
    "This returns the document text into a single field `markdown_document`."
   ]
  },
  {
   "cell_type": "code",
   "execution_count": null,
   "metadata": {
    "id": "Wq-LiKOIJGTM"
   },
   "outputs": [],
   "source": [
    "result = client.parse.job_results(job_id, output_types=['markdown-document'])\n",
    "\n",
    "display(Markdown(result.markdown_document))"
   ]
  },
  {
   "cell_type": "markdown",
   "metadata": {
    "id": "iJWrTNcUuAeR"
   },
   "source": [
    "## Document Hierachy\n",
    "\n",
    "LLM's work best when their fed as much data on the hierachy of the document as possible. That's why we've written the parse api to be context aware, i.e. we can include metadata such as which section the text is from.\n",
    "\n",
    "To do this we'll set output_type to `blocks-per-page` and use the parameter `parent_ids` to get the section."
   ]
  },
  {
   "cell_type": "code",
   "execution_count": null,
   "metadata": {
    "id": "89b6OSxwuB0I"
   },
   "outputs": [],
   "source": [
    "result = client.parse.job_results(job_id, output_types=['blocks-per-page'])\n",
    "\n",
    "hash_table = {}\n",
    "\n",
    "for page in result.pages:\n",
    "  for block in page.blocks:\n",
    "    hash_table[block.id] = block.markdown\n",
    "\n",
    "for page in result.pages:\n",
    "  for block in page.blocks:\n",
    "    if block.parent_ids:\n",
    "      parent_content = \"\\n\".join([hash_table[parent_id] for parent_id in block.parent_ids])\n",
    "      display(Markdown(f\"Text\\n======\\n {block.markdown} \\n\\n Section:\\n======\\n{parent_content}\"))"
   ]
  },
  {
   "cell_type": "markdown",
   "metadata": {
    "id": "vrDZaMCHhaaq"
   },
   "source": [
    "## Table Extraction\n",
    "\n",
    "If we're interested in extracting large tables, sometimes we need to split up those tables to use them in the LLM but preserve table header information across each chunk. To do that we'll use the `enable_split_tables` and `max_split_table_cells` parameters like so:"
   ]
  },
  {
   "cell_type": "code",
   "execution_count": null,
   "metadata": {
    "colab": {
     "base_uri": "https://localhost:8080/",
     "height": 180
    },
    "id": "AAmKVGm8mB8y",
    "outputId": "efd04408-fd32-4197-f416-38b82d875b1c"
   },
   "outputs": [],
   "source": [
    "url = 'https://raw.githubusercontent.com/ContextualAI/examples/refs/heads/main/03-standalone-api/04-parse/data/omnidocbench-text.pdf'\n",
    "\n",
    "# Download doc\n",
    "file_path = \"omnidocbench-text_pdf.pdf\"\n",
    "with open(file_path, \"wb\") as f:\n",
    "    f.write(requests.get(url).content)"
   ]
  },
  {
   "cell_type": "code",
   "execution_count": null,
   "metadata": {
    "id": "zyAQ8qyAhZpy"
   },
   "outputs": [],
   "source": [
    "file_path = 'omnidocbench-text_pdf-dense-rotated--scihub_journal.pone.0166577.pdf_5.pdf'\n",
    "with open(file_path, \"rb\") as fp:\n",
    "    response = client.parse.create(\n",
    "        raw_file=fp,\n",
    "        parse_mode=\"standard\",\n",
    "        enable_split_tables=True,\n",
    "        max_split_table_cells=50,\n",
    "    )\n",
    "\n",
    "job_id = response.job_id\n",
    "job_id"
   ]
  },
  {
   "cell_type": "code",
   "execution_count": null,
   "metadata": {
    "colab": {
     "base_uri": "https://localhost:8080/"
    },
    "id": "_eKXQDjChq8Y",
    "outputId": "c5f5868d-4f51-4d91-ac7a-885c6f541981"
   },
   "outputs": [],
   "source": [
    "client.parse.job_status(job_id)"
   ]
  },
  {
   "cell_type": "code",
   "execution_count": null,
   "metadata": {
    "colab": {
     "base_uri": "https://localhost:8080/",
     "height": 216
    },
    "id": "IlBbuBZpuU5e",
    "outputId": "89054494-2f4f-4008-bf42-7d04690931f3"
   },
   "outputs": [],
   "source": [
    "result = client.parse.job_results(job_id, output_types=['markdown-per-page'])\n",
    "\n",
    "for page in result.pages:\n",
    "  display(Markdown(page.markdown))\n"
   ]
  }
 ],
 "metadata": {
  "colab": {
   "provenance": []
  },
  "kernelspec": {
   "display_name": "Python 3",
   "name": "python3"
  },
  "language_info": {
   "name": "python"
  }
 },
 "nbformat": 4,
 "nbformat_minor": 0
}
