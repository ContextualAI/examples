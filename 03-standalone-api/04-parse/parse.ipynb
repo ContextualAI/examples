{
 "cells": [
  {
   "cell_type": "markdown",
   "metadata": {
    "id": "02-H04579t8u"
   },
   "source": [
    "# Using the Contextual AI Document Parser\n",
    "\n",
    "This notebook demonstrates how to use `/parse` with the [Contextual API](https://docs.contextual.ai/api-reference/parse/parse-file) directly and our [Python SDK](https://github.com/ContextualAI/contextual-client-python/tree/main). We'll use the same doc, [Attention is All You Need](https://arxiv.org/pdf/1706.03762) for both. Please see our [blog post](https://contextual.ai/blog/...) for more details on its comparative advantages to other parsers.\n",
    "\n",
    "This notebook has 6 major sections:\n",
    "\n",
    "0. Fetch doc and API key\n",
    "1. REST API implementation\n",
    "2. Contextual SDK\n",
    "3. Parse UI\n",
    "4. Output Types\n",
    "5. Section Metadata\n",
    "6. Table Extraction\n",
    "\n",
    "You can run this notebook entirely in Colab:\n",
    "\n",
    "[![Open In Colab](https://colab.research.google.com/assets/colab-badge.svg)](https://colab.research.google.com/github/ContextualAI/examples/blob/main/03-standalone-api/03-parse/parse.ipynb)"
   ]
  },
  {
   "cell_type": "markdown",
   "metadata": {
    "id": "iWm3zGBbAAC7"
   },
   "source": [
    "## 0. Fetch the doc & Set API Key"
   ]
  },
  {
   "cell_type": "markdown",
   "metadata": {
    "id": "Z8aXLCh-UeWR"
   },
   "source": [
    "First, we will fetch the document that we'll use throughout the notebook."
   ]
  },
  {
   "cell_type": "code",
   "execution_count": null,
   "metadata": {
    "id": "y-Xs20pz9Heg"
   },
   "outputs": [],
   "source": [
    "url = \"https://arxiv.org/pdf/1706.03762\""
   ]
  },
  {
   "cell_type": "code",
   "execution_count": null,
   "metadata": {
    "id": "E_riFCPQ9JyI"
   },
   "outputs": [],
   "source": [
    "import requests\n",
    "\n",
    "# Download doc\n",
    "file_path = \"attention-is-all-you-need.pdf\"\n",
    "with open(file_path, \"wb\") as f:\n",
    "    f.write(requests.get(url).content)"
   ]
  },
  {
   "cell_type": "markdown",
   "metadata": {
    "id": "jewW6qJwAKsS"
   },
   "source": [
    "### API Key 🔑"
   ]
  },
  {
   "cell_type": "code",
   "execution_count": null,
   "metadata": {
    "id": "P2Jrcac9AKR2"
   },
   "outputs": [],
   "source": [
    "# Set the API key in the 🔑 pane of google colab\n",
    "from google.colab import userdata\n",
    "api_key = userdata.get('CONTEXTUAL_API_KEY')"
   ]
  },
  {
   "cell_type": "markdown",
   "metadata": {
    "id": "gOxjaakzANCV"
   },
   "source": [
    "# 1. REST API implementation"
   ]
  },
  {
   "cell_type": "markdown",
   "metadata": {
    "id": "hg81EQ9hZsY7"
   },
   "source": [
    "You can use our API directly with the `requests` package. See [docs.contextual.ai](https://docs.contextual.ai/api-reference/parse/parse-file) for details."
   ]
  },
  {
   "cell_type": "code",
   "execution_count": null,
   "metadata": {
    "id": "fwMbaFcv9sRT"
   },
   "outputs": [],
   "source": [
    "import requests\n",
    "import json\n",
    "\n",
    "base_url = \"https://api.contextual.ai/v1\"\n",
    "\n",
    "headers = {\n",
    "    \"accept\": \"application/json\",\n",
    "    \"authorization\": f\"Bearer {api_key}\"\n",
    "}"
   ]
  },
  {
   "cell_type": "markdown",
   "metadata": {
    "id": "Ov3jw3Ir-d0F"
   },
   "source": [
    "## 1.1 Submit Parse Job\n",
    "\n",
    "Next, we'll define the configuration for our parse job and submit it. This initiates an async parse job and returns a `job_id` we can use to monitor progress."
   ]
  },
  {
   "cell_type": "code",
   "execution_count": null,
   "metadata": {
    "colab": {
     "base_uri": "https://localhost:8080/",
     "height": 53
    },
    "id": "ilX_lgcR-LKe",
    "outputId": "64872cc2-3174-4100-c59f-7af1d0b30576"
   },
   "outputs": [],
   "source": [
    "url = f\"{base_url}/parse\"\n",
    "\n",
    "config = {\n",
    "    \"parse_mode\": \"standard\",\n",
    "    \"figure_caption_mode\": \"concise\",\n",
    "    \"enable_document_hierarchy\": True,\n",
    "    \"page_range\": \"0-5\",\n",
    "}\n",
    "\n",
    "with open(file_path, \"rb\") as fp:\n",
    "    file = {\"raw_file\": fp}\n",
    "    result = requests.post(url, headers=headers, data=config, files=file)\n",
    "    response = json.loads(result.text)\n",
    "\n",
    "print(response)\n",
    "job_id = response['job_id']\n",
    "job_id"
   ]
  },
  {
   "cell_type": "code",
   "execution_count": null,
   "metadata": {
    "colab": {
     "base_uri": "https://localhost:8080/"
    },
    "id": "Fg-uBKuC-wXD",
    "outputId": "4a4378f4-35f5-4fab-ad36-1adae4cd2203"
   },
   "outputs": [],
   "source": [
    "response"
   ]
  },
  {
   "cell_type": "markdown",
   "metadata": {
    "id": "PVrZE0MK-muR"
   },
   "source": [
    "## 1.2 Monitor Job Status\n",
    "\n",
    "Using the `job_id` from above, we can monitor the status of our parse job."
   ]
  },
  {
   "cell_type": "code",
   "execution_count": null,
   "metadata": {
    "colab": {
     "base_uri": "https://localhost:8080/"
    },
    "id": "TmHJiE6G-Ly3",
    "outputId": "d3823f78-ba84-4730-9567-05ae8201d954"
   },
   "outputs": [],
   "source": [
    "# Check on parse job status\n",
    "from time import sleep\n",
    "\n",
    "url = f\"{base_url}/parse/jobs/{job_id}/status\"\n",
    "\n",
    "while True:\n",
    "    result = requests.get(url, headers=headers)\n",
    "    parse_response = json.loads(result.text)['status']\n",
    "    print(f\"Job is {parse_response}\")\n",
    "    if parse_response == \"completed\":\n",
    "        break\n",
    "    sleep(30)"
   ]
  },
  {
   "cell_type": "markdown",
   "metadata": {
    "id": "9dWLNt3KGS6d"
   },
   "source": [
    "## 1.3 List all jobs\n",
    "\n",
    "If we submit multiple jobs and want to see the status of each of them, then we can use the list jobs api:"
   ]
  },
  {
   "cell_type": "code",
   "execution_count": null,
   "metadata": {
    "colab": {
     "base_uri": "https://localhost:8080/"
    },
    "id": "-jF65e7HGRBu",
    "outputId": "9f13a934-6055-4f10-ffd7-87d559d1e2ba"
   },
   "outputs": [],
   "source": [
    "url = f\"{base_url}/parse/jobs\"\n",
    "\n",
    "result = requests.get(url, headers=headers)\n",
    "parse_response = json.loads(result.text)\n",
    "parse_response"
   ]
  },
  {
   "cell_type": "markdown",
   "metadata": {
    "id": "Peszi92i-qXx"
   },
   "source": [
    "## 1.4 Get Parse results"
   ]
  },
  {
   "cell_type": "code",
   "execution_count": null,
   "metadata": {
    "colab": {
     "base_uri": "https://localhost:8080/"
    },
    "id": "LBzELtL7-M0K",
    "outputId": "0477e3a5-2622-4d5f-d902-4427aa0330c1"
   },
   "outputs": [],
   "source": [
    "url = f\"{base_url}/parse/jobs/{job_id}/results\"\n",
    "\n",
    "output_types = [\"markdown-per-page\"]\n",
    "\n",
    "result = requests.get(\n",
    "    url,\n",
    "    headers=headers,\n",
    "    params={\"output_types\": \",\".join(output_types)},\n",
    ")\n",
    "\n",
    "result = json.loads(result.text)\n",
    "from pprint import pprint\n",
    "pprint(result)"
   ]
  },
  {
   "cell_type": "markdown",
   "metadata": {
    "id": "fG0Y_4spJrsp"
   },
   "source": [
    "## 1.5 View Document Hierarchy"
   ]
  },
  {
   "cell_type": "code",
   "execution_count": null,
   "metadata": {
    "colab": {
     "base_uri": "https://localhost:8080/",
     "height": 344
    },
    "id": "sLOQ2sUtJSfQ",
    "outputId": "c1d24a5f-d93d-4c45-e707-b7f002f2a79d"
   },
   "outputs": [],
   "source": [
    "from IPython.display import display, Markdown\n",
    "\n",
    "display(Markdown(result['table_of_contents']['markdown']))"
   ]
  },
  {
   "cell_type": "markdown",
   "metadata": {
    "id": "GkT9x62wJodW"
   },
   "source": [
    "## 1.6 Display 1st Page"
   ]
  },
  {
   "cell_type": "code",
   "execution_count": null,
   "metadata": {
    "colab": {
     "base_uri": "https://localhost:8080/",
     "height": 798
    },
    "id": "46ahgvFvJhwP",
    "outputId": "e99dbeaa-49bf-42a1-dcdc-ce673029147a"
   },
   "outputs": [],
   "source": [
    "from IPython.display import display, Markdown\n",
    "\n",
    "display(Markdown(result['pages'][0]['markdown']))"
   ]
  },
  {
   "cell_type": "markdown",
   "metadata": {
    "id": "tE8agDhjA7jq"
   },
   "source": [
    "# 2. Contextual SDK"
   ]
  },
  {
   "cell_type": "code",
   "execution_count": null,
   "metadata": {
    "colab": {
     "base_uri": "https://localhost:8080/"
    },
    "id": "AwAcEfQ_A-JM",
    "outputId": "66a4012f-811e-4c4e-aba1-2fa74f07d62a"
   },
   "outputs": [],
   "source": [
    "try:\n",
    "  from contextual import ContextualAI\n",
    "except:\n",
    "  %pip install --upgrade --quiet contextual-client\n",
    "  from contextual import ContextualAI\n",
    "\n",
    "# Setup Contextual Python SDK\n",
    "client = ContextualAI(api_key=api_key)"
   ]
  },
  {
   "cell_type": "markdown",
   "metadata": {
    "id": "dwygsQe0Ep4s"
   },
   "source": [
    "## 2.1 Submit Parse Job"
   ]
  },
  {
   "cell_type": "code",
   "execution_count": null,
   "metadata": {
    "colab": {
     "base_uri": "https://localhost:8080/",
     "height": 35
    },
    "id": "bN-1c2miDN1K",
    "outputId": "f168f91b-317e-4cc5-9bc8-c64c1cd70d7d"
   },
   "outputs": [],
   "source": [
    "with open(file_path, \"rb\") as fp:\n",
    "    response = client.parse.create(\n",
    "        raw_file=fp,\n",
    "        parse_mode=\"standard\",\n",
    "        figure_caption_mode=\"concise\",\n",
    "        enable_document_hierarchy=True,\n",
    "        page_range=\"0-5\",\n",
    "    )\n",
    "\n",
    "job_id = response.job_id\n",
    "job_id"
   ]
  },
  {
   "cell_type": "markdown",
   "metadata": {
    "id": "cqGKdWtGEsut"
   },
   "source": [
    "## 2.2 Monitor Job Status"
   ]
  },
  {
   "cell_type": "code",
   "execution_count": null,
   "metadata": {
    "colab": {
     "base_uri": "https://localhost:8080/"
    },
    "id": "aPLOIz87EwT0",
    "outputId": "10fe0f7b-9a70-4a57-f00b-cc8eead5bc6b"
   },
   "outputs": [],
   "source": [
    "# Check on parse job status\n",
    "from time import sleep\n",
    "\n",
    "\n",
    "while True:\n",
    "    result = client.parse.job_status(job_id)\n",
    "    parse_response = result.status\n",
    "    print(f\"Job is {parse_response}\")\n",
    "    if parse_response == \"completed\":\n",
    "        break\n",
    "    sleep(30)"
   ]
  },
  {
   "cell_type": "markdown",
   "metadata": {
    "id": "VasFXM3LFqdQ"
   },
   "source": [
    "## 2.3 Get Job Results"
   ]
  },
  {
   "cell_type": "code",
   "execution_count": null,
   "metadata": {
    "colab": {
     "base_uri": "https://localhost:8080/"
    },
    "id": "-UBHttQEFqzz",
    "outputId": "f8877732-9b69-4807-a736-ee997df39c24"
   },
   "outputs": [],
   "source": [
    "results = client.parse.job_results(job_id, output_types=['markdown-per-page'])\n",
    "\n",
    "results"
   ]
  },
  {
   "cell_type": "markdown",
   "metadata": {
    "id": "4URev2otqb7j"
   },
   "source": [
    "# 3. Parse UI\n",
    "\n",
    "To see job results in an interactive manner and submit new jobs navigate to the UI using the following link, note you'll need to change `your-tenant-name` to your tenant."
   ]
  },
  {
   "cell_type": "code",
   "execution_count": null,
   "metadata": {
    "colab": {
     "base_uri": "https://localhost:8080/"
    },
    "id": "zZnKJmvxreYS",
    "outputId": "2f05ccbf-9ce7-4602-9552-a2b0e35a4f82"
   },
   "outputs": [],
   "source": [
    "tenant = \"your-tenant-name\"\n",
    "print(f\"https://app.contextual.ai/{tenant}/components/parse?job={job_id}\")"
   ]
  },
  {
   "cell_type": "markdown",
   "metadata": {
    "id": "BL1feiz9ruM5"
   },
   "source": [
    "![Parse UI Screenshot](https://github.com/ContextualAI/examples/blob/main/03-standalone-api/04-parse/parse-ui.png?raw=1)"
   ]
  },
  {
   "cell_type": "markdown",
   "metadata": {
    "id": "SSwzYe02Hpsq"
   },
   "source": [
    "## 5. Document Hierarchy (Table of Contents)\n",
    "\n",
    "To see the document hierarchy, otherwise known as the table of contents you can run:"
   ]
  },
  {
   "cell_type": "code",
   "execution_count": null,
   "metadata": {
    "colab": {
     "base_uri": "https://localhost:8080/",
     "height": 344
    },
    "id": "kWFijrNBHpA4",
    "outputId": "8cbf3e73-27fd-4d0b-f3d4-fd4b2b445058"
   },
   "outputs": [],
   "source": [
    "from IPython.display import display, Markdown\n",
    "\n",
    "display(Markdown(results.table_of_contents.markdown))"
   ]
  },
  {
   "cell_type": "markdown",
   "metadata": {
    "id": "9Z_33Gz7oEUy"
   },
   "source": [
    "# 4. Output Types\n",
    "\n",
    "You can set the desired output format(s) of the parsed file using the `output_types` parameter. Must be `markdown-document`, `markdown-per-page`, and/or `blocks-per-page`. Specify multiple values to get multiple formats in the response:\n",
    "* `markdown-document` parses the whole document into a single concatenated markdown output.\n",
    "* `markdown-per-page` provides markdown output per page.\n",
    "* `blocks-per-page` provides a structured JSON representation of the content blocks on each page, sorted by reading order."
   ]
  },
  {
   "cell_type": "markdown",
   "metadata": {
    "id": "x6TvInUQHxoH"
   },
   "source": [
    "### 4.1 Display Markdown-per-page"
   ]
  },
  {
   "cell_type": "code",
   "execution_count": null,
   "metadata": {
    "colab": {
     "base_uri": "https://localhost:8080/",
     "height": 1000
    },
    "id": "bxOa_7uMHxGE",
    "outputId": "8103f320-bd06-41dc-9489-6a9d22b364b9"
   },
   "outputs": [],
   "source": [
    "results = client.parse.job_results(job_id, output_types=['markdown-per-page'])\n",
    "\n",
    "for page in results.pages:\n",
    "    display(Markdown(page.markdown))"
   ]
  },
  {
   "cell_type": "markdown",
   "metadata": {
    "id": "pGqzOlb3JCmx"
   },
   "source": [
    "### 4.2 Blocks per page"
   ]
  },
  {
   "cell_type": "code",
   "execution_count": null,
   "metadata": {
    "colab": {
     "base_uri": "https://localhost:8080/",
     "height": 1000
    },
    "id": "AKpdj7w2JA0N",
    "outputId": "eca3d820-983c-44e9-e86c-3e0db07b7649"
   },
   "outputs": [],
   "source": [
    "results = client.parse.job_results(job_id, output_types=['blocks-per-page'])\n",
    "\n",
    "for page in results.pages:\n",
    "    for block in page.blocks:\n",
    "        display(Markdown(block.markdown))"
   ]
  },
  {
   "cell_type": "markdown",
   "metadata": {
    "id": "P9uw3UlKJE0Y"
   },
   "source": [
    "### 4.3 Markdown-document\n",
    "\n",
    "This returns the document text into a single field `markdown_document`."
   ]
  },
  {
   "cell_type": "code",
   "execution_count": null,
   "metadata": {
    "colab": {
     "base_uri": "https://localhost:8080/",
     "height": 1000
    },
    "id": "Wq-LiKOIJGTM",
    "outputId": "9ce117da-3d38-4235-91c9-5e1f4f4dce6d"
   },
   "outputs": [],
   "source": [
    "result = client.parse.job_results(job_id, output_types=['markdown-document'])\n",
    "\n",
    "display(Markdown(result.markdown_document))"
   ]
  },
  {
   "cell_type": "markdown",
   "metadata": {
    "id": "iJWrTNcUuAeR"
   },
   "source": [
    "# 5. Section Metadata\n",
    "\n",
    "LLM's work best when their fed as much data on the hierachy of the document as possible. That's why we've written the parse api to be context aware, i.e. we can include metadata such as which section the text is from.\n",
    "\n",
    "To do this we'll set output_type to `blocks-per-page` and use the parameter `parent_ids` to get the section."
   ]
  },
  {
   "cell_type": "code",
   "execution_count": null,
   "metadata": {
    "colab": {
     "base_uri": "https://localhost:8080/",
     "height": 1000
    },
    "id": "89b6OSxwuB0I",
    "outputId": "0f7989e7-9ceb-4dd9-d50b-2ac9ef812859"
   },
   "outputs": [],
   "source": [
    "result = client.parse.job_results(job_id, output_types=['blocks-per-page'])\n",
    "\n",
    "hash_table = {}\n",
    "\n",
    "for page in result.pages:\n",
    "  for block in page.blocks:\n",
    "    hash_table[block.id] = block.markdown\n",
    "\n",
    "for page in result.pages:\n",
    "  for block in page.blocks:\n",
    "    if block.parent_ids:\n",
    "      parent_content = \"\\n\".join([hash_table[parent_id] for parent_id in block.parent_ids])\n",
    "      display(Markdown(f\"Text\\n======\\n {block.markdown} \\n\\n Section:\\n======\\n{parent_content}\"))"
   ]
  },
  {
   "cell_type": "markdown",
   "metadata": {
    "id": "vrDZaMCHhaaq"
   },
   "source": [
    "# 6. Table Extraction\n",
    "\n",
    "If we're interested in extracting large tables, sometimes we need to split up those tables to use them in the LLM but preserve table header information across each chunk. To do that we'll use the `enable_split_tables` and `max_split_table_cells` parameters like so:"
   ]
  },
  {
   "cell_type": "code",
   "execution_count": null,
   "metadata": {
    "id": "AAmKVGm8mB8y"
   },
   "outputs": [],
   "source": [
    "url = 'https://raw.githubusercontent.com/ContextualAI/examples/refs/heads/main/03-standalone-api/04-parse/data/omnidocbench-text.pdf'\n",
    "\n",
    "# Download doc\n",
    "file_path = \"omnidocbench-text_pdf.pdf\"\n",
    "with open(file_path, \"wb\") as f:\n",
    "    f.write(requests.get(url).content)"
   ]
  },
  {
   "cell_type": "code",
   "execution_count": null,
   "metadata": {
    "colab": {
     "base_uri": "https://localhost:8080/",
     "height": 35
    },
    "id": "zyAQ8qyAhZpy",
    "outputId": "ac88cd13-27cc-4e11-94d2-7e2237e82d22"
   },
   "outputs": [],
   "source": [
    "file_path = 'omnidocbench-text_pdf.pdf'\n",
    "with open(file_path, \"rb\") as fp:\n",
    "    response = client.parse.create(\n",
    "        raw_file=fp,\n",
    "        parse_mode=\"standard\",\n",
    "        enable_split_tables=True,\n",
    "        max_split_table_cells=5,\n",
    "    )\n",
    "\n",
    "job_id = response.job_id\n",
    "job_id"
   ]
  },
  {
   "cell_type": "code",
   "execution_count": null,
   "metadata": {
    "colab": {
     "base_uri": "https://localhost:8080/"
    },
    "id": "_eKXQDjChq8Y",
    "outputId": "ef508504-2bc3-4168-86c2-2193233064d5"
   },
   "outputs": [],
   "source": [
    "client.parse.job_status(job_id)"
   ]
  },
  {
   "cell_type": "code",
   "execution_count": null,
   "metadata": {
    "colab": {
     "base_uri": "https://localhost:8080/",
     "height": 1000
    },
    "id": "IlBbuBZpuU5e",
    "outputId": "a7898176-e5db-4e56-c08d-ce4277e5748a"
   },
   "outputs": [],
   "source": [
    "result = client.parse.job_results(job_id, output_types=['markdown-per-page'])\n",
    "\n",
    "for page in result.pages:\n",
    "  display(Markdown(page.markdown))\n"
   ]
  }
 ],
 "metadata": {
  "colab": {
   "collapsed_sections": [
    "iWm3zGBbAAC7",
    "gOxjaakzANCV",
    "tE8agDhjA7jq",
    "4URev2otqb7j",
    "SSwzYe02Hpsq",
    "9Z_33Gz7oEUy",
    "x6TvInUQHxoH",
    "pGqzOlb3JCmx",
    "P9uw3UlKJE0Y",
    "iJWrTNcUuAeR",
    "vrDZaMCHhaaq"
   ],
   "provenance": []
  },
  "kernelspec": {
   "display_name": "colab-notebook",
   "language": "python",
   "name": "python3"
  },
  "language_info": {
   "name": "python",
   "version": "3.10.0"
  }
 },
 "nbformat": 4,
 "nbformat_minor": 0
}
