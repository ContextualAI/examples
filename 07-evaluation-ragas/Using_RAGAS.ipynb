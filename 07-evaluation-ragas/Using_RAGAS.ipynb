{
  "cells": [
    {
      "cell_type": "markdown",
      "id": "1079e444-91e1-4b81-a28a-2ce4763f4bc4",
      "metadata": {
        "id": "1079e444-91e1-4b81-a28a-2ce4763f4bc4"
      },
      "source": [
        "<img src=\"https://imagedelivery.net/Dr98IMl5gQ9tPkFM5JRcng/3e5f6fbd-9bc6-4aa1-368e-e8bb1d6ca100/Ultra\" alt=\"Contextual AI logo\" width=\"160\" />\n",
        "\n",
        "# Evaluation of RAG Agents with RAGAS\n",
        "\n",
        "This notebook demonstrates how to use RAGAS to evaluate the quality of your Contextual AI's Retrieval Augmented Generation (RAG) agents. The purpose of this notebook is to show the flexibility of Contextual AI's platform to support external evaluation approaches. The approach shown here with RAGAS can be used similarly with other evaluation tools.\n",
        "\n",
        "### What is RAGAS?\n",
        "\n",
        "RAGAS is an open-source evaluation framework specifically designed for RAG systems. It provides several important metrics to assess the quality of both the retrieval and generation components:\n",
        "\n",
        "1. **Faithfulness** - Measures if the generated answer is factually consistent with the retrieved context\n",
        "2. **Context Relevancy** - Evaluates if the retrieved passages are relevant to the question  \n",
        "3. **Context Recall** - Checks if all information needed to answer the question is present in the context\n",
        "4. **Answer Relevancy** - Assesses if the generated answer is relevant to the question\n",
        "\n",
        "One of the key advantages of RAGAS is that it can perform reference-free evaluations, meaning we don't need ground truth answers to evaluate our RAG pipeline. This makes it particularly useful for evaluating production systems built with Contextual AI where labeled data may not be available.\n",
        "\n",
        "### In this notebook you will learn how to:\n",
        "1. Set up the RAGAS evaluation environment\n",
        "2. Prepare evaluation datasets\n",
        "3. Query a Contextual AI RAG agent and capture its outputs\n",
        "4. Calculate RAGAS metrics for your RAG pipeline\n",
        "5. Analyze and interpret the evaluation results\n",
        "\n",
        "Let's begin by setting up our environment."
      ]
    },
    {
      "cell_type": "markdown",
      "id": "84c3f000",
      "metadata": {
        "id": "84c3f000"
      },
      "source": [
        "## 1: Environment Setup\n",
        "\n",
        "First, we'll install the necessary packages for our evaluation. We need:\n",
        "- `langfuse`: For tracking and observability\n",
        "- `ragas`: The evaluation framework itself\n",
        "- `openpyxl`: For Excel export of results\n",
        "- `openai`: For LLM access (used by RAGAS for evaluation)\n",
        "- `langchain-openai`: For LangChain with OpenAI integration\n",
        "- `langchain-contextual`: For connecting to Contextual AI\n",
        "\n",
        "These packages work together to create a complete evaluation pipeline. The installation might take a few minutes to complete depending on your connection speed and if you already have some dependencies installed."
      ]
    },
    {
      "cell_type": "code",
      "execution_count": null,
      "id": "90a9536a-4997-47a4-82a7-3970c1145dab",
      "metadata": {
        "colab": {
          "base_uri": "https://localhost:8080/"
        },
        "id": "90a9536a-4997-47a4-82a7-3970c1145dab",
        "outputId": "e040187d-8730-4efc-c1fc-b13b81a3b4e2",
        "scrolled": true,
        "tags": []
      },
      "outputs": [
        {
          "name": "stdout",
          "output_type": "stream",
          "text": [
            "Note: you may need to restart the kernel to use updated packages.\n"
          ]
        }
      ],
      "source": [
        "%pip install langfuse ragas openpyxl openai langchain-openai langchain-contextual --upgrade --quiet"
      ]
    },
    {
      "cell_type": "markdown",
      "id": "7e1df5a4",
      "metadata": {
        "id": "7e1df5a4"
      },
      "source": [
        "## 2: Import Dependencies\n",
        "\n",
        "Now we'll import the required libraries and set up our clients. We organize the imports into logical groups:\n",
        "\n",
        "- Standard library imports for basic Python functionality\n",
        "- Third-party imports for data processing and API interactions\n",
        "- RAGAS-specific imports for evaluation metrics\n",
        "- Client initialization for Contextual AI and the evaluator LLM\n",
        "\n",
        "Note that we're using GPT-4o as our evaluator model since evaluation quality is highly dependent on the capability of the LLM used for assessment. The evaluator model needs to understand subtleties in text and be able to compare information accurately."
      ]
    },
    {
      "cell_type": "code",
      "execution_count": null,
      "id": "017dc09a-c59c-4e5f-a632-d8a5110f931d",
      "metadata": {
        "id": "017dc09a-c59c-4e5f-a632-d8a5110f931d"
      },
      "outputs": [],
      "source": [
        "# Standard library imports\n",
        "import os\n",
        "import random\n",
        "import time\n",
        "import asyncio\n",
        "import uuid\n",
        "from typing import List, Dict, Any\n",
        "import requests\n",
        "\n",
        "# Third party imports\n",
        "import pandas as pd\n",
        "import tqdm\n",
        "import openai\n",
        "from langchain_openai import ChatOpenAI\n",
        "from contextual import ContextualAI\n",
        "from ragas.dataset_schema import SingleTurnSample\n",
        "from ragas.llms import LangchainLLMWrapper\n",
        "from ragas.metrics import Faithfulness, ContextRecall, AnswerAccuracy\n",
        "\n",
        "# API Keys\n",
        "os.environ[\"OPENAI_API_KEY\"] = \"API_KEY\"\n",
        "os.environ[\"CONTEXTUAL_API_KEY\"] = \"API_KEY\"\n",
        "\n",
        "# Initialize clients\n",
        "client = ContextualAI()\n",
        "evaluator_llm = LangchainLLMWrapper(ChatOpenAI(model=\"gpt-4o\"))"
      ]
    },
    {
      "cell_type": "code",
      "execution_count": null,
      "id": "d0d4e3fe",
      "metadata": {
        "id": "d0d4e3fe",
        "outputId": "d0089d3e-2a78-4ddc-be0d-e6e4855faf54"
      },
      "outputs": [
        {
          "name": "stdout",
          "output_type": "stream",
          "text": [
            "Fetching data/eval_short.csv\n"
          ]
        }
      ],
      "source": [
        "def fetch_file(filepath):\n",
        "    if not os.path.exists(os.path.dirname(filepath)):  # Ensure the directory exists\n",
        "        os.makedirs(os.path.dirname(filepath), exist_ok=True)  # Create if not exists\n",
        "\n",
        "    print(f\"Fetching {filepath}\")\n",
        "    response = requests.get(f\"https://raw.githubusercontent.com/ContextualAI/examples/main/01-getting-started/{filepath}\")\n",
        "\n",
        "    with open(filepath, 'wb') as f:\n",
        "        f.write(response.content)\n",
        "\n",
        "fetch_file('data/eval_short.csv')"
      ]
    },
    {
      "cell_type": "markdown",
      "id": "580b6d2a-06e2-4682-8e03-47d054d7f240",
      "metadata": {
        "id": "580b6d2a-06e2-4682-8e03-47d054d7f240"
      },
      "source": [
        "## 3: Prepare Evaluation Data\n",
        "\n",
        "For this evaluation, you need a formatted dataset that contains the following columns:\n",
        "- `prompt`: list[str] - Questions that will be used to evaluate our RAG pipeline\n",
        "- `reference`: list[str] - Ground truth answers to the questions (for answer accuracy evaluation)\n",
        "\n",
        "Note: While RAGAS can function without ground truth answers for faithfulness and context metrics, having reference answers allows us to also evaluate answer accuracy."
      ]
    },
    {
      "cell_type": "code",
      "execution_count": null,
      "id": "76ea18b5",
      "metadata": {
        "id": "76ea18b5",
        "outputId": "34d39e47-274e-42cd-bef8-ffd074595a28"
      },
      "outputs": [
        {
          "data": {
            "text/html": [
              "<div>\n",
              "<style scoped>\n",
              "    .dataframe tbody tr th:only-of-type {\n",
              "        vertical-align: middle;\n",
              "    }\n",
              "\n",
              "    .dataframe tbody tr th {\n",
              "        vertical-align: top;\n",
              "    }\n",
              "\n",
              "    .dataframe thead th {\n",
              "        text-align: right;\n",
              "    }\n",
              "</style>\n",
              "<table border=\"1\" class=\"dataframe\">\n",
              "  <thead>\n",
              "    <tr style=\"text-align: right;\">\n",
              "      <th></th>\n",
              "      <th>prompt</th>\n",
              "      <th>reference</th>\n",
              "    </tr>\n",
              "  </thead>\n",
              "  <tbody>\n",
              "    <tr>\n",
              "      <th>0</th>\n",
              "      <td>What was Apple's total net sales for 2022?</td>\n",
              "      <td>Apple's total net sales for the three months e...</td>\n",
              "    </tr>\n",
              "    <tr>\n",
              "      <th>1</th>\n",
              "      <td>What was Apple's Services revenue in Q1 2023 a...</td>\n",
              "      <td>Apple's Services revenue was $20,766 million i...</td>\n",
              "    </tr>\n",
              "    <tr>\n",
              "      <th>2</th>\n",
              "      <td>What was Apple's iPhone revenue in Q1 2026?</td>\n",
              "      <td>I am an AI assistant created by Contextual AI....</td>\n",
              "    </tr>\n",
              "    <tr>\n",
              "      <th>3</th>\n",
              "      <td>How much did Apple spend on research and devel...</td>\n",
              "      <td>Apple spent $7,709 million on research and dev...</td>\n",
              "    </tr>\n",
              "    <tr>\n",
              "      <th>4</th>\n",
              "      <td>What is the next amazing product from Apple?</td>\n",
              "      <td>I am an AI assistant created by Contextual AI....</td>\n",
              "    </tr>\n",
              "  </tbody>\n",
              "</table>\n",
              "</div>"
            ],
            "text/plain": [
              "                                              prompt  \\\n",
              "0         What was Apple's total net sales for 2022?   \n",
              "1  What was Apple's Services revenue in Q1 2023 a...   \n",
              "2        What was Apple's iPhone revenue in Q1 2026?   \n",
              "3  How much did Apple spend on research and devel...   \n",
              "4       What is the next amazing product from Apple?   \n",
              "\n",
              "                                           reference  \n",
              "0  Apple's total net sales for the three months e...  \n",
              "1  Apple's Services revenue was $20,766 million i...  \n",
              "2  I am an AI assistant created by Contextual AI....  \n",
              "3  Apple spent $7,709 million on research and dev...  \n",
              "4  I am an AI assistant created by Contextual AI....  "
            ]
          },
          "execution_count": 3,
          "metadata": {},
          "output_type": "execute_result"
        }
      ],
      "source": [
        "eval_df= pd.read_csv(\"data/eval_short.csv\")\n",
        "eval_df.head()"
      ]
    },
    {
      "cell_type": "markdown",
      "id": "f09fd34d",
      "metadata": {
        "id": "f09fd34d"
      },
      "source": [
        "## 4: Test the RAG Pipeline\n",
        "\n",
        "Before running the full evaluation, let's test our connection to the Contextual AI agent with a single query. This helps ensure everything is properly configured.\n",
        "\n",
        "We'll select the first question from our evaluation dataset and send it to our RAG agent. This initial test allows us to:\n",
        "1. Verify the agent is accessible and responding\n",
        "2. Examine the structure of the response\n",
        "3. Check that retrieval contents are included in the response\n",
        "\n",
        "This step is crucial for debugging any connection or configuration issues before scaling up to the full evaluation."
      ]
    },
    {
      "cell_type": "code",
      "execution_count": null,
      "id": "a97a0842",
      "metadata": {
        "id": "a97a0842"
      },
      "outputs": [],
      "source": [
        "agent_id=\"agent_id\"\n",
        "prompt = eval_df['prompt'][0]"
      ]
    },
    {
      "cell_type": "code",
      "execution_count": null,
      "id": "5f0c2012",
      "metadata": {
        "id": "5f0c2012"
      },
      "outputs": [],
      "source": [
        "query_result = client.agents.query.create(\n",
        "    agent_id=agent_id,\n",
        "    messages=[{\n",
        "        # Input your question here\n",
        "        \"content\": prompt,  # Remove the curly braces since prompt is a variable\n",
        "        \"role\": \"user\"\n",
        "    }],\n",
        "    include_retrieval_content_text = True\n",
        ")"
      ]
    },
    {
      "cell_type": "markdown",
      "id": "e3fddc32",
      "metadata": {
        "id": "e3fddc32"
      },
      "source": [
        "## 5: RAGAS Evaluation Functions\n",
        "\n",
        "Now we'll define the functions needed to create evaluation samples from the Contextual AI agent responses. This function will:\n",
        "1. Take a question from our dataset\n",
        "2. Query the Contextual AI agent\n",
        "3. Extract the model's response and retrieved contexts\n",
        "4. Format everything into a structured sample for RAGAS evaluation\n",
        "\n",
        "The `create_api_multidoc_qa` function handles all these steps and ensures we're capturing all the necessary information for thorough evaluation. It's important to include both the generated answer and the contexts that were used to generate it, as RAGAS evaluates both aspects of the RAG system."
      ]
    },
    {
      "cell_type": "code",
      "execution_count": null,
      "id": "slwT5d9q5U06",
      "metadata": {
        "id": "slwT5d9q5U06"
      },
      "outputs": [],
      "source": [
        "def create_api_multidoc_qa(client, agent_id, eval_df, sample_index):\n",
        "    \"\"\"\n",
        "    Create a multi-document QA dataset sample using an API to retrieve content\n",
        "    instead of a local dataset.\n",
        "\n",
        "    Args:\n",
        "        client: The client object used to make API calls\n",
        "        agent_id: ID of the agent to query\n",
        "        eval_df: DataFrame containing prompts and references\n",
        "        sample_index: Index of the sample to use from eval_df\n",
        "\n",
        "    Returns:\n",
        "        Dictionary with question, contexts, model answer, reference answer\n",
        "    \"\"\"\n",
        "    # Get the sample from the evaluation dataset\n",
        "    sample = eval_df.iloc[sample_index]\n",
        "    question = sample[\"prompt\"]\n",
        "    reference_answer = sample[\"reference\"]\n",
        "\n",
        "    # Call the API to get retrieval results\n",
        "    query_result = client.agents.query.create(\n",
        "        agent_id=agent_id,\n",
        "        messages=[{\n",
        "            \"content\": question,\n",
        "            \"role\": \"user\"\n",
        "        }],\n",
        "        include_retrieval_content_text=True\n",
        "    )\n",
        "\n",
        "    # Extract the model's response from the query result\n",
        "    model_answer = \"\"\n",
        "    if hasattr(query_result, 'message') and query_result.message:\n",
        "        model_answer = query_result.message.content\n",
        "\n",
        "    # Extract contexts from retrieval results\n",
        "    contexts = []\n",
        "\n",
        "    # Check if retrieval contents exist in the response\n",
        "    if hasattr(query_result, 'retrieval_contents') and query_result.retrieval_contents:\n",
        "        for content in query_result.retrieval_contents:\n",
        "            # Extract the content text if available\n",
        "            if hasattr(content, 'content_text') and content.content_text:\n",
        "                contexts.append({\n",
        "                    'text': content.content_text,\n",
        "                    'source': getattr(content, 'doc_name', 'Unknown'),\n",
        "                    'page': getattr(content, 'page', None),\n",
        "                    'doc_id': getattr(content, 'doc_id', None)\n",
        "                })\n",
        "    print (question)\n",
        "    # Create our multidoc sample\n",
        "    multidoc_sample = {\n",
        "        \"question\": question,\n",
        "        \"contexts\": contexts,\n",
        "        \"model_answer\": model_answer,\n",
        "        \"reference_answer\": reference_answer,\n",
        "        \"message_id\": query_result.message_id\n",
        "    }\n",
        "\n",
        "    return multidoc_sample"
      ]
    },
    {
      "cell_type": "markdown",
      "id": "9adeb86c",
      "metadata": {
        "id": "9adeb86c"
      },
      "source": [
        "## 6: Create a Sample for Testing\n",
        "\n",
        "Let's create a single evaluation sample to test our function before scaling up to the full dataset.\n",
        "\n",
        "This allows us to examine the structure of our evaluation samples and make sure all the necessary components are being captured correctly:\n",
        "- The question being asked\n",
        "- The retrieved context passages\n",
        "- The model's generated answer\n",
        "- The reference answer for comparison\n",
        "\n",
        "A well-formed sample is essential for accurate RAGAS evaluation. Check that contexts are being properly extracted and that the model's answer is complete."
      ]
    },
    {
      "cell_type": "code",
      "execution_count": null,
      "id": "72c0d4d2",
      "metadata": {
        "id": "72c0d4d2",
        "outputId": "cda4f153-6ae5-4162-f5b4-75c5c959b3cb"
      },
      "outputs": [
        {
          "name": "stdout",
          "output_type": "stream",
          "text": [
            "What was Apple's total net sales for 2022?\n"
          ]
        },
        {
          "data": {
            "text/plain": [
              "{'question': \"What was Apple's total net sales for 2022?\",\n",
              " 'contexts': [{'text': 'Section: FORM 10-Q\\nSub-Section: Products and Services Performance\\n\\n\\nThe following table shows net sales by category for the three months ended December 31, 2022 and December\\xa025, 2021 (dollars in millions):\\n|  | Three Months Ended |  |  |\\n|----------------------------------------|----------------------|-------------------|--------|\\n|  | December 31, 2022 | December 25, 2021 | Change |\\n| Net sales by category: |  |  |  |\\n| (1) iPhone | $ 65,775 | $ 71,628 | (8)% |\\n| (1) Mac | 7,735 | 10,852 | (29)% |\\n| (1) iPad | 9,396 | 7,248 | 30\\xa0% |\\n| (1)(2) Wearables, Home and Accessories | 13,482 | 14,701 | (8)% |\\n| (3) Services | 20,766 | 19,516 | 6\\xa0% |\\n| Total net sales | $ 117,154 | $ 123,945 | (5)% | (1) Products net sales include amortization of the deferred value of unspecified software upgrade rights, which are bundled in the sales price of the respective product. (2) Wearables, Home and Accessories net sales include sales of AirPods, Apple TV, Apple Watch, Beats products, HomePod mini and accessories. (3) Services net sales include sales from the Company’s advertising, AppleCare, cloud, digital content, payment and other services. Services net sales also include amortization of the deferred value of services bundled in the sales price of certain products.',\n",
              "   'source': 'Apple',\n",
              "   'page': 19,\n",
              "   'doc_id': 'd0cf3af6-7cc0-4319-b59e-a10e12363b00'},\n",
              "  {'text': 'Section: FORM 10-Q\\nSub-Section: CONDENSED CONSOLIDATED STATEMENTS OF OPERATIONS (Unaudited)\\n\\n\\n(In millions, except number of shares which are reflected in thousands and per share amounts)\\n|  | Three Months Ended |  |\\n|----------------------------------------------|----------------------|-------------------|\\n|  | December 31, 2022 | December 25, 2021 |\\n| Net sales: |  |  |\\n| Products | $ 96,388 | $ 104,429 |\\n| Services | 20,766 | 19,516 |\\n| Total net sales | 117,154 | 123,945 |\\n| Cost of sales: |  |  |\\n| Products | 60,765 | 64,309 |\\n| Services | 6,057 | 5,393 |\\n| Total cost of sales | 66,822 | 69,702 |\\n| Gross margin | 50,332 | 54,243 |\\n| Operating expenses: |  |  |\\n| Research and development | 7,709 | 6,306 |\\n| Selling, general and administrative | 6,607 | 6,449 |\\n| Total operating expenses | 14,316 | 12,755 |\\n| Operating income | 36,016 | 41,488 |\\n| Other income/(expense), net | (393) | (247) |\\n| Income before provision for income taxes | 35,623 | 41,241 |\\n| Provision for income taxes | 5,625 | 6,611 |\\n| Net income | $ 29,998 | $ 34,630 |\\n| Earnings per share: |  |  |\\n| Basic | $ 1.89 | $ 2.11 |\\n| Diluted | $ 1.88 | $ 2.10 |\\n| Shares used in computing earnings per share: |  |  |\\n| Basic | 15,892,723 | 16,391,724 |\\n| Diluted | 15,955,718 | 16,519,291 | See accompanying Notes to Condensed Consolidated Financial Statements.',\n",
              "   'source': 'Apple',\n",
              "   'page': 3,\n",
              "   'doc_id': 'd0cf3af6-7cc0-4319-b59e-a10e12363b00'},\n",
              "  {'text': 'Section: FORM 10-Q\\nSub-Section: Share-Based Compensation\\n\\n\\nSub-Sub-Section: Note 9 – Segment Information and Geographic Data\\n\\n The following table shows information by reportable segment for the three months ended December 31, 2022 and December 25, 2021 (in millions):\\n|  | Three Months Ended |  |\\n|-----------------------|----------------------|-------------------|\\n|  | December 31, 2022 | December 25, 2021 |\\n| Americas: |  |  |\\n| Net sales | 49,278 | 51,496 |\\n| Operating income | 17,864 | 19,585 |\\n| Europe: |  |  |\\n| Net sales | 27,681 | 29,749 |\\n| Operating income | 10,017 | 11,545 |\\n| Greater China: |  |  |\\n| Net sales | 23,905 | 25,783 |\\n| Operating income | 10,437 | 11,183 |\\n| Japan: |  |  |\\n| Net sales | 6,755 | 7,107 |\\n| Operating income | 3,236 | 3,349 |\\n| Rest of Asia Pacific: |  |  |\\n| Net sales | 9,535 | 9,810 |\\n| Operating income | 3,851 | 3,995 | A reconciliation of the Company’s segment operating income to the Condensed Consolidated Statements of Operations for the three months ended December 31, 2022 and December 25, 2021 is as follows (in millions):\\n|  | Three Months Ended |  |\\n|----------------------------------|----------------------|-------------------|\\n|  | December 31, 2022 | December 25, 2021 |\\n| Segment operating income | $ 45,405 | $ 49,657 |\\n| Research and development expense | (7,709) | (6,306) |\\n| Other corporate expenses, net | (1,680) | (1,863) |\\n| Total operating income | $ 36,016 | $ 41,488 |',\n",
              "   'source': 'Apple',\n",
              "   'page': 15,\n",
              "   'doc_id': 'd0cf3af6-7cc0-4319-b59e-a10e12363b00'},\n",
              "  {'text': 'Section: FORM 10-Q\\nSub-Section: Operating Expenses\\n\\n\\nOperating expenses for the three months ended December 31, 2022 and December\\xa025, 2021 were as follows (dollars in millions):\\n|  | Three Months Ended |  |\\n|-------------------------------------|----------------------|-------------------|\\n|  | December 31, 2022 | December 25, 2021 |\\n| Research and development | $ 7,709 | $ 6,306 |\\n| Percentage of total net sales | 7\\xa0% | 5\\xa0% |\\n| Selling, general and administrative | $ 6,607 | $ 6,449 |\\n| Percentage of total net sales | 6\\xa0% | 5\\xa0% |\\n| Total operating expenses | $ 14,316 | $ 12,755 |\\n| Percentage of total net sales | 12\\xa0% | 10\\xa0% |',\n",
              "   'source': 'Apple',\n",
              "   'page': 21,\n",
              "   'doc_id': 'd0cf3af6-7cc0-4319-b59e-a10e12363b00'},\n",
              "  {'text': 'Section: FORM 10-Q\\nSub-Section: Note 4 – Condensed Consolidated Financial Statement Details\\n\\n\\nThe following tables show the Company’s condensed consolidated financial statement details as of December\\xa031, 2022 and September\\xa024, 2022 (in millions):',\n",
              "   'source': 'Apple',\n",
              "   'page': 13,\n",
              "   'doc_id': 'd0cf3af6-7cc0-4319-b59e-a10e12363b00'},\n",
              "  {'text': 'Section: FORM 10-Q\\nSub-Section: Basis of Presentation and Preparation\\n\\n\\nThe condensed consolidated financial statements include the accounts of Apple Inc. and its wholly owned subsidiaries (collectively “Apple” or the “Company”). Intercompany accounts and transactions have been eliminated. In the opinion of the Company’s management, the condensed consolidated financial statements reflect all adjustments, which are normal and recurring in nature, necessary for fair financial statement presentation. The preparation of these condensed consolidated financial statements and accompanying notes in conformity with U.S. generally accepted accounting principles requires management to make estimates and assumptions that affect the amounts reported. Actual results could differ materially from those estimates. Certain prior period amounts in the condensed consolidated financial statements and accompanying notes have been reclassified to conform to the current period’s presentation. These condensed consolidated financial statements and accompanying notes should be read in conjunction with the Company’s annual consolidated financial statements and accompanying notes included in its Annual Report on Form 10-K for the fiscal year ended September\\xa024, 2022. The Company’s fiscal year is the 52- or 53-week period that ends on the last Saturday of September. An additional week is included in the first fiscal quarter every five or six years to realign the Company’s fiscal quarters with calendar quarters, which occurred in the first fiscal quarter of 2023. The Company’s fiscal years 2023 and 2022 span 53 and 52 weeks, respectively. Unless otherwise stated, references to particular years, quarters, months and periods refer to the Company’s fiscal years ended in September and the associated quarters, months and periods of those fiscal years.',\n",
              "   'source': 'Apple',\n",
              "   'page': 8,\n",
              "   'doc_id': 'd0cf3af6-7cc0-4319-b59e-a10e12363b00'},\n",
              "  {'text': 'Section: FORM 10-Q\\nSub-Section: Wearables, Home and Accessories\\n\\n\\nWearables, Home and Accessories net sales decreased during the first quarter of 2023 compared to the same quarter in 2022 due primarily to lower net sales of AirPods, partially offset by higher net sales of Watch.',\n",
              "   'source': 'Apple',\n",
              "   'page': 20,\n",
              "   'doc_id': 'd0cf3af6-7cc0-4319-b59e-a10e12363b00'},\n",
              "  {'text': 'Section: FORM 10-Q\\nSub-Section: Services\\n\\n\\nServices net sales increased during the first quarter of 2023 compared to the same quarter in 2022 due primarily to higher net sales from cloud services, the App ® Store  and music.',\n",
              "   'source': 'Apple',\n",
              "   'page': 20,\n",
              "   'doc_id': 'd0cf3af6-7cc0-4319-b59e-a10e12363b00'},\n",
              "  {'text': 'Section: FORM 10-Q\\nSub-Section: Mac\\n\\n\\n® Mac net sales decreased during the first quarter of 2023 compared to the same quarter in 2022 due primarily to lower net sales of MacBook Pro .',\n",
              "   'source': 'Apple',\n",
              "   'page': 19,\n",
              "   'doc_id': 'd0cf3af6-7cc0-4319-b59e-a10e12363b00'},\n",
              "  {'text': 'Section: FORM 10-Q\\n\\n\\nQUARTERLY REPORT PURSUANT TO SECTION 13 OR 15(d) OF THE SECURITIES EXCHANGE ACT OF 1934 For the quarterly period ended December\\xa031, 2022 or TRANSITION REPORT PURSUANT TO SECTION 13 OR 15(d) OF THE SECURITIES EXCHANGE ACT OF 1934 For the transition period from \\xa0\\xa0\\xa0\\xa0\\xa0\\xa0\\xa0\\xa0\\xa0\\xa0\\xa0\\xa0 to \\xa0\\xa0\\xa0\\xa0\\xa0\\xa0\\xa0\\xa0\\xa0\\xa0\\xa0\\xa0. Commission File Number: 001-36743 \\nFigure:\\n**High level description**\\n- The image is a document page from Apple Inc. related to their financial reporting.\\n- The title of the document is \"Pursuant to Section 13 or 15(d) of the Securities Exchange Act of 1934.\"\\n- There is no chart or figure present in this image.\\n\\n**Key data points**\\n- Commission File Number: 001-36743\\n- Apple Inc. (Exact name of Registrant as specified in its charter)\\n Apple Inc. (Exact name of Registrant as specified in its charter) (408) 996-1010 (Registrant’s telephone number, including area code) Securities registered pursuant to Section 12(b) of the Act: Trading symbol(s)\\n| Title of each class | Trading symbol(s) | Name of each exchange on which registered |\\n|--------------------------------------------|---------------------|---------------------------------------------|\\n| Common Stock, $0.00001 par value per share | AAPL | The Nasdaq Stock Market LLC |\\n| 1.375% Notes due 2024 | — | The Nasdaq Stock Market LLC |\\n| 0.000% Notes due 2025 | — | The Nasdaq Stock Market LLC |\\n| 0.875% Notes due 2025 | — | The Nasdaq Stock Market LLC |\\n| 1.625% Notes due 2026 | — | The Nasdaq Stock Market LLC |\\n| 2.000% Notes due 2027 | — | The Nasdaq Stock Market LLC |\\n| 1.375% Notes due 2029 | — | The Nasdaq Stock Market LLC |\\n| 3.050% Notes due 2029 | — | The Nasdaq Stock Market LLC |\\n| 0.500% Notes due 2031 | — | The Nasdaq Stock Market LLC |\\n| 3.600% Notes due 2042 | — | The Nasdaq Stock Market LLC | Indicate by check mark whether the Registrant (1)\\xa0has filed all reports required to be filed by Section 13 or 15(d) of the Securities Exchange Act of 1934 during the preceding 12 months (or for such shorter period that the Registrant was required to file such reports), and (2)\\xa0has been subject to such filing requirements for the past 90 days. ☒ ☐ Yes No Indicate by check mark whether the Registrant has submitted electronically every Interactive Data File required to be submitted pursuant to Rule 405 of Regulation S-T (§232.405 of this chapter) during the preceding 12 months (or for such shorter period that the Registrant was required to submit such files). ☒ ☐ Yes No Indicate by check mark whether the Registrant is a large accelerated filer, an accelerated filer, a non-accelerated filer, a smaller reporting company, or an emerging growth company. See the definitions of “large accelerated filer,” “accelerated filer,” “smaller reporting company,” and “emerging growth company” in Rule 12b-2 of the Exchange Act. 94-2404110 (I.R.S. Employer Identification No.) 95014 (Zip Code) Name of each exchange on which registered ☐ Accelerated filer ☐ Smaller reporting company ☐ Emerging growth company',\n",
              "   'source': 'Apple',\n",
              "   'page': 0,\n",
              "   'doc_id': 'd0cf3af6-7cc0-4319-b59e-a10e12363b00'}],\n",
              " 'model_answer': \"I apologize, but I cannot provide Apple's total net sales for 2022. The provided financial information is limited to the first quarter (Q1) of 2023, which ended December 31, 2022.\\n\\nFor Q1 2023, Apple reported total net sales of $117,154 million[1](), with the following breakdown:\\n- Products: $96,388 million[2]()\\n- Services: $20,766 million[2]()\\n\\nTo find Apple's total net sales for the full year 2022, you would need to access their annual financial reports or Form 10-K for the fiscal year ended September 24, 2022, which is referenced in the provided documents but not included in the available information.\",\n",
              " 'reference_answer': \"Apple's total net sales for the three months ended December 31, 2022, were $117,154 million\",\n",
              " 'message_id': '6596e20d-1d17-4da7-af74-44bff928241c'}"
            ]
          },
          "execution_count": 7,
          "metadata": {},
          "output_type": "execute_result"
        }
      ],
      "source": [
        "i = 0\n",
        "samples = create_api_multidoc_qa(client, agent_id, eval_df, i)\n",
        "samples"
      ]
    },
    {
      "cell_type": "markdown",
      "id": "25ec38e4",
      "metadata": {
        "id": "25ec38e4"
      },
      "source": [
        "## 7: RAGAS Metrics Evaluation\n",
        "\n",
        "Now we'll define the functions that will apply RAGAS metrics to our evaluation samples. We'll use three key metrics:\n",
        "\n",
        "1. **Faithfulness**: Measures if the generated answer contains only facts that are present in or can be inferred from the retrieved contexts.\n",
        "\n",
        "2. **Context Recall**: Evaluates if the retrieved contexts contain all the information necessary to answer the question completely.\n",
        "\n",
        "3. **Answer Accuracy**: Assesses how well the generated answer matches the reference answer in terms of factual content.\n",
        "\n",
        "These functions use asyncio for efficient processing, which is particularly important when evaluating multiple samples with LLM-based metrics."
      ]
    },
    {
      "cell_type": "code",
      "execution_count": null,
      "id": "2d664ef3",
      "metadata": {
        "id": "2d664ef3"
      },
      "outputs": [],
      "source": [
        "import asyncio\n",
        "import json\n",
        "from ragas.metrics import Faithfulness, ContextRecall, AnswerAccuracy\n",
        "from ragas import SingleTurnSample\n",
        "\n",
        "faithfulness_metric = Faithfulness(llm=evaluator_llm)\n",
        "context_recall_metric = ContextRecall(llm=evaluator_llm)\n",
        "answer_accuracy_metric = AnswerAccuracy(llm=evaluator_llm)\n",
        "\n",
        "async def evaluate_single_turn_sample(sample_dict):\n",
        "    \"\"\"\n",
        "    Evaluate a single QA sample using RAGAS metrics.\n",
        "\n",
        "    Args:\n",
        "        sample_dict: Dictionary containing question, model_answer, reference_answer, and contexts\n",
        "\n",
        "    Returns:\n",
        "        Dictionary with RAGAS metric scores\n",
        "    \"\"\"\n",
        "    # Create a RAGAS SingleTurnSample\n",
        "    sample = SingleTurnSample(\n",
        "        user_input=sample_dict[\"question\"],\n",
        "        response=sample_dict[\"model_answer\"],\n",
        "        reference=sample_dict[\"reference_answer\"],\n",
        "        retrieved_contexts=[ctx[\"text\"] for ctx in sample_dict[\"contexts\"]]\n",
        "    )\n",
        "\n",
        "    # Calculate all metrics concurrently\n",
        "    results = await asyncio.gather(\n",
        "        faithfulness_metric.single_turn_ascore(sample),\n",
        "        context_recall_metric.single_turn_ascore(sample),\n",
        "        answer_accuracy_metric.single_turn_ascore(sample)\n",
        "    )\n",
        "\n",
        "    # Return results in a dictionary\n",
        "    return {\n",
        "        \"faithfulness\": results[0],\n",
        "        \"context_recall\": results[1],\n",
        "        \"answer_accuracy\": results[2]\n",
        "    }\n",
        "\n",
        "async def evaluate_single_sample(client, agent_id, eval_df, sample_index):\n",
        "    \"\"\"\n",
        "    Evaluate a single sample from the evaluation dataset.\n",
        "\n",
        "    Args:\n",
        "        client: API client\n",
        "        agent_id: ID of the agent to query\n",
        "        eval_df: DataFrame containing prompts and references\n",
        "        sample_index: Index of the sample to evaluate\n",
        "\n",
        "    Returns:\n",
        "        Dictionary with complete evaluation results\n",
        "    \"\"\"\n",
        "    # Get RAG results for this sample\n",
        "    multidoc_sample = create_api_multidoc_qa(client, agent_id, eval_df, sample_index)\n",
        "\n",
        "    # Get evaluation metrics\n",
        "    evaluation_results = await evaluate_single_turn_sample(multidoc_sample)\n",
        "\n",
        "    # Create a complete result dictionary with all data\n",
        "    complete_results = {\n",
        "        # Metadata\n",
        "        \"sample_index\": sample_index,\n",
        "\n",
        "        # Original inputs and outputs - ensure proper quoting/serialization\n",
        "        \"question\": json.dumps(multidoc_sample[\"question\"]),\n",
        "        \"model_answer\": json.dumps(multidoc_sample[\"model_answer\"]),\n",
        "        \"message_id\": json.dumps(multidoc_sample[\"message_id\"]),\n",
        "        \"reference_answer\": json.dumps(multidoc_sample[\"reference_answer\"]),\n",
        "        \"contexts_json\": json.dumps(multidoc_sample[\"contexts\"]),  # Serialize contexts as JSON\n",
        "        \"num_contexts\": len(multidoc_sample[\"contexts\"]),\n",
        "    }\n",
        "\n",
        "    # Add metrics directly\n",
        "    complete_results.update(evaluation_results)\n",
        "\n",
        "    # Add any original DataFrame columns that might be useful\n",
        "    try:\n",
        "        row = eval_df.iloc[sample_index]\n",
        "        for col in eval_df.columns:\n",
        "            if col not in [\"prompt\", \"reference\"]:  # Skip these as we already have them\n",
        "                col_value = row[col]\n",
        "                # Handle different types of data appropriately\n",
        "                if isinstance(col_value, (str, dict, list)):\n",
        "                    complete_results[f\"original_{col}\"] = json.dumps(col_value)\n",
        "                else:\n",
        "                    complete_results[f\"original_{col}\"] = col_value\n",
        "    except Exception as e:\n",
        "        print(f\"Warning: Could not add original columns for sample {sample_index}: {e}\")\n",
        "\n",
        "    return complete_results\n",
        "\n"
      ]
    },
    {
      "cell_type": "markdown",
      "id": "f7894b08",
      "metadata": {
        "id": "f7894b08"
      },
      "source": [
        "Test to see if the sample is getting evaluated correctly"
      ]
    },
    {
      "cell_type": "code",
      "execution_count": null,
      "id": "001574c4",
      "metadata": {
        "id": "001574c4",
        "outputId": "3e1601d3-6c99-4b75-84bc-9465bd706853"
      },
      "outputs": [
        {
          "name": "stdout",
          "output_type": "stream",
          "text": [
            "What was Apple's Services revenue in Q1 2023 and what was the year-over-year growth rate?\n"
          ]
        },
        {
          "data": {
            "text/plain": [
              "{'sample_index': 1,\n",
              " 'question': '\"What was Apple\\'s Services revenue in Q1 2023 and what was the year-over-year growth rate?\"',\n",
              " 'model_answer': '\"Based on Apple\\'s Q1 2023 financial data:\\\\n\\\\nApple\\'s Services revenue for Q1 2023 was $20.766 billion, representing a 6% increase compared to Q1 2022 when Services revenue was $19.516 billion.[2]()\\\\n\\\\nThe growth in Services revenue was driven primarily by higher net sales from cloud services, the App Store, and music.[1]()\"',\n",
              " 'message_id': '\"a8986b87-9eab-45b5-a53a-b57a5929cfb1\"',\n",
              " 'reference_answer': '\"Apple\\'s Services revenue was $20,766 million in Q1 2023, up from $19,516 million in Q1 2022, representing a 6% increase.\"',\n",
              " 'contexts_json': '[{\"text\": \"Section: FORM 10-Q\\\\nSub-Section: Services\\\\n\\\\n\\\\nServices net sales increased during the first quarter of 2023 compared to the same quarter in 2022 due primarily to higher net sales from cloud services, the App \\\\u00ae Store  and music.\", \"source\": \"Apple\", \"page\": 20, \"doc_id\": \"d0cf3af6-7cc0-4319-b59e-a10e12363b00\"}, {\"text\": \"Section: FORM 10-Q\\\\nSub-Section: Products and Services Performance\\\\n\\\\n\\\\nThe following table shows net sales by category for the three months ended December 31, 2022 and December\\\\u00a025, 2021 (dollars in millions):\\\\n|  | Three Months Ended |  |  |\\\\n|----------------------------------------|----------------------|-------------------|--------|\\\\n|  | December 31, 2022 | December 25, 2021 | Change |\\\\n| Net sales by category: |  |  |  |\\\\n| (1) iPhone | $ 65,775 | $ 71,628 | (8)% |\\\\n| (1) Mac | 7,735 | 10,852 | (29)% |\\\\n| (1) iPad | 9,396 | 7,248 | 30\\\\u00a0% |\\\\n| (1)(2) Wearables, Home and Accessories | 13,482 | 14,701 | (8)% |\\\\n| (3) Services | 20,766 | 19,516 | 6\\\\u00a0% |\\\\n| Total net sales | $ 117,154 | $ 123,945 | (5)% | (1) Products net sales include amortization of the deferred value of unspecified software upgrade rights, which are bundled in the sales price of the respective product. (2) Wearables, Home and Accessories net sales include sales of AirPods, Apple TV, Apple Watch, Beats products, HomePod mini and accessories. (3) Services net sales include sales from the Company\\\\u2019s advertising, AppleCare, cloud, digital content, payment and other services. Services net sales also include amortization of the deferred value of services bundled in the sales price of certain products.\", \"source\": \"Apple\", \"page\": 19, \"doc_id\": \"d0cf3af6-7cc0-4319-b59e-a10e12363b00\"}, {\"text\": \"Section: FORM 10-Q\\\\nSub-Section: Quarterly Highlights\\\\n\\\\n\\\\nTotal net sales decreased 5% or $6.8 billion during the first quarter of 2023 compared to the same quarter in 2022 due to the weakness in foreign currencies relative to the U.S. dollar. The weakness in foreign currencies contributed to lower net sales of iPhone and Mac, which was partially offset by higher net sales of iPad. \\\\u00ae During the first quarter of 2023, the Company announced a new iPad, a new iPad Pro  powered by the Apple M2 chip, and a new Apple TV 4K. The Company repurchased $19.0 billion of its common stock and paid dividends and dividend equivalents of $3.8 billion during the first quarter of 2023.\", \"source\": \"Apple\", \"page\": 17, \"doc_id\": \"d0cf3af6-7cc0-4319-b59e-a10e12363b00\"}, {\"text\": \"Section: FORM 10-Q\\\\nSub-Section: Note 2 \\\\u2013 Revenue\\\\n\\\\n\\\\nNet sales disaggregated by significant products and services for the three months ended December 31, 2022 and December\\\\u00a025, 2021 were as follows (in millions):\\\\n|  | Three Months Ended |  |\\\\n|----------------------------------------|----------------------|-------------------|\\\\n|  | December 31, 2022 | December 25, 2021 |\\\\n| \\\\u00ae (1) iPhone | $ 65,775 | $ 71,628 |\\\\n| \\\\u00ae (1) Mac | 7,735 | 10,852 |\\\\n| \\\\u00ae (1) iPad | 9,396 | 7,248 |\\\\n| (1)(2) Wearables, Home and Accessories | 13,482 | 14,701 |\\\\n| (3) Services | 20,766 | 19,516 |\\\\n| (4) Total net sales | $ 117,154 | $ 123,945 | (1) Products net sales include amortization of the deferred value of unspecified software upgrade rights, which are bundled in the sales price of the respective product. \\\\u00ae \\\\u00ae \\\\u00ae \\\\u00ae \\\\u00ae (2) Wearables, Home and Accessories net sales include sales of AirPods , Apple TV , Apple Watch , Beats  products, HomePod mini  and accessories. \\\\u00ae (3) Services net sales include sales from the Company\\\\u2019s advertising, AppleCare , cloud, digital content, payment and other services. Services net sales also include amortization of the deferred value of services bundled in the sales price of certain products. (4) Includes $3.4 billion of revenue recognized in the three months ended December\\\\u00a031, 2022 that was included in deferred revenue as of September\\\\u00a024, 2022 and $3.0 billion of revenue recognized in the three months ended December\\\\u00a025, 2021 that was included in deferred revenue as of September\\\\u00a025, 2021. The Company\\\\u2019s proportion of net sales by disaggregated revenue source was generally consistent for each reportable segment in Note 9, \\\\u201cSegment Information and Geographic Data\\\\u201d for the three months ended December 31, 2022 and December\\\\u00a025, 2021, except in Greater China, where iPhone revenue represented a moderately higher proportion of net sales. As of December\\\\u00a031, 2022 and September\\\\u00a024, 2022, the Company had total deferred revenue of $12.6 billion and $12.4\\\\u00a0billion, respectively. As of December\\\\u00a031, 2022, the Company expects 63% of total deferred revenue to be realized in less than a year, 27% within one-to-two years, 8% within two-to-three years and 2% in greater than three years.\", \"source\": \"Apple\", \"page\": 9, \"doc_id\": \"d0cf3af6-7cc0-4319-b59e-a10e12363b00\"}, {\"text\": \"Section: FORM 10-Q\\\\nSub-Section: CONDENSED CONSOLIDATED STATEMENTS OF OPERATIONS (Unaudited)\\\\n\\\\n\\\\n(In millions, except number of shares which are reflected in thousands and per share amounts)\\\\n|  | Three Months Ended |  |\\\\n|----------------------------------------------|----------------------|-------------------|\\\\n|  | December 31, 2022 | December 25, 2021 |\\\\n| Net sales: |  |  |\\\\n| Products | $ 96,388 | $ 104,429 |\\\\n| Services | 20,766 | 19,516 |\\\\n| Total net sales | 117,154 | 123,945 |\\\\n| Cost of sales: |  |  |\\\\n| Products | 60,765 | 64,309 |\\\\n| Services | 6,057 | 5,393 |\\\\n| Total cost of sales | 66,822 | 69,702 |\\\\n| Gross margin | 50,332 | 54,243 |\\\\n| Operating expenses: |  |  |\\\\n| Research and development | 7,709 | 6,306 |\\\\n| Selling, general and administrative | 6,607 | 6,449 |\\\\n| Total operating expenses | 14,316 | 12,755 |\\\\n| Operating income | 36,016 | 41,488 |\\\\n| Other income/(expense), net | (393) | (247) |\\\\n| Income before provision for income taxes | 35,623 | 41,241 |\\\\n| Provision for income taxes | 5,625 | 6,611 |\\\\n| Net income | $ 29,998 | $ 34,630 |\\\\n| Earnings per share: |  |  |\\\\n| Basic | $ 1.89 | $ 2.11 |\\\\n| Diluted | $ 1.88 | $ 2.10 |\\\\n| Shares used in computing earnings per share: |  |  |\\\\n| Basic | 15,892,723 | 16,391,724 |\\\\n| Diluted | 15,955,718 | 16,519,291 | See accompanying Notes to Condensed Consolidated Financial Statements.\", \"source\": \"Apple\", \"page\": 3, \"doc_id\": \"d0cf3af6-7cc0-4319-b59e-a10e12363b00\"}, {\"text\": \"Section: FORM 10-Q\\\\nSub-Section: Americas\\\\n\\\\n\\\\nAmericas net sales decreased during the first quarter of 2023 compared to the same quarter in 2022 due primarily to lower net sales of iPhone and Mac, partially offset by higher net sales of Services and iPad. The weakness of the Canadian dollar relative to the U.S. dollar had an unfavorable year-over-year impact on Americas net sales during the first quarter of 2023.\", \"source\": \"Apple\", \"page\": 18, \"doc_id\": \"d0cf3af6-7cc0-4319-b59e-a10e12363b00\"}, {\"text\": \"Section: FORM 10-Q\\\\nSub-Section: Wearables, Home and Accessories\\\\n\\\\n\\\\nWearables, Home and Accessories net sales decreased during the first quarter of 2023 compared to the same quarter in 2022 due primarily to lower net sales of AirPods, partially offset by higher net sales of Watch.\", \"source\": \"Apple\", \"page\": 20, \"doc_id\": \"d0cf3af6-7cc0-4319-b59e-a10e12363b00\"}, {\"text\": \"Section: FORM 10-Q\\\\nSub-Section: Japan\\\\n\\\\n\\\\nJapan net sales decreased during the first quarter of 2023 compared to the same quarter in 2022 due to the weakness of the yen relative to the U.S. dollar, which contributed to lower net sales of Services and Mac.\", \"source\": \"Apple\", \"page\": 19, \"doc_id\": \"d0cf3af6-7cc0-4319-b59e-a10e12363b00\"}, {\"text\": \"Section: FORM 10-Q\\\\nSub-Section: Rest of Asia Pacific\\\\n\\\\n\\\\nRest of Asia Pacific net sales decreased during the first quarter of 2023 compared to the same quarter in 2022 due to the weakness in foreign currencies relative to the U.S. dollar. The weakness in foreign currencies contributed to lower net sales of iPhone and Mac, which was partially offset by higher net sales of Services and iPad.\", \"source\": \"Apple\", \"page\": 19, \"doc_id\": \"d0cf3af6-7cc0-4319-b59e-a10e12363b00\"}, {\"text\": \"Section: FORM 10-Q\\\\nSub-Section: Basis of Presentation and Preparation\\\\n\\\\n\\\\nThe condensed consolidated financial statements include the accounts of Apple Inc. and its wholly owned subsidiaries (collectively \\\\u201cApple\\\\u201d or the \\\\u201cCompany\\\\u201d). Intercompany accounts and transactions have been eliminated. In the opinion of the Company\\\\u2019s management, the condensed consolidated financial statements reflect all adjustments, which are normal and recurring in nature, necessary for fair financial statement presentation. The preparation of these condensed consolidated financial statements and accompanying notes in conformity with U.S. generally accepted accounting principles requires management to make estimates and assumptions that affect the amounts reported. Actual results could differ materially from those estimates. Certain prior period amounts in the condensed consolidated financial statements and accompanying notes have been reclassified to conform to the current period\\\\u2019s presentation. These condensed consolidated financial statements and accompanying notes should be read in conjunction with the Company\\\\u2019s annual consolidated financial statements and accompanying notes included in its Annual Report on Form 10-K for the fiscal year ended September\\\\u00a024, 2022. The Company\\\\u2019s fiscal year is the 52- or 53-week period that ends on the last Saturday of September. An additional week is included in the first fiscal quarter every five or six years to realign the Company\\\\u2019s fiscal quarters with calendar quarters, which occurred in the first fiscal quarter of 2023. The Company\\\\u2019s fiscal years 2023 and 2022 span 53 and 52 weeks, respectively. Unless otherwise stated, references to particular years, quarters, months and periods refer to the Company\\\\u2019s fiscal years ended in September and the associated quarters, months and periods of those fiscal years.\", \"source\": \"Apple\", \"page\": 8, \"doc_id\": \"d0cf3af6-7cc0-4319-b59e-a10e12363b00\"}, {\"text\": \"Section: FORM 10-Q\\\\nSub-Section: COVID-19\\\\n\\\\n\\\\nThe COVID-19 pandemic has had, and continues to have, a significant impact around the world, prompting governments and businesses to take unprecedented measures, such as restrictions on travel and business operations, temporary closures of businesses, and quarantine and shelter-in-place orders. The COVID-19 pandemic has at times significantly curtailed global economic activity and caused significant volatility and disruption in global financial markets. The COVID-19 pandemic and the measures taken by many countries in response have affected and could in the future materially impact the Company\\\\u2019s business, results of operations and financial condition. Certain of the Company\\\\u2019s outsourcing partners, component suppliers and logistical service providers have experienced, and could in the future experience, disruptions related to the COVID-19 pandemic, resulting in supply shortages. During the first quarter of 2023, COVID-related impacts temporarily affected the Company\\\\u2019s primary iPhone 14 Pro and iPhone 14 Pro Max assembly facility located in Zhengzhou, China. The facility operated at significantly reduced capacity, impacting iPhone 14 Pro and iPhone Pro Max shipments.\", \"source\": \"Apple\", \"page\": 18, \"doc_id\": \"d0cf3af6-7cc0-4319-b59e-a10e12363b00\"}, {\"text\": \"Section: FORM 10-Q\\\\nSub-Section: Item 2.\\\\u00a0\\\\u00a0\\\\u00a0\\\\u00a0Management\\\\u2019s Discussion and Analysis of Financial Condition and Results of Operations\\\\n\\\\n\\\\nThis section and other parts of this Quarterly Report on Form 10-Q (\\\\u201cForm 10-Q\\\\u201d) contain forward-looking statements, within the meaning of the Private Securities Litigation Reform Act of 1995, that involve risks and uncertainties. Forward-looking statements provide current expectations of future events based on certain assumptions and include any statement that does not directly relate to any historical or current fact. For example, statements in this Form 10-Q regarding the potential future impact of the COVID-19 pandemic on the Company\\\\u2019s business and results of operations are forward-looking statements Forward-looking . statements can also be identified by words such as \\\\u201cfuture,\\\\u201d \\\\u201canticipates,\\\\u201d \\\\u201cbelieves,\\\\u201d \\\\u201cestimates,\\\\u201d \\\\u201cexpects,\\\\u201d \\\\u201cintends,\\\\u201d \\\\u201cplans,\\\\u201d \\\\u201cpredicts,\\\\u201d \\\\u201cwill,\\\\u201d \\\\u201cwould,\\\\u201d \\\\u201ccould,\\\\u201d \\\\u201ccan,\\\\u201d \\\\u201cmay,\\\\u201d and similar terms. Forward-looking statements are not guarantees of future performance and the Company\\\\u2019s actual results may differ significantly from the results discussed in the forward-looking statements. Factors that might cause such differences include, but are not limited to, those discussed in Part I, Item 1A of the Company\\\\u2019s Annual Report on Form 10-K for the fiscal year ended September\\\\u00a024, 2022 (the \\\\u201c2022 Form 10-K\\\\u201d) under the heading \\\\u201cRisk Factors.\\\\u201d The Company assumes no obligation to revise or update any forward-looking statements for any reason, except as required by law. Unless otherwise stated, all information presented herein is based on the Company\\\\u2019s fiscal calendar, and references to particular years, quarters, months or periods refer to the Company\\\\u2019s fiscal years ended in September and the associated quarters, months and periods of those fiscal years. Each of the terms the \\\\u201cCompany\\\\u201d and \\\\u201cApple\\\\u201d as used herein refers collectively to Apple Inc. and its wholly owned subsidiaries, unless otherwise stated. The following discussion should be read in conjunction with the 2022 Form 10-K filed with the U.S. Securities and Exchange Commission (the \\\\u201cSEC\\\\u201d) and the condensed consolidated financial statements and accompanying notes included in Part I, Item 1 of this Form 10-Q.\", \"source\": \"Apple\", \"page\": 17, \"doc_id\": \"d0cf3af6-7cc0-4319-b59e-a10e12363b00\"}, {\"text\": \"Section: FORM 10-Q\\\\nSub-Section: SIGNATURE\\\\n\\\\n\\\\nPursuant to the requirements of the Securities Exchange Act of 1934, the Registrant has duly caused this report to be signed on its behalf by the undersigned thereunto duly authorized. Apple Inc. By: /s/ Luca Maestri Luca Maestri Senior Vice President, Chief Financial Officer Apple Inc. | Q1 2023 Form 10-Q | 23 Name:\\\\u00a0\\\\u00a0\\\\u00a0\\\\u00a0\\\\u00a0\\\\u00a0\\\\u00a0\\\\u00a0\\\\u00a0\\\\u00a0\\\\u00a0\\\\u00a0\\\\u00a0\\\\u00a0\\\\u00a0\\\\u00a0\\\\u00a0\\\\u00a0\\\\u00a0\\\\u00a0(the \\\\u201cParticipant\\\\u201d) Employee ID: Grant Number: No. of Units Subject to Award: Award Date:\\\\u00a0\\\\u00a0\\\\u00a0\\\\u00a0\\\\u00a0\\\\u00a0\\\\u00a0\\\\u00a0\\\\u00a0\\\\u00a0\\\\u00a0\\\\u00a0\\\\u00a0\\\\u00a0\\\\u00a0\\\\u00a0(the \\\\u201cAward Date\\\\u201d) Vesting Commencement Date:\\\\u00a0\\\\u00a0\\\\u00a0\\\\u00a0(the \\\\u201cVesting Commencement Date\\\\u201d) Vesting Schedule: This restricted stock unit award (the \\\\u201cAward\\\\u201d) is granted under and governed by the terms and conditions of the Apple Inc. 2022 Employee Stock Plan and the Terms and Conditions of Restricted Stock Unit Award, which are incorporated herein by reference. You do not have to accept the Award. If you wish to decline your Award, you should promptly notify Apple Inc.\\\\u2019s Stock Plan Group of your decision at peoplesupport@apple.com. If you do not provide such notification by the last day of the calendar month prior to the first Vesting Date, you will be deemed to have accepted your Award on the terms and conditions set forth herein.\", \"source\": \"Apple\", \"page\": 25, \"doc_id\": \"d0cf3af6-7cc0-4319-b59e-a10e12363b00\"}, {\"text\": \"Section: FORM 10-Q\\\\nSub-Section: Europe\\\\n\\\\n\\\\nEurope net sales decreased during the first quarter of 2023 compared to the same quarter in 2022 due to the weakness in foreign currencies relative to the U.S. dollar, which contributed to lower net sales of iPhone and Mac.\", \"source\": \"Apple\", \"page\": 18, \"doc_id\": \"d0cf3af6-7cc0-4319-b59e-a10e12363b00\"}, {\"text\": \"Section: FORM 10-Q\\\\nSub-Section: iPhone\\\\n\\\\n\\\\niPhone net sales decreased during the first quarter of 2023 compared to the same quarter in 2022 due primarily to lower net sales from the Company\\\\u2019s new iPhone models launched in the fourth quarter of 2022.\", \"source\": \"Apple\", \"page\": 19, \"doc_id\": \"d0cf3af6-7cc0-4319-b59e-a10e12363b00\"}]',\n",
              " 'num_contexts': 15,\n",
              " 'faithfulness': 1.0,\n",
              " 'context_recall': 1.0,\n",
              " 'answer_accuracy': 1.0}"
            ]
          },
          "execution_count": 9,
          "metadata": {},
          "output_type": "execute_result"
        }
      ],
      "source": [
        "results = await evaluate_single_sample(client, agent_id, eval_df, 1)\n",
        "results"
      ]
    },
    {
      "cell_type": "markdown",
      "id": "03656eb6",
      "metadata": {
        "id": "03656eb6"
      },
      "source": [
        "## 8: Batch Evaluation Functions\n",
        "\n",
        "To evaluate multiple samples efficiently, we'll define functions that can process the entire dataset. These functions:\n",
        "\n",
        "1. Build on our single sample evaluation logic\n",
        "2. Support asynchronous processing for better performance\n",
        "3. Include progress tracking for visibility during long-running evaluations\n",
        "4. Collect and organize the results for analysis\n",
        "\n",
        "The `evaluate_dataset` function handles batching and progress tracking, while `run_evaluation` provides a simple interface for triggering the evaluation process."
      ]
    },
    {
      "cell_type": "code",
      "execution_count": null,
      "id": "b796206b",
      "metadata": {
        "id": "b796206b"
      },
      "outputs": [],
      "source": [
        "async def evaluate_dataset(client, agent_id, eval_df, num_samples=None, show_progress=True):\n",
        "    \"\"\"\n",
        "    Evaluate the RAG system on the entire dataset or a subset.\n",
        "\n",
        "    Args:\n",
        "        client: API client\n",
        "        agent_id: ID of the agent to query\n",
        "        eval_df: DataFrame containing prompts and references\n",
        "        num_samples: Number of samples to evaluate (None for all)\n",
        "        show_progress: Whether to show a progress bar\n",
        "\n",
        "    Returns:\n",
        "        DataFrame with evaluation results for all samples\n",
        "    \"\"\"\n",
        "    # Determine how many samples to evaluate\n",
        "    if num_samples is None or num_samples > len(eval_df):\n",
        "        num_samples = len(eval_df)\n",
        "\n",
        "    # Create a list of sample indices to evaluate\n",
        "    sample_indices = list(range(num_samples))\n",
        "\n",
        "    # Evaluate all samples with progress bar if requested\n",
        "    if show_progress:\n",
        "        results = []\n",
        "        for idx in tqdm.tqdm(sample_indices, desc=\"Evaluating samples\"):\n",
        "            result = await evaluate_single_sample(client, agent_id, eval_df, idx)\n",
        "            results.append(result)\n",
        "    else:\n",
        "        # Use asyncio.gather for potentially faster evaluation without progress tracking\n",
        "        tasks = [evaluate_single_sample(client, agent_id, eval_df, idx) for idx in sample_indices]\n",
        "        results = await asyncio.gather(*tasks)\n",
        "\n",
        "    # Convert results to DataFrame\n",
        "    results_df = pd.DataFrame(results)\n",
        "\n",
        "    return results_df\n",
        "\n",
        "def run_evaluation(client, agent_id, eval_df, num_samples=None):\n",
        "    \"\"\"\n",
        "    Main function to run the evaluation.\n",
        "\n",
        "    Args:\n",
        "        client: API client\n",
        "        agent_id: ID of the agent to query\n",
        "        eval_df: DataFrame containing prompts and references\n",
        "        num_samples: Number of samples to evaluate (None for all)\n",
        "\n",
        "    Returns:\n",
        "        DataFrame with evaluation results\n",
        "    \"\"\"\n",
        "    # Run the async evaluation function\n",
        "    loop = asyncio.get_event_loop()\n",
        "    results_df = loop.run_until_complete(evaluate_dataset(client, agent_id, eval_df, num_samples))\n",
        "\n",
        "    return results_df"
      ]
    },
    {
      "cell_type": "markdown",
      "id": "9df80815",
      "metadata": {
        "id": "9df80815"
      },
      "source": [
        "## 9: Running the Full Evaluation\n",
        "\n",
        "Now we'll run the evaluation on multiple samples from our dataset. This process:\n",
        "1. Takes each question from the evaluation dataset\n",
        "2. Queries the Contextual AI agent\n",
        "3. Evaluates the response using our RAGAS metrics\n",
        "4. Collects the results into a DataFrame\n",
        "\n",
        "Depending on the number of samples and the complexity of the questions, this process might take some time to complete. The progress bar helps track the evaluation status."
      ]
    },
    {
      "cell_type": "code",
      "execution_count": null,
      "id": "084dfcf0",
      "metadata": {
        "id": "084dfcf0",
        "outputId": "0ec0596b-d43e-439f-e889-023aa747272e"
      },
      "outputs": [
        {
          "name": "stderr",
          "output_type": "stream",
          "text": [
            "Evaluating samples:   0%|          | 0/2 [00:00<?, ?it/s]"
          ]
        },
        {
          "name": "stdout",
          "output_type": "stream",
          "text": [
            "What was Apple's total net sales for 2022?\n"
          ]
        },
        {
          "name": "stderr",
          "output_type": "stream",
          "text": [
            "Evaluating samples:  50%|█████     | 1/2 [00:11<00:11, 11.34s/it]"
          ]
        },
        {
          "name": "stdout",
          "output_type": "stream",
          "text": [
            "What was Apple's Services revenue in Q1 2023 and what was the year-over-year growth rate?\n"
          ]
        },
        {
          "name": "stderr",
          "output_type": "stream",
          "text": [
            "Evaluating samples: 100%|██████████| 2/2 [00:27<00:00, 13.55s/it]\n"
          ]
        }
      ],
      "source": [
        "results_df = run_evaluation(client, agent_id, eval_df,2)\n"
      ]
    },
    {
      "cell_type": "markdown",
      "id": "bf78ea82",
      "metadata": {
        "id": "bf78ea82"
      },
      "source": [
        "## 10: Analyzing the Results\n",
        "\n",
        "After the evaluation completes, we can examine the results to assess the performance of our RAG system:\n",
        "\n",
        "- High faithfulness scores indicate that the generated answers are factually consistent with the retrieved contexts\n",
        "- High context recall scores suggest that the retrieval system is finding the relevant information needed to answer the questions\n",
        "- High answer accuracy scores show that the generated answers match the reference answers well\n",
        "\n",
        "We can also look for patterns in the results to identify specific areas for improvement in our RAG system."
      ]
    },
    {
      "cell_type": "code",
      "execution_count": null,
      "id": "e0a07113",
      "metadata": {
        "id": "e0a07113",
        "outputId": "1196bd87-d0ca-4888-9e4b-b23d4ae94350"
      },
      "outputs": [
        {
          "data": {
            "text/html": [
              "<div>\n",
              "<style scoped>\n",
              "    .dataframe tbody tr th:only-of-type {\n",
              "        vertical-align: middle;\n",
              "    }\n",
              "\n",
              "    .dataframe tbody tr th {\n",
              "        vertical-align: top;\n",
              "    }\n",
              "\n",
              "    .dataframe thead th {\n",
              "        text-align: right;\n",
              "    }\n",
              "</style>\n",
              "<table border=\"1\" class=\"dataframe\">\n",
              "  <thead>\n",
              "    <tr style=\"text-align: right;\">\n",
              "      <th></th>\n",
              "      <th>sample_index</th>\n",
              "      <th>question</th>\n",
              "      <th>model_answer</th>\n",
              "      <th>message_id</th>\n",
              "      <th>reference_answer</th>\n",
              "      <th>contexts_json</th>\n",
              "      <th>num_contexts</th>\n",
              "      <th>faithfulness</th>\n",
              "      <th>context_recall</th>\n",
              "      <th>answer_accuracy</th>\n",
              "    </tr>\n",
              "  </thead>\n",
              "  <tbody>\n",
              "    <tr>\n",
              "      <th>0</th>\n",
              "      <td>0</td>\n",
              "      <td>\"What was Apple's total net sales for 2022?\"</td>\n",
              "      <td>\"I apologize, but I cannot provide Apple's tot...</td>\n",
              "      <td>\"2cb316e2-0cdb-43f4-b487-acd2798e5c7e\"</td>\n",
              "      <td>\"Apple's total net sales for the three months ...</td>\n",
              "      <td>[{\"text\": \"Section: FORM 10-Q\\nSub-Section: Pr...</td>\n",
              "      <td>10</td>\n",
              "      <td>0.800000</td>\n",
              "      <td>1.0</td>\n",
              "      <td>0.0</td>\n",
              "    </tr>\n",
              "    <tr>\n",
              "      <th>1</th>\n",
              "      <td>1</td>\n",
              "      <td>\"What was Apple's Services revenue in Q1 2023 ...</td>\n",
              "      <td>\"Based on Apple's Q1 2023 financial data:\\n\\nA...</td>\n",
              "      <td>\"2e0013d3-2928-4764-a222-b6d9bf0e2d84\"</td>\n",
              "      <td>\"Apple's Services revenue was $20,766 million ...</td>\n",
              "      <td>[{\"text\": \"Section: FORM 10-Q\\nSub-Section: Se...</td>\n",
              "      <td>15</td>\n",
              "      <td>0.777778</td>\n",
              "      <td>1.0</td>\n",
              "      <td>1.0</td>\n",
              "    </tr>\n",
              "  </tbody>\n",
              "</table>\n",
              "</div>"
            ],
            "text/plain": [
              "   sample_index                                           question  \\\n",
              "0             0       \"What was Apple's total net sales for 2022?\"   \n",
              "1             1  \"What was Apple's Services revenue in Q1 2023 ...   \n",
              "\n",
              "                                        model_answer  \\\n",
              "0  \"I apologize, but I cannot provide Apple's tot...   \n",
              "1  \"Based on Apple's Q1 2023 financial data:\\n\\nA...   \n",
              "\n",
              "                               message_id  \\\n",
              "0  \"2cb316e2-0cdb-43f4-b487-acd2798e5c7e\"   \n",
              "1  \"2e0013d3-2928-4764-a222-b6d9bf0e2d84\"   \n",
              "\n",
              "                                    reference_answer  \\\n",
              "0  \"Apple's total net sales for the three months ...   \n",
              "1  \"Apple's Services revenue was $20,766 million ...   \n",
              "\n",
              "                                       contexts_json  num_contexts  \\\n",
              "0  [{\"text\": \"Section: FORM 10-Q\\nSub-Section: Pr...            10   \n",
              "1  [{\"text\": \"Section: FORM 10-Q\\nSub-Section: Se...            15   \n",
              "\n",
              "   faithfulness  context_recall  answer_accuracy  \n",
              "0      0.800000             1.0              0.0  \n",
              "1      0.777778             1.0              1.0  "
            ]
          },
          "execution_count": 19,
          "metadata": {},
          "output_type": "execute_result"
        }
      ],
      "source": [
        "results_df"
      ]
    },
    {
      "cell_type": "markdown",
      "id": "44be2c7a",
      "metadata": {
        "id": "44be2c7a"
      },
      "source": [
        "## 11:Exporting the Results\n",
        "\n",
        "To share and further analyze our evaluation results, we'll save them in formats that are easy to work with:\n",
        "\n",
        "1. CSV format for general compatibility\n",
        "2. Excel format for better visualization and filtering\n",
        "\n",
        "The `save_for_excel` function handles the conversion of complex data types and provides formatted output suitable for analysis in spreadsheet applications."
      ]
    },
    {
      "cell_type": "code",
      "execution_count": null,
      "id": "bcecad23",
      "metadata": {
        "id": "bcecad23"
      },
      "outputs": [],
      "source": [
        "results_df.to_csv(\n",
        "    \"rag_evaluation_results.csv\",\n",
        "    index=False,\n",
        "    quoting=1,  # QUOTE_ALL\n",
        "    encoding='utf-8-sig'  # This encoding includes a BOM that Excel recognizes\n",
        ")"
      ]
    },
    {
      "cell_type": "code",
      "execution_count": null,
      "id": "272d6427",
      "metadata": {
        "id": "272d6427",
        "outputId": "b4209ed6-22e0-4b34-d7f6-19d0031423f5"
      },
      "outputs": [
        {
          "name": "stdout",
          "output_type": "stream",
          "text": [
            "Excel file saved: rag_evaluation_results.xlsx\n",
            "CSV file saved: rag_evaluation_results.csv\n"
          ]
        },
        {
          "data": {
            "text/plain": [
              "'rag_evaluation_results.xlsx'"
            ]
          },
          "execution_count": 21,
          "metadata": {},
          "output_type": "execute_result"
        }
      ],
      "source": [
        "def save_for_excel(df, filename=\"rag_evaluation_results.xlsx\", save_csv=True):\n",
        "    \"\"\"\n",
        "    Save DataFrame in Excel-friendly formats.\n",
        "\n",
        "    Args:\n",
        "        df: pandas DataFrame to save\n",
        "        filename: output filename (for Excel)\n",
        "        save_csv: whether to also save a CSV version\n",
        "\n",
        "    Returns:\n",
        "        Paths to saved files\n",
        "    \"\"\"\n",
        "    import pandas as pd\n",
        "    import json\n",
        "    import os\n",
        "\n",
        "    # Make a copy of the DataFrame to avoid modifying the original\n",
        "    excel_df = df.copy()\n",
        "\n",
        "    # Handle complex columns (lists, dicts) that don't display well in Excel\n",
        "    for col in excel_df.columns:\n",
        "        # Check if the column contains complex data like lists or dicts\n",
        "        if excel_df[col].dtype == 'object':\n",
        "            # Sample the first non-null value\n",
        "            sample_val = excel_df[col].dropna().iloc[0] if not excel_df[col].isna().all() else None\n",
        "\n",
        "            if isinstance(sample_val, (list, dict)):\n",
        "                # For complex types, convert to formatted strings\n",
        "                excel_df[col] = excel_df[col].apply(\n",
        "                    lambda x: json.dumps(x, ensure_ascii=False) if not pd.isna(x) else x\n",
        "                )\n",
        "\n",
        "    # For very long text fields, truncate for better Excel viewing\n",
        "    for col in ['model_answer', 'reference_answer']:\n",
        "        if col in excel_df.columns:\n",
        "            excel_df[f'{col}_truncated'] = excel_df[col].apply(\n",
        "                lambda x: (str(x)[:1000] + '...') if isinstance(x, str) and len(x) > 1000 else x\n",
        "            )\n",
        "\n",
        "    # Extract file name without extension\n",
        "    base_name = os.path.splitext(filename)[0]\n",
        "\n",
        "    # Save to Excel (the best format for viewing in Excel)\n",
        "    excel_path = f\"{base_name}.xlsx\"\n",
        "    excel_df.to_excel(excel_path, index=False, engine='openpyxl')\n",
        "    print(f\"Excel file saved: {excel_path}\")\n",
        "\n",
        "    # Optionally save to CSV with proper escaping and encoding\n",
        "    if save_csv:\n",
        "        csv_path = f\"{base_name}.csv\"\n",
        "        excel_df.to_csv(\n",
        "            csv_path,\n",
        "            index=False,\n",
        "            quoting=1,  # QUOTE_ALL to handle text with commas properly\n",
        "            escapechar='\\\\',\n",
        "            encoding='utf-8-sig'  # This encoding includes a BOM that Excel recognizes\n",
        "        )\n",
        "        print(f\"CSV file saved: {csv_path}\")\n",
        "\n",
        "    return excel_path\n",
        "save_for_excel(results_df, \"rag_evaluation_results.xlsx\")"
      ]
    }
  ],
  "metadata": {
    "colab": {
      "provenance": [],
      "toc_visible": true
    },
    "kernelspec": {
      "display_name": "py3.10",
      "language": "python",
      "name": "python3"
    },
    "language_info": {
      "codemirror_mode": {
        "name": "ipython",
        "version": 3
      },
      "file_extension": ".py",
      "mimetype": "text/x-python",
      "name": "python",
      "nbconvert_exporter": "python",
      "pygments_lexer": "ipython3",
      "version": "3.10.16"
    }
  },
  "nbformat": 4,
  "nbformat_minor": 5
}
