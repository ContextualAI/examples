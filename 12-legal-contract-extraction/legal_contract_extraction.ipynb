{
  "cells": [
    {
      "cell_type": "markdown",
      "metadata": {
        "id": "8iPJnDH0HhXB"
      },
      "source": [
        "<img src=\"https://imagedelivery.net/Dr98IMl5gQ9tPkFM5JRcng/3e5f6fbd-9bc6-4aa1-368e-e8bb1d6ca100/Ultra\" alt=\"Image description\" width=\"160\" />\n",
        "\n",
        "<br/>\n",
        "\n",
        "# Legal Contract Data Extraction with Contextual AI\n",
        "\n",
        "This notebook demonstrates how to use the [Contextual AI Platform](https://docs.contextual.ai/) for automated legal contract analysis and data extraction. We'll build a specialized agent that can answer yes/no questions about legal documents. The Agent's outputs are provided in a structured format, so they can easily be ingested into other workflows or applications.\n",
        "This approach can be generalized for any type of data extraction from unstructured documents.\n",
        "\n",
        "## Notebook Structure\n",
        "\n",
        "1. **Setup and Prerequisites** - Environment setup, API configuration, and dependencies\n",
        "2. **Datastore Creation and Document Management** - Creating datastores, ingesting documents, and adding metadata\n",
        "3. **Agent Configuration** - Setting up the legal analysis agent with specialized prompts for extraction\n",
        "4. **Structured Output Schema** - Defining JSON schemas for consistent responses\n",
        "5. **Batch Extraction** - Running comprehensive analysis across documents\n",
        "\n",
        "You can run this notebook entirely in Colab:\n",
        "\n",
        "[![Open In Colab](https://colab.research.google.com/assets/colab-badge.svg)](https://colab.research.google.com/github/ContextualAI/examples/blob/main/12-legal-contract-extraction/legal_contract_extraction.ipynb)"
      ]
    },
    {
      "cell_type": "markdown",
      "metadata": {
        "id": "czJ6eN8OHxhj"
      },
      "source": [
        "## 1. Setup and Prerequisites\n",
        "\n",
        "### Prerequisites\n",
        "\n",
        "- **API Key**: Available in the UI inside your workplace at contextual.ai\n",
        "- **Python Client**: Install with `pip install contextual-client`\n",
        "- **Sample Data**: We'll use the several contracts found in the data folder\n",
        "\n",
        "**Security Note**: Never hardcode API keys in notebooks. Use environment variables or secure key management."
      ]
    },
    {
      "cell_type": "code",
      "execution_count": null,
      "metadata": {
        "colab": {
          "base_uri": "https://localhost:8080/"
        },
        "id": "PZpdSLxOiuaa",
        "outputId": "40348c6b-05cb-44fc-c4ad-8a42039d5dfc"
      },
      "outputs": [],
      "source": [
        "!pip install contextual-client"
      ]
    },
    {
      "cell_type": "code",
      "execution_count": null,
      "metadata": {
        "id": "cvR_1XM8EULJ"
      },
      "outputs": [],
      "source": [
        "import os\n",
        "import requests\n",
        "import json\n",
        "from pathlib import Path\n",
        "from typing import List, Optional, Dict\n",
        "from IPython.display import display, JSON\n",
        "import pandas as pd\n",
        "from contextual import ContextualAI"
      ]
    },
    {
      "cell_type": "code",
      "execution_count": null,
      "metadata": {
        "id": "4wJG66VTIQvO"
      },
      "outputs": [],
      "source": [
        "# Initialize Contextual AI client\n",
        "# You can store the API key as an environment variable: \n",
        "# os.environ[\"CONTEXTUAL_API_KEY\"] = API_KEY\n",
        "\n",
        "client = ContextualAI(\n",
        "    api_key=os.getenv(\"CONTEXTUAL_API_KEY\")\n",
        ")"
      ]
    },
    {
      "cell_type": "markdown",
      "metadata": {
        "id": "hg0s7fAJEULK",
        "vscode": {
          "languageId": "raw"
        }
      },
      "source": [
        "## 2. Datastore Creation and Document Management\n",
        "\n",
        "### 2.1 Create Datastore\n",
        "\n",
        "First, we'll create a new datastore for our legal contracts. This will serve as the repository for all documents we want to analyze."
      ]
    },
    {
      "cell_type": "code",
      "execution_count": null,
      "metadata": {
        "colab": {
          "base_uri": "https://localhost:8080/"
        },
        "id": "HbjHQhqQEULK",
        "outputId": "5afcae19-9b6a-4742-b3ef-23930742bf78"
      },
      "outputs": [],
      "source": [
        "result = client.datastores.create(name=\"Demo_legal_contracts\")\n",
        "datastore_id = result.id\n",
        "print(f\"Datastore ID: {datastore_id}\")"
      ]
    },
    {
      "cell_type": "markdown",
      "metadata": {
        "id": "uSURXeydEULK"
      },
      "source": [
        "### 2.2 Download and Ingest Sample Documents\n",
        "\n",
        "We'll download the sample legal contract and ingest it into our datastore. This contract is a non-compete contract found in the Atticus Open Contract Dataset on [Kaggle](https://www.kaggle.com/datasets/konradb/atticus-open-contract-dataset-aok-beta). Feel free to use this notebook with multiple contracts."
      ]
    },
    {
      "cell_type": "code",
      "execution_count": null,
      "metadata": {
        "colab": {
          "base_uri": "https://localhost:8080/"
        },
        "id": "zIEBAmJEylMH",
        "outputId": "46488b06-fe98-41ba-89fc-2e06b5b5d1c1"
      },
      "outputs": [],
      "source": [
        "def fetch_file(filepath):\n",
        "    os.makedirs(os.path.dirname(filepath), exist_ok=True) if '/' in filepath else None\n",
        "    if not os.path.exists(filepath):\n",
        "        print(f\"Fetching {filepath}\")\n",
        "        response = requests.get(f\"https://raw.githubusercontent.com/ContextualAI/examples/main/12-legal-contract-extraction/{filepath}\")\n",
        "        if response.ok:\n",
        "            with open(filepath, 'wb') as f:\n",
        "                f.write(response.content)\n",
        "            print(f\"Saved {filepath}\")\n",
        "        else:\n",
        "            print(f\"Failed to fetch {filepath}\")\n",
        "\n",
        "fetch_file('data/QuakerChemicalCorporation.pdf')\n",
        "fetch_file('data/western.pdf')\n",
        "fetch_file('data/vivintsolar.pdf')"
      ]
    },
    {
      "cell_type": "markdown",
      "metadata": {},
      "source": [
        "Ingesting into a datastore"
      ]
    },
    {
      "cell_type": "code",
      "execution_count": null,
      "metadata": {
        "colab": {
          "base_uri": "https://localhost:8080/"
        },
        "id": "GiptKY8oEULL",
        "outputId": "79b07cb0-0d97-4ad8-8096-ac81d05fea59"
      },
      "outputs": [],
      "source": [
        "def ingest_documents(folder_path, datastore_id) -> Dict[str, str]:\n",
        "    folder = Path(folder_path)\n",
        "    document_ids = {}  # Dictionary to store filename: document_id pairs\n",
        "\n",
        "    for file_path in folder.iterdir():\n",
        "        if file_path.is_file() and file_path.suffix.lower() in ['.pdf', '.html']:\n",
        "            try:\n",
        "                with open(file_path, 'rb') as f:\n",
        "                    ingestion_result = client.datastores.documents.ingest(datastore_id, file=f)\n",
        "                    document_ids[file_path.name] = ingestion_result.id\n",
        "                    print(f\"Successfully uploaded {file_path.name} to datastore {datastore_id}\")\n",
        "            except Exception as e:\n",
        "                print(f\"Error uploading {file_path.name}: {str(e)}\")\n",
        "\n",
        "    return document_ids\n",
        "\n",
        "# Usage example\n",
        "folder_path = 'data'\n",
        "uploaded_docs = ingest_documents(folder_path, datastore_id)"
      ]
    },
    {
      "cell_type": "markdown",
      "metadata": {
        "id": "6i7W8CGEEULL"
      },
      "source": [
        "### 2.3 Set Document Metadata\n",
        "\n",
        "Metadata is a powerful feature to improve retrieval. Let's add filename metadata to make documents easier to filter and identify during queries.  \n",
        "\n",
        "\n",
        "Other uses for metadata could include fields like version, jurisdiction, or financial quarter. Anything that would be useful for retrieval or generation is a great candidate for including as metadata.\n",
        "You can also decide if you want to include metadata inside the chunk (the default setting) and if you want to include using it for filtering retrievals (the default setting), find more in the [docs](https://docs.contextual.ai/api-reference/datastores-documents/update-document-metadata).\n"
      ]
    },
    {
      "cell_type": "code",
      "execution_count": null,
      "metadata": {
        "colab": {
          "base_uri": "https://localhost:8080/"
        },
        "id": "RXfGLD_qEULL",
        "outputId": "ed133674-e307-4db7-8329-3e440488c8ec"
      },
      "outputs": [],
      "source": [
        "# Retrieve all documents from the datastore\n",
        "docs = client.datastores.documents.list(datastore_id=datastore_id)\n",
        "doc_pairs = [(doc.id, doc.name, doc.status) for doc in docs.documents]\n",
        "print(\"Document ID and Name pairs:\")\n",
        "for doc_id, name, status in doc_pairs:\n",
        "    print(f\"ID: {doc_id}, Name: {name}, Status: {status}\")"
      ]
    },
    {
      "cell_type": "markdown",
      "metadata": {
        "id": "0EzuRBbSGKZs"
      },
      "source": [
        "You can add metadata at ingest time or after a document has been processed. Here we are adding metadata with the assumption that the document has been processed.\n",
        "If the status is not completed, please wait before adding metadata."
      ]
    },
    {
      "cell_type": "code",
      "execution_count": null,
      "metadata": {
        "colab": {
          "base_uri": "https://localhost:8080/"
        },
        "id": "Ez-NoKHaEULM",
        "outputId": "891efa47-71cb-44f8-8258-6cd1048a5d82"
      },
      "outputs": [],
      "source": [
        "# Add Filename metadata to each document for easier querying\n",
        "for doc_id, name, status in doc_pairs:\n",
        "    result = client.datastores.documents.set_metadata(\n",
        "        datastore_id=datastore_id,\n",
        "        document_id=doc_id,\n",
        "        custom_metadata={\"Filename\": name}\n",
        "    )\n",
        "    print(f\"Set metadata for {name} (ID: {doc_id}): {result}\")"
      ]
    },
    {
      "cell_type": "code",
      "execution_count": null,
      "metadata": {
        "colab": {
          "base_uri": "https://localhost:8080/"
        },
        "id": "w6xZmJlwEULM",
        "outputId": "97703c5e-e425-4712-8f6d-a67bca82ff9e"
      },
      "outputs": [],
      "source": [
        "# Verify metadata configuration\n",
        "document_id = docs.documents[0].id\n",
        "metadata = client.datastores.documents.metadata(datastore_id=datastore_id,\n",
        "                        document_id=document_id)\n",
        "print(\"Document metadata:\", metadata.custom_metadata)"
      ]
    },
    {
      "cell_type": "markdown",
      "metadata": {
        "id": "fng5cOm9EULM"
      },
      "source": [
        "## 3. Agent Configuration\n",
        "\n",
        "### 3.1 Create Legal Analysis Agent\n",
        "\n",
        "We'll create a specialized agent for legal document analysis with access to our datastore."
      ]
    },
    {
      "cell_type": "code",
      "execution_count": null,
      "metadata": {
        "colab": {
          "base_uri": "https://localhost:8080/"
        },
        "id": "finZEdU5EULM",
        "outputId": "68df4348-86d2-4c20-d00f-3e9b00adc1f6"
      },
      "outputs": [],
      "source": [
        "app_response = client.agents.create(\n",
        "    name=\"Demo Legal Extraction\",\n",
        "    description=\"Extraction Agent for legal contracts\",\n",
        "    datastore_ids=[datastore_id]\n",
        ")\n",
        "agent_id= app_response.id\n",
        "print(f\"Agent ID created: {agent_id}\")"
      ]
    },
    {
      "cell_type": "code",
      "execution_count": null,
      "metadata": {
        "id": "RJHZ_HCSyMf-"
      },
      "outputs": [],
      "source": [
        "# Disable the filter prompt to get the top 15 chunks\n",
        "response = client.agents.update(\n",
        "    agent_id=agent_id,\n",
        "    extra_body={\n",
        "        \"agent_configs\": {\n",
        "            \"global_config\": {\n",
        "                \"enable_filter\": False\n",
        "            }\n",
        "        }\n",
        "    }\n",
        ")"
      ]
    },
    {
      "cell_type": "markdown",
      "metadata": {
        "id": "vYsJ-IvwEULM"
      },
      "source": [
        "### 3.2 Define Legal Extraction System Prompt\n",
        "\n",
        "We'll create a specialized system prompt designed for legal document analysis with structured yes/no responses.\n",
        "Adding the JSON structure you want for an output is recommended."
      ]
    },
    {
      "cell_type": "code",
      "execution_count": null,
      "metadata": {
        "id": "pIencN7kEULM"
      },
      "outputs": [],
      "source": [
        "# Specialized system prompt for legal document analysis\n",
        "extraction_system_prompt = \"\"\"\n",
        "LEGAL DATA EXTRACTION REQUEST\n",
        "\n",
        "You are a legal document assistant to answer questions in a Yes or No format about relevant documentation provided to you.\n",
        "Your responses should be precise, accurate, and sourced exclusively from the provided information.\n",
        "Your answers will be Y for yes or N for no. If you do not know, answer IDK.  You will add a one sentence explanation.\n",
        "\n",
        "Please follow these guidelines:\n",
        "* Only use information from the provided documentation. Avoid opinions, speculation, or assumptions.\n",
        "* Directly answer the question, then STOP.\n",
        "* If the information is irrelevant, answer IDK.\n",
        "\n",
        " JSON FORMATTING REQUIREMENTS:\n",
        "- Each query MUST have a \"value\" field and a \"exp\" field\n",
        "- Values should be Y, N, or IDK\n",
        "- exp should be one sentence\n",
        "- Ensure valid JSON syntax with proper quotes and commas\n",
        "\n",
        "REQUIRED OUTPUT FORMAT:\n",
        "Return a complete, valid JSON object with this exact structure:\n",
        "{\n",
        " \"Answer\": {\"value\": \"Y\"},\n",
        " \"Explanation\": {\"exp\": \"No clause in the contract was identified\"}\n",
        "}\n",
        "\"\"\"\n"
      ]
    },
    {
      "cell_type": "markdown",
      "metadata": {
        "id": "ot16zr0qEULN"
      },
      "source": [
        "### 3.3 Update Agent Configuration\n",
        "\n",
        "Apply the specialized prompt to our agent for legal document analysis."
      ]
    },
    {
      "cell_type": "code",
      "execution_count": null,
      "metadata": {
        "colab": {
          "base_uri": "https://localhost:8080/"
        },
        "id": "PIiAdIK3EULN",
        "outputId": "52462a16-19a0-475f-f041-b58237f8e3bf"
      },
      "outputs": [],
      "source": [
        "# Update agent with the legal extraction prompt\n",
        "client.agents.update(agent_id=agent_id, system_prompt=extraction_system_prompt)\n",
        "\n",
        "# Verify the updated configuration\n",
        "agent_config = client.agents.metadata(agent_id=agent_id)\n",
        "print(\"Updated system prompt:\")\n",
        "print(agent_config.system_prompt)"
      ]
    },
    {
      "cell_type": "markdown",
      "metadata": {
        "id": "h3dfOLv5EULN"
      },
      "source": [
        "## 4. Structured Output Schema  \n",
        "\n",
        "### 4.1 Define JSON Schema\n",
        "\n",
        "We'll create a structured output schema to ensure consistent, parseable responses from our legal analysis agent.\n",
        "Note the format of using `json_schema`."
      ]
    },
    {
      "cell_type": "code",
      "execution_count": null,
      "metadata": {
        "id": "bT-Isg2sEULN"
      },
      "outputs": [],
      "source": [
        "# JSON schema for structured legal analysis responses\n",
        "answer_with_explanation_schema = {\n",
        "    \"json_schema\": {\n",
        "    \"type\": \"object\",\n",
        "    \"properties\": {\n",
        "        \"answer\": {\n",
        "            \"type\": \"string\",\n",
        "            \"enum\": [\"Y\", \"N\", \"IDK\"],\n",
        "            \"description\": \"Must be exactly Y, N, or IDK\"\n",
        "        },\n",
        "        \"explanation\": {\n",
        "            \"type\": \"string\",\n",
        "            \"description\": \"Brief explanation of the answer based on the document\"\n",
        "        }\n",
        "    },\n",
        "    \"required\": [\"answer\", \"explanation\"]\n",
        "}}"
      ]
    },
    {
      "cell_type": "markdown",
      "metadata": {
        "id": "NbUj_b0vEULN"
      },
      "source": [
        "Write a simple query to test extraction, the query includes:\n",
        "- Filters to limit extraction to a specific document\n",
        "- Structured output in a json schema\n",
        "- Ability to include the retrievals with all the chunk data in the generated answer\n",
        "- Ability to only get the chunks with no generated answer (using retrievals only)\n"
      ]
    },
    {
      "cell_type": "code",
      "execution_count": null,
      "metadata": {
        "colab": {
          "base_uri": "https://localhost:8080/",
          "height": 52
        },
        "id": "kEHtVBAeEULN",
        "outputId": "107ea455-db45-4c65-8349-fa4c9cf7e7a7"
      },
      "outputs": [],
      "source": [
        "query = \"Is the non-competition period limited to 2 years or less?\"\n",
        "source_document = \"QuakerChemicalCorporation.pdf\"\n",
        "\n",
        "query_result = client.agents.query.create(\n",
        "        agent_id=agent_id,\n",
        "        messages=[{\n",
        "            \"content\": query,\n",
        "            \"role\": \"user\"\n",
        "        }],\n",
        "        documents_filters= {\n",
        "        \"operator\": \"AND\",\n",
        "        \"filters\": [\n",
        "            {\"field\": \"Filename\", \"operator\": \"equals\", \"value\": source_document}\n",
        "        ]\n",
        "        },\n",
        "        extra_body = {\"structured_output\": answer_with_explanation_schema},\n",
        "        include_retrieval_content_text=False,\n",
        "        retrievals_only=False\n",
        "        )\n",
        "\n",
        "query_result.message.content"
      ]
    },
    {
      "cell_type": "markdown",
      "metadata": {
        "id": "06kHMjdyEULN"
      },
      "source": [
        "## Batch Extraction\n",
        "\n",
        "### 5.1 Create Query Function\n",
        "\n",
        "Create a reusable function to query documents with structured output."
      ]
    },
    {
      "cell_type": "code",
      "execution_count": null,
      "metadata": {
        "id": "ZfwbhyKGEULN"
      },
      "outputs": [],
      "source": [
        "def query_document(query, document_name):\n",
        "    \"\"\"Simple function to query a document with Y/N/IDK structured output\"\"\"\n",
        "\n",
        "    query_result = client.agents.query.create(\n",
        "        agent_id=agent_id,\n",
        "        messages=[{\n",
        "            \"content\": query,\n",
        "            \"role\": \"user\"\n",
        "        }],\n",
        "        documents_filters= {\n",
        "        \"operator\": \"AND\",\n",
        "        \"filters\": [\n",
        "            {\"field\": \"Filename\", \"operator\": \"equals\", \"value\": document_name}\n",
        "        ]\n",
        "        },\n",
        "        extra_body = {\"structured_output\": answer_with_explanation_schema},\n",
        "        include_retrieval_content_text=False,\n",
        "        retrievals_only=False\n",
        "        )\n",
        "    return query_result.message.content"
      ]
    },
    {
      "cell_type": "markdown",
      "metadata": {
        "id": "tcNifTTj0naW"
      },
      "source": [
        "Let's test and verify this works for different documents."
      ]
    },
    {
      "cell_type": "code",
      "execution_count": null,
      "metadata": {
        "colab": {
          "base_uri": "https://localhost:8080/"
        },
        "id": "5W7KbfoZEULN",
        "outputId": "f0c0f4e7-e47c-451c-f78d-662716c3bacf"
      },
      "outputs": [],
      "source": [
        "query = \"Is the non-competition period limited to 2 years or less?\"\n",
        "source_document = \"QuakerChemicalCorporation.pdf\"\n",
        "result = query_document(query, source_document)\n",
        "print(result)"
      ]
    },
    {
      "cell_type": "code",
      "execution_count": null,
      "metadata": {
        "colab": {
          "base_uri": "https://localhost:8080/"
        },
        "id": "pHOdJCHj0hIx",
        "outputId": "1fa6e567-785c-4088-b365-2c32772ab934"
      },
      "outputs": [],
      "source": [
        "query = \"Is the non-competition period limited to 2 years or less?\"\n",
        "source_document = \"western.pdf\"\n",
        "result = query_document(query, source_document)\n",
        "print(result)"
      ]
    },
    {
      "cell_type": "markdown",
      "metadata": {
        "id": "QuY7jnwoEULN"
      },
      "source": [
        "### 5.2 Run a Batch Extraction Job\n",
        "\n",
        "Here is a list of extraction questions"
      ]
    },
    {
      "cell_type": "code",
      "execution_count": null,
      "metadata": {
        "colab": {
          "base_uri": "https://localhost:8080/"
        },
        "id": "jorABaEfEULN",
        "outputId": "920b2a90-3e7b-45b1-e2fc-c24cefefc635"
      },
      "outputs": [],
      "source": [
        "# Legal Due Diligence Questions List\n",
        "legal_questions = [\n",
        "    \"Is the non-competition period limited to 2 years or less?\",\n",
        "    \"Does the non-competition covenant exclude China from its geographic scope?\",\n",
        "    \"Is the employee non-solicitation period longer than the non-competition period?\",\n",
        "    \"Does the agreement include severability provisions for unenforceable restrictions?\",\n",
        "    \"Are there judicial modification provisions allowing courts to narrow overly broad restrictions?\",\n",
        "    \"Is there acknowledgment that legal remedies would be inadequate for breach?\",\n",
        "    \"Is there a passive investment exception for holdings under 10%?\",\n",
        "    \"Does the agreement allow routine day-to-day business transactions?\",\n",
        "    \"Is there a revenue threshold ($25M+) exception for acquired businesses?\",\n",
        "    \"Can sellers hire employees terminated by buyer after a 12-month waiting period?\",\n",
        "    \"Is Pennsylvania law designated as the governing law?\",\n",
        "    \"Do federal and state courts in Philadelphia have exclusive jurisdiction?\",\n",
        "    \"Can the buyer seek injunctive relief without posting a bond?\",\n",
        "    \"Does the prevailing party recover attorney's fees?\",\n",
        "    \"Does the agreement define \\\"control\\\" as power to direct management?\",\n",
        "    \"Do the restrictive covenants apply to the sellers' affiliates?\",\n",
        "    \"Are there special restrictions on Russian Oil beyond general provisions?\",\n",
        "    \"Are there confidentiality obligations covering buyer and company information?\"\n",
        "]\n",
        "\n",
        "print(f\"Created list of {len(legal_questions)} legal due diligence questions\")\n"
      ]
    },
    {
      "cell_type": "markdown",
      "metadata": {
        "id": "bE-Pk3MZEULN"
      },
      "source": [
        "Create a function to process all questions against a single document."
      ]
    },
    {
      "cell_type": "code",
      "execution_count": null,
      "metadata": {
        "id": "kS3nwCqXEULN"
      },
      "outputs": [],
      "source": [
        "# Example: Query one document with all questions\n",
        "def query_all_questions(document_name, questions_list):\n",
        "    \"\"\"Query a document with all questions and return results\"\"\"\n",
        "    results = []\n",
        "\n",
        "    for i, question in enumerate(questions_list, 1):\n",
        "        print(f\"Question {i}/{len(questions_list)}: {question}\")\n",
        "        try:\n",
        "            result = query_document(question, document_name)\n",
        "            answer = json.loads(result)\n",
        "            results.append({\n",
        "                'question': question,\n",
        "                'answer': answer,\n",
        "                'document': document_name\n",
        "            })\n",
        "            print(f\"Answer: {answer}\\n\")\n",
        "        except Exception as e:\n",
        "            print(f\"Error: {e}\\n\")\n",
        "            results.append({\n",
        "                'question': question,\n",
        "                'answer': 'ERROR',\n",
        "                'document': document_name\n",
        "            })\n",
        "\n",
        "    return results"
      ]
    },
    {
      "cell_type": "markdown",
      "metadata": {
        "id": "ADiNlWh2EULN"
      },
      "source": [
        "### 5.3 Execute Batch Analysis\n",
        "\n",
        "Run the list of extractions on our target document."
      ]
    },
    {
      "cell_type": "code",
      "execution_count": null,
      "metadata": {
        "colab": {
          "base_uri": "https://localhost:8080/"
        },
        "id": "hP1B1Qf3EULO",
        "outputId": "8c5ae7bd-53cf-4c06-b68e-0edf9299c189"
      },
      "outputs": [],
      "source": [
        "results = query_all_questions(\"QuakerChemicalCorporation.pdf\", legal_questions)\n",
        "for r in results:\n",
        "    print(f\"Q: {r['question']}\")\n",
        "    print(f\"A: {r['answer']}\\n\")\n"
      ]
    },
    {
      "cell_type": "markdown",
      "metadata": {
        "id": "g6X4TUHUkfSu"
      },
      "source": [
        "The results should look like this:\n",
        "```\n",
        "Question 18/18: Are there confidentiality obligations covering buyer and company information?\n",
        "Answer: {'answer': 'IDK', 'explanation': \"I don't have access to any information about confidentiality obligations or agreements covering buyer and company information. To get accurate information about this topic, I would need relevant documentation or policies to be uploaded to my datastore.\"}\n",
        "\n",
        "Q: Is the non-competition period limited to 2 years or less?\n",
        "A: {'answer': 'IDK', 'explanation': \"I don't have access to any information that would allow me to determine the length of the non-competition period. To get an accurate answer to this question, I would need access to relevant legal documents or agreements that specify the non-competition terms.\"}\n",
        "\n",
        "Q: Does the non-competition covenant exclude India from its geographic scope?\n",
        "A: {'answer': 'IDK', 'explanation': \"I don't have access to any information about the non-competition covenant or its geographic scope. To answer this question accurately, I would need access to the relevant legal documents or agreements.\"}\n",
        "```\n"
      ]
    },
    {
      "cell_type": "markdown",
      "metadata": {
        "id": "wMSEE_CkEULO",
        "vscode": {
          "languageId": "raw"
        }
      },
      "source": [
        "### 5.4 Save Results to File\n",
        "\n",
        "Save the analysis results to both JSON and CSV formats for further analysis.\n"
      ]
    },
    {
      "cell_type": "code",
      "execution_count": null,
      "metadata": {
        "colab": {
          "base_uri": "https://localhost:8080/"
        },
        "id": "BZ0ZWB1_EULO",
        "outputId": "476ebfeb-cf3e-4c60-aef1-bf11083262a5"
      },
      "outputs": [],
      "source": [
        "# Save results to file for analysis\n",
        "import json\n",
        "from datetime import datetime\n",
        "\n",
        "# Create timestamp for filename\n",
        "timestamp = datetime.now().strftime(\"%Y%m%d_%H%M%S\")\n",
        "filename = f\"legal_analysis_results_{timestamp}.json\"\n",
        "\n",
        "# Save results to JSON file\n",
        "with open(filename, 'w') as f:\n",
        "    json.dump(results, f, indent=2)\n",
        "\n",
        "print(f\"Results saved to {filename}\")\n",
        "\n",
        "# Also save as CSV for easier analysis\n",
        "import pandas as pd\n",
        "df_results = pd.DataFrame(results)\n",
        "csv_filename = f\"legal_analysis_results_{timestamp}.csv\"\n",
        "df_results.to_csv(csv_filename, index=False)\n",
        "print(f\"Results also saved to {csv_filename}\")"
      ]
    },
    {
      "cell_type": "markdown",
      "metadata": {
        "id": "AwxX7SDsnB2e"
      },
      "source": [
        "## Next Steps\n",
        "\n",
        "- You can easily scale up this code to run across multiple documents\n",
        "- Leverage more metadata to make retrieval easier\n",
        "- Experiment with more complex structured data extraction\n"
      ]
    }
  ],
  "metadata": {
    "colab": {
      "provenance": []
    },
    "kernelspec": {
      "display_name": "py3.10",
      "language": "python",
      "name": "python3"
    },
    "language_info": {
      "codemirror_mode": {
        "name": "ipython",
        "version": 3
      },
      "file_extension": ".py",
      "mimetype": "text/x-python",
      "name": "python",
      "nbconvert_exporter": "python",
      "pygments_lexer": "ipython3",
      "version": "3.10.16"
    }
  },
  "nbformat": 4,
  "nbformat_minor": 0
}
