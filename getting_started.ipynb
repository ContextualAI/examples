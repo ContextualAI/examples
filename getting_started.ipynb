{
 "cells": [
  {
   "cell_type": "markdown",
   "metadata": {
    "id": "8iPJnDH0HhXB"
   },
   "source": [
    "<img src=\"https://imagedelivery.net/Dr98IMl5gQ9tPkFM5JRcng/3e5f6fbd-9bc6-4aa1-368e-e8bb1d6ca100/Ultra\" alt=\"Image description\" width=\"200\" />\n",
    "\n",
    "<br/>\n",
    "\n",
    "## Getting Started with the Contextual Platform\n",
    "\n",
    "Contextual AI lets you create and run specialized AI agents that are powered by your data. This notebook introduces an end-to-end example workflow for creating a Retrieval-Augmented Generation (RAG) agent for a financial use case. The agent will answer questions based on the documents provided, but avoid any forward looking statements, e.g., Tell me about sales in 2028. \n",
    "\n",
    "This notebook can be run in under 10 minutes and covers the following steps:\n",
    "1. Creating a Datastore: this is where your documents live (unstructured data)\n",
    "2. Ingesting Documents: we will use a single PDF document but the platform is full scalable and supports HTML among other formats\n",
    "3. Creating an RAG Agent: all you need is a good system prompt to get started\n",
    "4. Querying an RAG Agent: answers based on your data and nothing more\n",
    "\n",
    "The full documentation is available at [docs.contextual.ai](https://docs.contextual.ai/)"
   ]
  },
  {
   "cell_type": "markdown",
   "metadata": {
    "id": "nw_6FO_hh3aM"
   },
   "source": [
    "### Prerequisites:\n",
    "\n",
    "- API key. You can request one [here](https://contextual.ai/platform/).\n",
    "\n",
    "- We will share the key with you or you will have to:\n",
    " \n",
    "    1. Login to your account at app.contextual.ai\n",
    "    2. Click on \"API Keys\"\n",
    "    3. Click on \"Create API Key\". *Note: Please keep your key in a secure place, and do not share it with anyone*\n",
    "\n",
    "- Python 3.9+"
   ]
  },
  {
   "cell_type": "markdown",
   "metadata": {
    "id": "czJ6eN8OHxhj"
   },
   "source": [
    "### Environment Setup\n",
    "\n",
    "\n",
    "1. Clone the repo: `git clone https://github.com/ContextualAI/examples.git`\n",
    "2. To run this notebook in [VS Code](https://code.visualstudio.com/):\n",
    "\n",
    "    1.1 Open the terminal, switch to `examples` directory and create a Python virtual environment:\n",
    "\n",
    "        `python -m venv .`\n",
    "    1.2 Activate the virtual environment:\n",
    "        \n",
    "        `source bin/activate`\n",
    "    1.3 Intall the dependencies\n",
    "\n",
    "        `pip install -r requirements.txt`\n",
    "    1.4 Open the notebook and click on \"Select Kernel\" (top right) -> \"Python Environments\" and select the newly created kernel    \n"
   ]
  },
  {
   "cell_type": "code",
   "execution_count": 1,
   "metadata": {},
   "outputs": [],
   "source": [
    "import os\n",
    "from contextual import ContextualAI\n",
    "from IPython.display import display, Markdown"
   ]
  },
  {
   "cell_type": "markdown",
   "metadata": {},
   "source": [
    "Replace \"your_api_key\" with your actual API key 👇🏼"
   ]
  },
  {
   "cell_type": "code",
   "execution_count": 2,
   "metadata": {},
   "outputs": [],
   "source": [
    "API_KEY = \"your_api_key\""
   ]
  },
  {
   "cell_type": "code",
   "execution_count": 3,
   "metadata": {
    "id": "4wJG66VTIQvO"
   },
   "outputs": [],
   "source": [
    "os.environ[\"CONTEXTUAL_API_KEY\"] = API_KEY \n",
    "\n",
    "contextual = ContextualAI(\n",
    "    api_key=os.environ.get(\"CONTEXTUAL_API_KEY\"),  # This is the default and can be omitted\n",
    ")\n",
    "REQUEST_URL = 'https://api.contextual.ai/v1'"
   ]
  },
  {
   "cell_type": "markdown",
   "metadata": {
    "id": "lcqh_-j1MzCn"
   },
   "source": [
    "### Step 1: Create your Datastore\n",
    "\n",
    "\n",
    "You will need to first create a datastore for your agent. A datastore is secure storage for unstructured data (documents). Each agent can have one or more datastores for storing data securely."
   ]
  },
  {
   "cell_type": "code",
   "execution_count": null,
   "metadata": {
    "colab": {
     "base_uri": "https://localhost:8080/"
    },
    "id": "wlulbIvjdbZA",
    "outputId": "7029ff7d-193a-4cf1-98e8-0e29451ec446"
   },
   "outputs": [],
   "source": [
    "result = contextual.datastores.create(name=\"financial_research_datastore\")\n",
    "datastore_id = result.id\n",
    "print(f\"Datastore successfully created with ID: {datastore_id}\")"
   ]
  },
  {
   "cell_type": "markdown",
   "metadata": {
    "id": "_IkAep8Vf29_"
   },
   "source": [
    "### Step 2: Ingest Documents into your Datastore\n",
    "\n",
    "You can now ingest documents into your Agent's datastore using the /datastores endpoint. Documents must be a PDF or HTML file.\n",
    "\n",
    "\n",
    "I am using a example PDF. You can also use your own documents here. If you have very long documents (hundreds of pages), processing can take longer."
   ]
  },
  {
   "cell_type": "code",
   "execution_count": null,
   "metadata": {},
   "outputs": [],
   "source": [
    "with open('intro-end-to-end/data/Apple.pdf', 'rb') as f:\n",
    "    ingestion_result = contextual.datastores.documents.ingest(datastore_id, file=f)\n",
    "    document_id = ingestion_result.id\n",
    "    print(f\"Successfully uploaded to datastore document with ID: {datastore_id}\")"
   ]
  },
  {
   "cell_type": "markdown",
   "metadata": {
    "id": "9mZdyD5cK8lc"
   },
   "source": [
    "Once ingested, you can view the list of documents, see their metadata, and also delete documents."
   ]
  },
  {
   "cell_type": "code",
   "execution_count": null,
   "metadata": {
    "id": "j78jlN1_lIbM"
   },
   "outputs": [],
   "source": [
    "metadata = contextual.datastores.documents.metadata(datastore_id = datastore_id, document_id = document_id)\n",
    "print(\"Document metadata:\", metadata)"
   ]
  },
  {
   "cell_type": "markdown",
   "metadata": {},
   "source": [
    "*Note: make sure the document ingestion status above 👆 shows 'completed' before querying the agent.*"
   ]
  },
  {
   "cell_type": "markdown",
   "metadata": {
    "id": "IcTyR5QeHw7z"
   },
   "source": [
    "### Step 3: Create your Agent\n",
    "\n",
    "Next let's create the Agent and modify it to our needs.\n",
    "\n",
    "Some additional parameters include setting a system prompt or using a previously tuned model.\n",
    "\n",
    "`system_prompt` is used for the instructions that your RAG system references when generating responses. Note that we do not guarantee that the system will follow these instructions exactly."
   ]
  },
  {
   "cell_type": "code",
   "execution_count": 9,
   "metadata": {
    "id": "r5jsWXpBPLtx"
   },
   "outputs": [],
   "source": [
    "system_prompt = '''\n",
    "You are an AI assistant specialized in financial analysis and reporting. Your responses should be precise, accurate, and sourced exclusively from official financial documentation provided to you. Please follow these guidelines:\n",
    "\n",
    "Data Analysis & Response Quality:\n",
    "* Only use information explicitly stated in provided documentation (e.g., earnings releases, financial statements, investor presentations)\n",
    "* Present comparative analyses using structured formats with tables and bullet points where appropriate\n",
    "* Include specific period-over-period comparisons (quarter-over-quarter, year-over-year) when relevant\n",
    "* Maintain consistency in numerical presentations (e.g., consistent units, decimal places)\n",
    "* Flag any one-time items or special charges that impact comparability\n",
    "\n",
    "Technical Accuracy:\n",
    "* Use industry-standard financial terminology\n",
    "* Define specialized acronyms on first use\n",
    "* Never interchange distinct financial terms (e.g., revenue, profit, income, cash flow)\n",
    "* Always include units with numerical values\n",
    "* Pay attention to fiscal vs. calendar year distinctions\n",
    "* Present monetary values with appropriate scale (millions/billions)\n",
    "\n",
    "Response Format:\n",
    "* Begin with a high-level summary of key findings when analyzing data\n",
    "* Structure detailed analyses in clear, hierarchical formats\n",
    "* Use markdown for lists, tables, and emphasized text\n",
    "* Maintain a professional, analytical tone\n",
    "* Present quantitative data in consistent formats (e.g., basis points for ratios)\n",
    "\n",
    "Critical Guidelines:\n",
    "* Avoid opinions, speculation, or assumptions\n",
    "* If information is unavailable or irrelevant, clearly state this without additional commentary\n",
    "* Answer questions directly, then stop\n",
    "* Do not reference source document names or file types in responses\n",
    "* Focus only on information that directly answers the query\n",
    "\n",
    "For any analysis, provide comprehensive insights using all relevant available information while maintaining strict adherence to these guidelines and focusing on delivering clear, actionable information.\n",
    "'''\n"
   ]
  },
  {
   "cell_type": "markdown",
   "metadata": {},
   "source": [
    "Now are ready to create our RAG agent. "
   ]
  },
  {
   "cell_type": "code",
   "execution_count": null,
   "metadata": {
    "colab": {
     "base_uri": "https://localhost:8080/"
    },
    "id": "ymCcfHR1Lra6",
    "outputId": "310369a2-90a6-4b40-e3f1-fcc90f117d2f"
   },
   "outputs": [],
   "source": [
    "app_response = contextual.agents.create(\n",
    "    name=\"Finacial Research Agent\",\n",
    "    description=\"Research Agent using only Historical Information\",\n",
    "    system_prompt=system_prompt,\n",
    "    datastore_ids=[datastore_id]\n",
    ")\n",
    "agent_id= app_response.id\n",
    "print(f\"Agent created successfully with ID: {agent_id}\")"
   ]
  },
  {
   "cell_type": "markdown",
   "metadata": {
    "id": "WFq4oMe9gMuz"
   },
   "source": [
    "### Step 4: Query your Agent\n",
    "\n",
    "Let's query our agent to see if its working and whether the answer provided is correct.\n",
    "\n",
    "*Note: It may take a few minutes for the document to be ingested and processed. The Assistant will give a detailed answer once the documents are ingested.*"
   ]
  },
  {
   "cell_type": "code",
   "execution_count": null,
   "metadata": {
    "colab": {
     "base_uri": "https://localhost:8080/"
    },
    "id": "wE4d616-rseT",
    "outputId": "dc58d319-0ef6-4d2a-ea30-5d2d8e109db3"
   },
   "outputs": [],
   "source": [
    "query_result = contextual.agents.query.create(\n",
    "    agent_id=agent_id,\n",
    "    messages=[{\n",
    "        \"content\": \"what was revenue in for Apple in 2022\",\n",
    "        \"role\": \"user\"\n",
    "    }]\n",
    ")\n",
    "\n",
    "display(Markdown(query_result.message.content))"
   ]
  },
  {
   "cell_type": "markdown",
   "metadata": {},
   "source": [
    "👏🏼 Awesome! In under 10 minutes (hopefully), you were able to create a RAG agent, complete with a scalable datastore and were able to query it."
   ]
  },
  {
   "cell_type": "markdown",
   "metadata": {
    "id": "yKAmujbKgUBj"
   },
   "source": [
    "### Next Steps\n",
    "\n",
    " As a next step, check out our [Hands-On Lab] where we show you how to evaluate the accuracy of your RAG agent, edit and tune it to make it more accurate. \n"
   ]
  }
 ],
 "metadata": {
  "colab": {
   "provenance": [],
   "toc_visible": true
  },
  "kernelspec": {
   "display_name": "examples_working",
   "language": "python",
   "name": "python3"
  },
  "language_info": {
   "codemirror_mode": {
    "name": "ipython",
    "version": 3
   },
   "file_extension": ".py",
   "mimetype": "text/x-python",
   "name": "python",
   "nbconvert_exporter": "python",
   "pygments_lexer": "ipython3",
   "version": "3.9.6"
  }
 },
 "nbformat": 4,
 "nbformat_minor": 0
}
