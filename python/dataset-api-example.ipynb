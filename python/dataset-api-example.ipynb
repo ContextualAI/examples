{
 "cells": [
  {
   "cell_type": "markdown",
   "metadata": {
    "id": "gImhWnoXKWnR"
   },
   "source": [
    "<img src=\"https://imagedelivery.net/Dr98IMl5gQ9tPkFM5JRcng/3e5f6fbd-9bc6-4aa1-368e-e8bb1d6ca100/Ultra\" alt=\"Image description\" width=\"160\" />\n",
    "\n",
    "Introduction to Contextual AI Datasets endpoint. \n",
    "\n",
    "The Contextual APIs provide a simple interface to our state-of-the-art Contextual Language Models (CLMs). Use this guide to learn the basics of how to create your first agent programmatically. In this demo, we will be interacting with the dataset API.\n",
    "\n",
    "To run this notebook interactively, you can open it in Google Colab:\n",
    "\n",
    "<a target=\"_blank\" href=\"https://colab.research.google.com/github/ContextualAI/ContextualAI-Examples/blob/main/python/dataset-api-example.ipynb\">\n",
    "  <img src=\"https://colab.research.google.com/assets/colab-badge.svg\" alt=\"Open In Colab\"/>\n",
    "</a>"
   ]
  },
  {
   "cell_type": "markdown",
   "metadata": {
    "id": "hTnb0Yn9LDrw"
   },
   "source": [
    "### Client Setup\n",
    "To begin, you will need an API key to securely access the API. Please contact Contextual's sales team to get your API key."
   ]
  },
  {
   "cell_type": "code",
   "execution_count": 154,
   "metadata": {},
   "outputs": [],
   "source": [
    "CONTEXTUAL_API_KEY=\"key-...\""
   ]
  },
  {
   "cell_type": "code",
   "execution_count": 25,
   "metadata": {
    "id": "Og54CJhhm5ja"
   },
   "outputs": [
    {
     "name": "stdout",
     "output_type": "stream",
     "text": [
      "Valid API Key.\n"
     ]
    }
   ],
   "source": [
    "import os\n",
    "from contextual import ContextualAI\n",
    "\n",
    "# create a client\n",
    "client = ContextualAI(\n",
    "    api_key=CONTEXTUAL_API_KEY,\n",
    ")\n",
    "\n",
    "# test the API Key\n",
    "try:\n",
    "    response = create_agent_output = client.agents.list()\n",
    "    print(\"Valid API Key.\")\n",
    "except Exception as e:\n",
    "    print(f\"Invalid API Key: {e}\")\n",
    "    "
   ]
  },
  {
   "cell_type": "markdown",
   "metadata": {
    "id": "qX0eIV97xbbv"
   },
   "source": [
    "### Create an Agent"
   ]
  },
  {
   "cell_type": "markdown",
   "metadata": {
    "id": "1MVZCawMNNv_"
   },
   "source": [
    "You will need to first create an agent. An agent allows to group together a dataset and queries, as well as add in prompt guidelines. Everything you'll do following this will reference this agent. "
   ]
  },
  {
   "cell_type": "code",
   "execution_count": 29,
   "metadata": {
    "colab": {
     "base_uri": "https://localhost:8080/",
     "height": 53
    },
    "id": "9bVlnhA2xaj6",
    "outputId": "577f6cdc-6ca0-4546-eb7f-1c69f089eeb7"
   },
   "outputs": [
    {
     "name": "stdout",
     "output_type": "stream",
     "text": [
      "{\"id\":\"938f5c23-43c7-46f6-8290-0d4d4f83801f\",\"datastore_ids\":[\"f7d4838d-afcd-408b-b796-70a7830aa284\"]}\n"
     ]
    }
   ],
   "source": [
    "# Create an agent with name 'My First Agent'\n",
    "try:\n",
    "    create_agent_output = client.agents.create(\n",
    "        name=\"My First Agent\"\n",
    "    )\n",
    "    print(create_agent_output.model_dump_json())\n",
    "    agent_id = create_agent_output.id\n",
    "except Exception as e:\n",
    "    print(f\"Encountered error: {e}\")"
   ]
  },
  {
   "cell_type": "markdown",
   "metadata": {
    "id": "vUTcbvdjxeCG"
   },
   "source": [
    "### Create a Evaluation Dataset"
   ]
  },
  {
   "cell_type": "code",
   "execution_count": 40,
   "metadata": {
    "id": "NP8RBgUNtDjD"
   },
   "outputs": [],
   "source": [
    "dataset = [\n",
    "  {\n",
    "      \"prompt\": \"What is the concept of 'noumena' according to Kant?\",\n",
    "      \"knowledge\": [\n",
    "        \"Noumena are \\\"things-in-themselves\\\" - the true, fundamental nature of reality that exists independently of human perception and understanding. According to Kant, we can never directly experience or know noumena.\",\n",
    "        \"Kant contrasts noumena with phenomena (things as they appear to us). While we can observe and understand phenomena through our senses and mental categories, the underlying noumena remain forever inaccessible to human cognition.\"\n",
    "      ],\n",
    "      \"reference\": \"According to Immanuel Kant, the concept of \\\"noumena\\\" (singular: \\\"noumenon\\\") refers to things as they are in themselves, independent of human perception or the conditions under which humans experience them.\"\n",
    "  },\n",
    "  {\n",
    "      \"prompt\": \"How does photosynthesis work in plants?\",\n",
    "      \"knowledge\": [\n",
    "          \"Photosynthesis is the process by which plants convert light energy into chemical energy stored in glucose and other organic compounds.\",\n",
    "          \"During photosynthesis, plants take in carbon dioxide from the air and water from the soil. Using sunlight, they transform these ingredients into glucose and oxygen.\",\n",
    "          \"The process occurs in the chloroplasts, specifically using the green pigment chlorophyll, which gives plants their green color.\"\n",
    "      ],\n",
    "      \"reference\": \"Photosynthesis is the process where plants convert sunlight into energy. Plants use chlorophyll in their chloroplasts to transform carbon dioxide and water into glucose and oxygen using solar energy. This process is essential for producing both food for the plant and oxygen as a byproduct.\"\n",
    "  }\n",
    "]\n",
    "with open('dataset.jsonl', 'w') as f:\n",
    "    for item in dataset:\n",
    "        json_line = json.dumps(item)\n",
    "        f.write(json_line + '\\n')\n"
   ]
  },
  {
   "cell_type": "code",
   "execution_count": 43,
   "metadata": {
    "colab": {
     "base_uri": "https://localhost:8080/"
    },
    "id": "b1i1NYwfqkI6",
    "outputId": "2b083915-afd9-496c-85da-d40e95ad5c3e"
   },
   "outputs": [
    {
     "name": "stdout",
     "output_type": "stream",
     "text": [
      "{\"name\":\"dataset_tpq\",\"type\":\"evaluation_set\",\"version\":\"0000000001va3a0f644\"}\n"
     ]
    },
    {
     "data": {
      "text/plain": [
       "'dataset_tpq'"
      ]
     },
     "execution_count": 43,
     "metadata": {},
     "output_type": "execute_result"
    }
   ],
   "source": [
    "# generate a random name for our dataset\n",
    "def generate_dataset_name():\n",
    "  return f\"dataset_{''.join(random.choices(string.ascii_lowercase, k=3))}\"\n",
    "\n",
    "\n",
    "# now call the create dataset API\n",
    "try:\n",
    "    with open('dataset.jsonl', 'rb') as file:\n",
    "        create_dataset_ouput = client.agents.datasets.evaluate.create(\n",
    "            agent_id=agent_id,\n",
    "            file=file,\n",
    "            dataset_name=generate_dataset_name(),\n",
    "            dataset_type=\"evaluation_set\"\n",
    "        )\n",
    "\n",
    "        print(create_dataset_ouput.model_dump_json())\n",
    "        dataset_name = create_dataset_ouput.name\n",
    "except Exception as e:\n",
    "    print(f\"Encountered error: {e}\")\n",
    "\n",
    "dataset_name"
   ]
  },
  {
   "cell_type": "markdown",
   "metadata": {
    "id": "5ZNGCcC41-3z"
   },
   "source": [
    "### Append to the Evaluation Dataset"
   ]
  },
  {
   "cell_type": "code",
   "execution_count": 54,
   "metadata": {
    "colab": {
     "base_uri": "https://localhost:8080/"
    },
    "id": "TPBbHMzanbP9",
    "outputId": "8893a68a-c454-4fb1-bb6b-8989895276d4"
   },
   "outputs": [
    {
     "name": "stdout",
     "output_type": "stream",
     "text": [
      "{'name': 'dataset_tpq',\n",
      " 'type': 'evaluation_set',\n",
      " 'version': '0000000003vc1e155d4'}\n"
     ]
    },
    {
     "data": {
      "text/plain": [
       "'dataset_tpq'"
      ]
     },
     "execution_count": 54,
     "metadata": {},
     "output_type": "execute_result"
    }
   ],
   "source": [
    "# now call the update dataset API\n",
    "try:\n",
    "    with open('dataset.jsonl', 'rb') as file:\n",
    "        create_dataset_ouput = client.agents.datasets.evaluate.update(\n",
    "            agent_id=agent_id,\n",
    "            file=file,\n",
    "            dataset_name=dataset_name,\n",
    "            dataset_type=\"evaluation_set\"\n",
    "        )\n",
    "\n",
    "        pprint(json.loads(create_dataset_ouput.model_dump_json()))\n",
    "        dataset_name = create_dataset_ouput.name\n",
    "except Exception as e:\n",
    "    print(f\"Encountered error: {e}\")\n",
    "\n",
    "dataset_name"
   ]
  },
  {
   "cell_type": "markdown",
   "metadata": {
    "id": "T-xAvoAQNXOw"
   },
   "source": [
    "### Get Evaluation Dataset Metadata"
   ]
  },
  {
   "cell_type": "code",
   "execution_count": 53,
   "metadata": {
    "colab": {
     "base_uri": "https://localhost:8080/"
    },
    "id": "zYmGvraBnlBB",
    "outputId": "ade6949d-fde6-4072-8d26-9f9088509156"
   },
   "outputs": [
    {
     "name": "stdout",
     "output_type": "stream",
     "text": [
      "{'created_at': '2025-01-15T23:39:04.249944Z',\n",
      " 'num_samples': 4,\n",
      " 'schema': {'guideline': 'text',\n",
      "            'knowledge': 'text',\n",
      "            'prompt': 'text',\n",
      "            'reference': 'text',\n",
      "            'response': 'text'},\n",
      " 'schema_': {'guideline': 'text',\n",
      "             'knowledge': 'text',\n",
      "             'prompt': 'text',\n",
      "             'reference': 'text',\n",
      "             'response': 'text'},\n",
      " 'status': 'validated',\n",
      " 'type': 'evaluation_set',\n",
      " 'version': '0000000002ve2b250ad'}\n"
     ]
    }
   ],
   "source": [
    "# now call the update dataset API\n",
    "try:\n",
    "    dataset_metadata = client.agents.datasets.evaluate.metadata(\n",
    "        agent_id=agent_id,\n",
    "        dataset_name=dataset_name,\n",
    "    )\n",
    "\n",
    "    pprint(json.loads(dataset_metadata.model_dump_json()))\n",
    "except Exception as e:\n",
    "    print(f\"Encountered error: {e}\")"
   ]
  },
  {
   "cell_type": "code",
   "execution_count": 149,
   "metadata": {
    "id": "0ewmX5c7ngbl"
   },
   "outputs": [],
   "source": [
    "# now call the retrieve dataset\n",
    "try:\n",
    "    dataset = client.agents.datasets.evaluate.retrieve(\n",
    "        agent_id=agent_id,\n",
    "        dataset_name=dataset_name\n",
    "    )\n",
    "    dataset.write_to_file(\"downloaded_dataset.jsonl\")\n",
    "\n",
    "except Exception as e:\n",
    "    print(f\"Encountered error: {e}\")"
   ]
  },
  {
   "cell_type": "code",
   "execution_count": 150,
   "metadata": {
    "colab": {
     "base_uri": "https://localhost:8080/"
    },
    "id": "tYDLNERT3W_f",
    "outputId": "12b9f487-64c8-4494-9a55-010f610da520"
   },
   "outputs": [
    {
     "name": "stdout",
     "output_type": "stream",
     "text": [
      "{\"prompt\": \"What is the concept of 'noumena' according to Kant?\", \"reference\": \"According to Immanuel Kant, the concept of \\\"noumena\\\" (singular: \\\"noumenon\\\") refers to things as they are in themselves, independent of human perception or the conditions under which humans experience them.\", \"response\": \"\", \"guideline\": \"\", \"knowledge\": \"[\\\"Noumena are \\\\\\\"things-in-themselves\\\\\\\" - the true, fundamental nature of reality that exists independently of human perception and understanding. According to Kant, we can never directly experience or know noumena.\\\", \\\"Kant contrasts noumena with phenomena (things as they appear to us). While we can observe and understand phenomena through our senses and mental categories, the underlying noumena remain forever inaccessible to human cognition.\\\"]\"}\n",
      "{\"prompt\": \"How does photosynthesis work in plants?\", \"reference\": \"Photosynthesis is the process where plants convert sunlight into energy. Plants use chlorophyll in their chloroplasts to transform carbon dioxide and water into glucose and oxygen using solar energy. This process is essential for producing both food for the plant and oxygen as a byproduct.\", \"response\": \"\", \"guideline\": \"\", \"knowledge\": \"[\\\"Photosynthesis is the process by which plants convert light energy into chemical energy stored in glucose and other organic compounds.\\\", \\\"During photosynthesis, plants take in carbon dioxide from the air and water from the soil. Using sunlight, they transform these ingredients into glucose and oxygen.\\\", \\\"The process occurs in the chloroplasts, specifically using the green pigment chlorophyll, which gives plants their green color.\\\"]\"}\n",
      "{\"prompt\": \"What is the concept of 'noumena' according to Kant?\", \"reference\": \"According to Immanuel Kant, the concept of \\\"noumena\\\" (singular: \\\"noumenon\\\") refers to things as they are in themselves, independent of human perception or the conditions under which humans experience them.\", \"response\": \"\", \"guideline\": \"\", \"knowledge\": \"[\\\"Noumena are \\\\\\\"things-in-themselves\\\\\\\" - the true, fundamental nature of reality that exists independently of human perception and understanding. According to Kant, we can never directly experience or know noumena.\\\", \\\"Kant contrasts noumena with phenomena (things as they appear to us). While we can observe and understand phenomena through our senses and mental categories, the underlying noumena remain forever inaccessible to human cognition.\\\"]\"}\n",
      "{\"prompt\": \"How does photosynthesis work in plants?\", \"reference\": \"Photosynthesis is the process where plants convert sunlight into energy. Plants use chlorophyll in their chloroplasts to transform carbon dioxide and water into glucose and oxygen using solar energy. This process is essential for producing both food for the plant and oxygen as a byproduct.\", \"response\": \"\", \"guideline\": \"\", \"knowledge\": \"[\\\"Photosynthesis is the process by which plants convert light energy into chemical energy stored in glucose and other organic compounds.\\\", \\\"During photosynthesis, plants take in carbon dioxide from the air and water from the soil. Using sunlight, they transform these ingredients into glucose and oxygen.\\\", \\\"The process occurs in the chloroplasts, specifically using the green pigment chlorophyll, which gives plants their green color.\\\"]\"}\n",
      "{\"prompt\": \"What is the concept of 'noumena' according to Kant?\", \"reference\": \"According to Immanuel Kant, the concept of \\\"noumena\\\" (singular: \\\"noumenon\\\") refers to things as they are in themselves, independent of human perception or the conditions under which humans experience them.\", \"response\": \"\", \"guideline\": \"\", \"knowledge\": \"[\\\"Noumena are \\\\\\\"things-in-themselves\\\\\\\" - the true, fundamental nature of reality that exists independently of human perception and understanding. According to Kant, we can never directly experience or know noumena.\\\", \\\"Kant contrasts noumena with phenomena (things as they appear to us). While we can observe and understand phenomena through our senses and mental categories, the underlying noumena remain forever inaccessible to human cognition.\\\"]\"}\n",
      "{\"prompt\": \"How does photosynthesis work in plants?\", \"reference\": \"Photosynthesis is the process where plants convert sunlight into energy. Plants use chlorophyll in their chloroplasts to transform carbon dioxide and water into glucose and oxygen using solar energy. This process is essential for producing both food for the plant and oxygen as a byproduct.\", \"response\": \"\", \"guideline\": \"\", \"knowledge\": \"[\\\"Photosynthesis is the process by which plants convert light energy into chemical energy stored in glucose and other organic compounds.\\\", \\\"During photosynthesis, plants take in carbon dioxide from the air and water from the soil. Using sunlight, they transform these ingredients into glucose and oxygen.\\\", \\\"The process occurs in the chloroplasts, specifically using the green pigment chlorophyll, which gives plants their green color.\\\"]\"}\n",
      "\n"
     ]
    }
   ],
   "source": [
    "with open(\"downloaded_dataset.jsonl\") as f:\n",
    "    print(f.read())"
   ]
  },
  {
   "cell_type": "markdown",
   "metadata": {
    "id": "1fZ2owcIJCka"
   },
   "source": [
    "### Delete Evaluation Dataset"
   ]
  },
  {
   "cell_type": "code",
   "execution_count": 153,
   "metadata": {
    "id": "ru9TXfqVnoxA"
   },
   "outputs": [
    {
     "name": "stdout",
     "output_type": "stream",
     "text": [
      "Encountered error: Error code: 500 - {'detail': 'Failed to delete dataset'}\n"
     ]
    }
   ],
   "source": [
    "# now call the retrieve dataset\n",
    "try:\n",
    "    dataset = client.agents.datasets.evaluate.delete(\n",
    "        agent_id=agent_id,\n",
    "        dataset_name=dataset_name\n",
    "    )\n",
    "    print(f\"Deleted dataset {dataset_name}...\")\n",
    "except Exception as e:\n",
    "    print(f\"Encountered error: {e}\")"
   ]
  }
 ],
 "metadata": {
  "colab": {
   "provenance": []
  },
  "kernelspec": {
   "display_name": "Python 3 (ipykernel)",
   "language": "python",
   "name": "python3"
  },
  "language_info": {
   "codemirror_mode": {
    "name": "ipython",
    "version": 3
   },
   "file_extension": ".py",
   "mimetype": "text/x-python",
   "name": "python",
   "nbconvert_exporter": "python",
   "pygments_lexer": "ipython3",
   "version": "3.10.16"
  }
 },
 "nbformat": 4,
 "nbformat_minor": 4
}
