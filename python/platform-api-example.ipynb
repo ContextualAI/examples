{
 "cells": [
  {
   "cell_type": "markdown",
   "metadata": {
    "id": "8iPJnDH0HhXB"
   },
   "source": [
    "<img src=\"https://imagedelivery.net/Dr98IMl5gQ9tPkFM5JRcng/3e5f6fbd-9bc6-4aa1-368e-e8bb1d6ca100/Ultra\" alt=\"Image description\" width=\"160\" />\n",
    "\n",
    "<br/>\n",
    "\n",
    "# Introduction to Contextual AI Platform\n",
    "\n",
    "The Contextual APIs provide a simple interface to our state-of-the-art Contextual Language Models (CLMs). Use this guide to learn the basics of how to create your first agent programmatically. In this demo, we will be creating a RAG application for financial documents.\n",
    "\n",
    "To run this notebook interactively, you can open it in Google Colab:\n",
    "\n",
    "<a target=\"_blank\" href=\"https://colab.research.google.com/github/ContextualAI/ContextualAI-Examples/blob/main/python/platform-api-example.ipynb\">\n",
    "  <img src=\"https://colab.research.google.com/assets/colab-badge.svg\" alt=\"Open In Colab\"/>\n",
    "</a>"
   ]
  },
  {
   "cell_type": "markdown",
   "metadata": {
    "id": "czJ6eN8OHxhj"
   },
   "source": [
    "## Setup of Libraries, API, Dataset\n",
    "\n",
    "To begin, you will need an API key to securely access the API. Please contact Contextual's sales team to get your API key."
   ]
  },
  {
   "cell_type": "code",
   "execution_count": 46,
   "metadata": {
    "id": "4wJG66VTIQvO"
   },
   "outputs": [],
   "source": [
    "# TODO: Set up your API key here\n",
    "CONTEXTUAL_API_KEY=\"key-...\""
   ]
  },
  {
   "cell_type": "code",
   "execution_count": 12,
   "metadata": {
    "id": "IhviooO2LauS"
   },
   "outputs": [
    {
     "name": "stdout",
     "output_type": "stream",
     "text": [
      "Valid API Key.\n"
     ]
    }
   ],
   "source": [
    "import os\n",
    "import requests\n",
    "from contextual import ContextualAI\n",
    "\n",
    "# create a client\n",
    "client = ContextualAI(\n",
    "    api_key=CONTEXTUAL_API_KEY,\n",
    ")\n",
    "\n",
    "# test the API Key\n",
    "try:\n",
    "    response = create_agent_output = client.agents.list()\n",
    "    print(\"Valid API Key.\")\n",
    "except Exception as e:\n",
    "    print(f\"Invalid API Key: {e}\")"
   ]
  },
  {
   "cell_type": "markdown",
   "metadata": {
    "id": "lcqh_-j1MzCn"
   },
   "source": [
    "## Step 1: Create your Datastore\n",
    "\n",
    "\n",
    "You will need to first create a datastore for your Agent using the  `/datastores` endpoint.  Each Agent will have it's own datastore where the Agent data will be stored securely."
   ]
  },
  {
   "cell_type": "code",
   "execution_count": 47,
   "metadata": {
    "id": "tb-cMb-gMUD2"
   },
   "outputs": [
    {
     "name": "stdout",
     "output_type": "stream",
     "text": [
      "{\"id\":\"b9d8c4e2-9a79-42e2-834f-3d9165930724\"}\n"
     ]
    }
   ],
   "source": [
    "# Create an datastore with name 'new_demo_datastore'\n",
    "try:\n",
    "    create_datastore_output = client.datastores.create(\n",
    "        name=\"new_demo_datastore\"\n",
    "    )\n",
    "    print(create_datastore_output.model_dump_json())\n",
    "    datastore_id = create_datastore_output.id\n",
    "except Exception as e:\n",
    "    print(f\"Encountered error: {e}\")"
   ]
  },
  {
   "cell_type": "markdown",
   "metadata": {
    "id": "_IkAep8Vf29_"
   },
   "source": [
    "## Step 2: Ingest documents into your datastore\n",
    "\n",
    "You can now ingest documents into your Application's datastore using the `/datastores` endpoint. We've provided a sample document for you to use (Apple's 2023Q1 10-Q filing). You can also use your own documents here."
   ]
  },
  {
   "cell_type": "code",
   "execution_count": 48,
   "metadata": {
    "id": "S0jaP0v1poOJ"
   },
   "outputs": [],
   "source": [
    "# Function to download data from Google Drive\n",
    "def download_google_drive_pdf(url: str, output_path: str):\n",
    "   \"\"\"\n",
    "   Download a PDF from Google Drive using the file ID\n",
    "   \"\"\"\n",
    "   response = requests.get(url)\n",
    "   response.raise_for_status()\n",
    "   with open(output_path, 'wb') as f:\n",
    "       f.write(response.content)\n",
    "   print(f\"Downloaded {output_path}\")\n",
    "   return str(output_path)"
   ]
  },
  {
   "cell_type": "code",
   "execution_count": 49,
   "metadata": {
    "id": "9K0CMyZ2p-e5"
   },
   "outputs": [
    {
     "name": "stdout",
     "output_type": "stream",
     "text": [
      "Downloaded 2023_Q1_APPLE.pdf\n"
     ]
    }
   ],
   "source": [
    "# Download sample data from Google Drive\n",
    "file_path = download_google_drive_pdf(\n",
    "    \"https://drive.google.com/uc?export=download&id=1k4C-o7mLEmthbeyhccNEjYrQb10UFOfT\",\n",
    "    \"2023_Q1_APPLE.pdf\"\n",
    ")"
   ]
  },
  {
   "cell_type": "code",
   "execution_count": 51,
   "metadata": {
    "id": "8OBeqkJOqEck"
   },
   "outputs": [
    {
     "name": "stdout",
     "output_type": "stream",
     "text": [
      "{\"id\":\"ea7b06f6-f951-4278-b446-760b9dd7a032\"}\n"
     ]
    }
   ],
   "source": [
    "#  Upload a local file to Contextual AI datastore\n",
    "try:\n",
    "    with open('2023_Q1_APPLE.pdf', 'rb') as f:\n",
    "        output = client.datastores.documents.ingest(\n",
    "            datastore_id=datastore_id,\n",
    "            file=f\n",
    "        )\n",
    "        print(output.model_dump_json())\n",
    "        document_id = output.id\n",
    "except Exception as e:\n",
    "    print(f\"Encountered error: {e}\")\n"
   ]
  },
  {
   "cell_type": "code",
   "execution_count": 78,
   "metadata": {},
   "outputs": [
    {
     "data": {
      "text/plain": [
       "DocumentMetadata(id='ea7b06f6-f951-4278-b446-760b9dd7a032', name='2023_Q1_APPLE.pdf', status='completed')"
      ]
     },
     "execution_count": 78,
     "metadata": {},
     "output_type": "execute_result"
    }
   ],
   "source": [
    "# track the status of the datastore ingest\n",
    "client.datastores.documents.metadata(\n",
    "    datastore_id=datastore_id,\n",
    "    document_id=document_id,\n",
    ")"
   ]
  },
  {
   "cell_type": "markdown",
   "metadata": {
    "id": "IcTyR5QeHw7z"
   },
   "source": [
    "## Step 3: Create your Agent\n",
    "\n",
    "Now, you can use the `/agents` endpoint to create your Agent and link it to the datastore.\n",
    "\n",
    "First we'll create a sample prompt:"
   ]
  },
  {
   "cell_type": "code",
   "execution_count": 74,
   "metadata": {
    "id": "r5jsWXpBPLtx"
   },
   "outputs": [],
   "source": [
    "# Sample system guideline\n",
    "sample_guideline = '''\n",
    "You are an AI assistant specialized in financial analysis and reporting. Your responses should be precise, accurate, and sourced exclusively from official financial documentation provided to you. Please follow these guidelines:\n",
    "\n",
    "Data Analysis & Response Quality:\n",
    "* Only use information explicitly stated in provided documentation (e.g., earnings releases, financial statements, investor presentations)\n",
    "* Present comparative analyses using structured formats with tables and bullet points where appropriate\n",
    "* Include specific period-over-period comparisons (quarter-over-quarter, year-over-year) when relevant\n",
    "* Maintain consistency in numerical presentations (e.g., consistent units, decimal places)\n",
    "* Flag any one-time items or special charges that impact comparability\n",
    "\n",
    "Technical Accuracy:\n",
    "* Use industry-standard financial terminology\n",
    "* Define specialized acronyms on first use\n",
    "* Never interchange distinct financial terms (e.g., revenue, profit, income, cash flow)\n",
    "* Always include units with numerical values\n",
    "* Pay attention to fiscal vs. calendar year distinctions\n",
    "* Present monetary values with appropriate scale (millions/billions)\n",
    "\n",
    "Response Format:\n",
    "* Begin with a high-level summary of key findings when analyzing data\n",
    "* Structure detailed analyses in clear, hierarchical formats\n",
    "* Use markdown for lists, tables, and emphasized text\n",
    "* Maintain a professional, analytical tone\n",
    "* Present quantitative data in consistent formats (e.g., basis points for ratios)\n",
    "\n",
    "Critical Guidelines:\n",
    "* Do not make forward-looking projections unless directly quoted from source materials\n",
    "* Avoid opinions, speculation, or assumptions\n",
    "* If information is unavailable or irrelevant, clearly state this without additional commentary\n",
    "* Answer questions directly, then stop\n",
    "* Do not reference source document names or file types in responses\n",
    "* Focus only on information that directly answers the query\n",
    "\n",
    "For any analysis, provide comprehensive insights using all relevant available information while maintaining strict adherence to these guidelines and focusing on delivering clear, actionable information.\n",
    "'''\n"
   ]
  },
  {
   "cell_type": "markdown",
   "metadata": {
    "id": "ymCcfHR1Lra6"
   },
   "source": [
    "Next we'll create the agent with our sample prompt, datastore, and a name and description:"
   ]
  },
  {
   "cell_type": "code",
   "execution_count": 76,
   "metadata": {
    "id": "B1dnTQZDKLP3"
   },
   "outputs": [
    {
     "name": "stdout",
     "output_type": "stream",
     "text": [
      "{\"id\":\"66e663fc-a96f-4378-9842-77bcd7b89ce6\",\"datastore_ids\":[\"621134eb-ab0b-4973-a11f-d8a6113093cd\"]}\n"
     ]
    }
   ],
   "source": [
    "# Create an agent with name 'Financial Analysis RAG'\n",
    "try:\n",
    "    create_agent_output = client.agents.create(\n",
    "        name=\"Financial Analysis RAG\",\n",
    "        description=\"Application for analyzing the SEC filings of major companies\",\n",
    "        system_prompt=sample_guideline,\n",
    "        datastore_ids=[datastore_id]\n",
    "    )\n",
    "    print(create_agent_output.model_dump_json())\n",
    "    agent_id = create_agent_output.id\n",
    "except Exception as e:\n",
    "    print(f\"Encountered error: {e}\")"
   ]
  },
  {
   "cell_type": "markdown",
   "metadata": {
    "id": "WFq4oMe9gMuz"
   },
   "source": [
    "## Step 4: Query your Application\n",
    "\n",
    "Finally, let's query our application to see if its working."
   ]
  },
  {
   "cell_type": "markdown",
   "metadata": {
    "id": "QOW94UdMySbp"
   },
   "source": [
    "**Note:** It may take a few minutes for the document to be ingested and processed."
   ]
  },
  {
   "cell_type": "code",
   "execution_count": 77,
   "metadata": {
    "id": "wE4d616-rseT"
   },
   "outputs": [
    {
     "name": "stdout",
     "output_type": "stream",
     "text": [
      "**Summary:**\n",
      "\n",
      "Apple Inc.'s revenue for the three months ended December 31, 2022, was $117,154 million, a 5% decrease from $123,945 million in the same period last year.[1]()[3]()\n",
      "\n",
      "**Revenue Breakdown:**\n",
      "\n",
      "The following table shows the revenue breakdown by category for the three months ended December 31, 2022, and December 25, 2021:\n",
      "\n",
      "| Category | Three Months Ended December 31, 2022 | Three Months Ended December 25, 2021 | Change |\n",
      "| --- | --- | --- | --- |\n",
      "| iPhone | $65,775 million | $71,628 million | (8)% |[1]()[3]()\n",
      "| Mac | $7,735 million | $10,852 million | (29)% |[1]()[3]()\n",
      "| iPad | $9,396 million | $7,248 million | 30% |[3]()\n",
      "| Wearables, Home and Accessories | $13,482 million | $14,701 million | (8)% |[1]()[3]()\n",
      "| Services | $20,766 million | $19,516 million | 6% |[3]()\n",
      "| Total Net Sales | $117,154 million | $123,945 million | (5)% |[1]()[3]()\n",
      "\n",
      "Note: The revenue figures are in millions of US dollars.[1]()[2]()[3]()\n"
     ]
    }
   ],
   "source": [
    "\n",
    "try:\n",
    "    query = client.agents.query.create(\n",
    "        agent_id=agent_id,\n",
    "        messages=[{\n",
    "            # Input your question here\n",
    "            \"content\": \"What is Apple Inc's revenue?\",\n",
    "            \"role\": \"user\",\n",
    "        }]\n",
    "    )\n",
    "    print(query.message.content)\n",
    "except Exception as e:\n",
    "    print(f\"Encountered error: {e}\")"
   ]
  },
  {
   "cell_type": "code",
   "execution_count": 79,
   "metadata": {
    "id": "lJsrVToFy3S9"
   },
   "outputs": [
    {
     "name": "stdout",
     "output_type": "stream",
     "text": [
      "Apple's net income for the three months ended December 31, 2022, is $29.998 billion.[1]()[2]()\n"
     ]
    }
   ],
   "source": [
    "try:\n",
    "    query = client.agents.query.create(\n",
    "        agent_id=agent_id,\n",
    "        messages=[{\n",
    "            # Input your question here\n",
    "            \"content\": \"What is Apple's net income in billions (not millions)?\",\n",
    "            \"role\": \"user\",\n",
    "        }]\n",
    "    )\n",
    "    print(query.message.content)\n",
    "except Exception as e:\n",
    "    print(f\"Encountered error: {e}\")"
   ]
  },
  {
   "cell_type": "code",
   "execution_count": 80,
   "metadata": {
    "id": "hnuqTbNC2yWq"
   },
   "outputs": [
    {
     "name": "stdout",
     "output_type": "stream",
     "text": [
      "The value of Apple's non-current assets as of December 31, 2022, is $217,970 million.[1]() This consists of:\n",
      "\n",
      "* Marketable securities: $114,095 million[1]()[2]()\n",
      "* Property, plant, and equipment, net: $42,951 million[1]()\n",
      "* Other non-current assets: $60,924 million[1]()\n"
     ]
    }
   ],
   "source": [
    "try:\n",
    "    query = client.agents.query.create(\n",
    "        agent_id=agent_id,\n",
    "        messages=[{\n",
    "            # Input your question here\n",
    "            \"content\": \"What is the value of Apple's non-current assets?\",\n",
    "            \"role\": \"user\",\n",
    "        }]\n",
    "    )\n",
    "    print(query.message.content)\n",
    "except Exception as e:\n",
    "    print(f\"Encountered error: {e}\")"
   ]
  },
  {
   "cell_type": "markdown",
   "metadata": {
    "id": "yKAmujbKgUBj"
   },
   "source": [
    "## Next Steps\n",
    "\n",
    "In this Notebook, we've created a simple RAG agent in the finance domain. Our APIs offer many more capabilities than what is shown in this Notebook, including the ability to tune and evaluate your RAG system. You can learn more at [docs.contextual.ai](https://docs.contextual.ai/)"
   ]
  }
 ],
 "metadata": {
  "colab": {
   "provenance": []
  },
  "kernelspec": {
   "display_name": "Python 3 (ipykernel)",
   "language": "python",
   "name": "python3"
  },
  "language_info": {
   "codemirror_mode": {
    "name": "ipython",
    "version": 3
   },
   "file_extension": ".py",
   "mimetype": "text/x-python",
   "name": "python",
   "nbconvert_exporter": "python",
   "pygments_lexer": "ipython3",
   "version": "3.12.8"
  }
 },
 "nbformat": 4,
 "nbformat_minor": 4
}
