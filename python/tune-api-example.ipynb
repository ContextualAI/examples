{
 "cells": [
  {
   "cell_type": "markdown",
   "metadata": {
    "id": "gImhWnoXKWnR"
   },
   "source": [
    "<img src=\"https://imagedelivery.net/Dr98IMl5gQ9tPkFM5JRcng/3e5f6fbd-9bc6-4aa1-368e-e8bb1d6ca100/Ultra\" alt=\"Image description\" width=\"160\" />\n",
    "\n",
    "Introduction to Contextual AI Platform\n",
    "\n",
    "The Contextual APIs provide a simple interface to our state-of-the-art Contextual Language Models (CLMs). Use this guide to learn the basics of how to create your first application programmatically. In this demo, we will be tuning and deploying a CLM.\n",
    "\n",
    "To run this notebook interactively, you can open it in Google Colab:\n",
    "\n",
    "<a target=\"_blank\" href=\"https://colab.research.google.com/github/ContextualAI/ContextualAI-Examples/blob/main/python/tune-api-example.ipynb\">\n",
    "  <img src=\"https://colab.research.google.com/assets/colab-badge.svg\" alt=\"Open In Colab\"/>\n",
    "</a>"
   ]
  },
  {
   "cell_type": "markdown",
   "metadata": {
    "id": "hTnb0Yn9LDrw"
   },
   "source": [
    "### API Key\n",
    "To begin, you will need an API key to securely access the API. Please contact Contextual's sales team to get your API key."
   ]
  },
  {
   "cell_type": "code",
   "execution_count": 11,
   "metadata": {
    "id": "Og54CJhhm5ja"
   },
   "outputs": [],
   "source": [
    "CONTEXTUAL_API_KEY=\"key-...\""
   ]
  },
  {
   "cell_type": "code",
   "execution_count": 12,
   "metadata": {},
   "outputs": [
    {
     "name": "stdout",
     "output_type": "stream",
     "text": [
      "Valid API Key.\n"
     ]
    }
   ],
   "source": [
    "import os\n",
    "from contextual import ContextualAI\n",
    "\n",
    "# create a client\n",
    "client = ContextualAI(\n",
    "    api_key=CONTEXTUAL_API_KEY,\n",
    ")\n",
    "\n",
    "# test the API Key\n",
    "try:\n",
    "    response = create_agent_output = client.agents.list()\n",
    "    print(\"Valid API Key.\")\n",
    "except Exception as e:\n",
    "    print(f\"Invalid API Key: {e}\")"
   ]
  },
  {
   "cell_type": "markdown",
   "metadata": {
    "id": "qX0eIV97xbbv"
   },
   "source": [
    "### Create an Agent"
   ]
  },
  {
   "cell_type": "markdown",
   "metadata": {
    "id": "1MVZCawMNNv_"
   },
   "source": [
    "You will need to first create an agent. An agent allows to group together a dataset and queries, as well as add in prompt guidelines. Everything you'll do following this will reference this agent. "
   ]
  },
  {
   "cell_type": "code",
   "execution_count": 13,
   "metadata": {
    "colab": {
     "base_uri": "https://localhost:8080/",
     "height": 35
    },
    "id": "9bVlnhA2xaj6",
    "outputId": "8dcba9c8-b0d1-4bb9-d345-22b5cce5bae0"
   },
   "outputs": [
    {
     "name": "stdout",
     "output_type": "stream",
     "text": [
      "{\"id\":\"c530ddd6-e9bc-45a3-8786-47ff703c7307\",\"datastore_ids\":[\"5aca8364-7064-452e-a572-e74cd416de8e\"]}\n"
     ]
    }
   ],
   "source": [
    "# Create an agent with name 'My First Agent'\n",
    "try:\n",
    "    create_agent_output = client.agents.create(\n",
    "        name=\"My First Agent\"\n",
    "    )\n",
    "    print(create_agent_output.model_dump_json())\n",
    "    agent_id = create_agent_output.id\n",
    "except Exception as e:\n",
    "    print(f\"Encountered error: {e}\")"
   ]
  },
  {
   "cell_type": "markdown",
   "metadata": {
    "id": "vUTcbvdjxeCG"
   },
   "source": [
    "### Create a Datastore"
   ]
  },
  {
   "cell_type": "markdown",
   "metadata": {
    "id": "3slQWKJrQvgG"
   },
   "source": [
    "A datastore securely stores the files you would like to search and reference in your agents. Each agent must be associated with at least one datastore. You can create a datastore using the /datastores endpoint with the following command:\n",
    "\n"
   ]
  },
  {
   "cell_type": "code",
   "execution_count": 14,
   "metadata": {
    "id": "b1i1NYwfqkI6"
   },
   "outputs": [],
   "source": [
    "import requests\n",
    "\n",
    "def download_file_from_gdrive(file_id, output_file):\n",
    "   # Direct download URL format for Google Drive\n",
    "   url = f\"https://drive.google.com/uc?export=download&id={file_id}\"\n",
    "\n",
    "   response = requests.get(url)\n",
    "   with open(output_file, 'wb') as f:\n",
    "       f.write(response.content)\n",
    "\n",
    "# Extract file ID from the URL\n",
    "file_id = \"1MlsscmU9gtbCrZk3C_CNbCDvEkQ7AhUM\"\n",
    "\n",
    "# Download the file\n",
    "download_file_from_gdrive(file_id, \"dataset.jsonl\")"
   ]
  },
  {
   "cell_type": "markdown",
   "metadata": {
    "id": "5ZNGCcC41-3z"
   },
   "source": [
    "### Tune a model"
   ]
  },
  {
   "cell_type": "markdown",
   "metadata": {
    "id": "B89_JVWIUF2O"
   },
   "source": [
    "Create a tuning job for the specified Agent. Tuning jobs are asynchronous tasks to specialize your Agent to your specific domain or use case.\n",
    "\n",
    "This API initiates a tuning specialization task using the provided `training_file` and an optional `test_file`. If no test_file is provided, the tuning job will hold out a portion of the training_file as the test set.\n",
    "\n",
    "Returns a tune job id which can be used to check on the status of your tuning task through the `client.agents.tune.jobs.metadata` command.\n",
    "\n",
    "After the tune job completes, the metadata associated with the tune job will include evaluation results and a model ID."
   ]
  },
  {
   "cell_type": "code",
   "execution_count": 15,
   "metadata": {
    "id": "TW9KSY1IJM-w"
   },
   "outputs": [
    {
     "name": "stdout",
     "output_type": "stream",
     "text": [
      "Encountered error: Error code: 422 - {'detail': \"Validation error: Error in item 0, field 'reference': Field required\"}\n"
     ]
    }
   ],
   "source": [
    "# now call the update dataset API\n",
    "try:\n",
    "    with open('dataset.jsonl', 'rb') as f:\n",
    "        response = dataset_metadata = client.agents.tune.create(\n",
    "            agent_id=agent_id,\n",
    "            training_file=f,\n",
    "        )\n",
    "        job_id = response.id\n",
    "        print(response.to_dict())\n",
    "except Exception as e:\n",
    "    print(f\"Encountered error: {e}\")"
   ]
  },
  {
   "cell_type": "markdown",
   "metadata": {
    "id": "tkWVuHeRUWBg"
   },
   "source": [
    "## Check the status\n"
   ]
  },
  {
   "cell_type": "markdown",
   "metadata": {
    "id": "mNxQb0mFVSEO"
   },
   "source": [
    "You can check the status of the job using the API. For more information, please see the API docs. When the job is complete, the status will turn to completed. The response payload will also contain evaluation_results ."
   ]
  },
  {
   "cell_type": "code",
   "execution_count": 16,
   "metadata": {
    "id": "S6mSsqM0T8ag"
   },
   "outputs": [
    {
     "name": "stdout",
     "output_type": "stream",
     "text": [
      "Encountered error: name 'job_id' is not defined\n"
     ]
    }
   ],
   "source": [
    "# now call the update dataset API\n",
    "try:\n",
    "    response = client.agents.tune.jobs.metadata(\n",
    "        job_id=job_id,\n",
    "    )\n",
    "\n",
    "    print(response.to_dict())\n",
    "except Exception as e:\n",
    "    print(f\"Encountered error: {e}\")"
   ]
  },
  {
   "cell_type": "markdown",
   "metadata": {
    "id": "Ci-pK62D6XZd"
   },
   "source": [
    "When the job is complete, the metadata would look like the following:\n",
    "```\n",
    "{'job_status': 'completed',\n",
    " 'evaluation_results': {'grounded_generation_train_test.json_equivalence': 1.0,\n",
    "  'grounded_generation_train_test.json_helpfulness': 0.814156498263641,\n",
    "  'grounded_generation_train_test.json_groundedness': 0.7781168677598632},\n",
    " 'model_id': 'registry/model-ada3c484-3ce0f31f-llm-fd6c2'}\n",
    " ```"
   ]
  },
  {
   "cell_type": "code",
   "execution_count": 7,
   "metadata": {
    "colab": {
     "base_uri": "https://localhost:8080/",
     "height": 35
    },
    "id": "bjKq95Do6Wfp",
    "outputId": "3543c898-4639-49d5-9ff9-08b464676c0b"
   },
   "outputs": [
    {
     "data": {
      "application/vnd.google.colaboratory.intrinsic+json": {
       "type": "string"
      },
      "text/plain": [
       "'registry/model-ada3c484-3ce0f31f-llm-fd6c2'"
      ]
     },
     "execution_count": 7,
     "metadata": {},
     "output_type": "execute_result"
    }
   ],
   "source": [
    "model_id = response.model_id\n",
    "model_id"
   ]
  },
  {
   "cell_type": "markdown",
   "metadata": {
    "id": "A5X2x7_rWYmR"
   },
   "source": [
    "### Update the Application"
   ]
  },
  {
   "cell_type": "markdown",
   "metadata": {
    "id": "BNvqXjMRWcej"
   },
   "source": [
    "Once the tuned job is complete, you can deploy the tuned model via editing the application through API. Note that currently a single fine-tuned model deployment is allowed per tenant. Please see the API doc for more information."
   ]
  },
  {
   "cell_type": "code",
   "execution_count": null,
   "metadata": {
    "id": "G_GeekVjVO05"
   },
   "outputs": [],
   "source": [
    "def update_application(application_id: str, llm_model_id: str):\n",
    "   \"\"\"Update application's LLM model\"\"\"\n",
    "   url = f\"{BASE_URL}/applications/{application_id}\"\n",
    "   headers = {\n",
    "       \"accept\": \"application/json\",\n",
    "       \"content-type\": \"application/json\",\n",
    "       \"Authorization\": f\"Bearer {API_TOKEN}\"\n",
    "   }\n",
    "   data = {\"llm_model_id\": llm_model_id}\n",
    "   response = requests.put(url, headers=headers, json=data)\n",
    "   return response.json()"
   ]
  },
  {
   "cell_type": "code",
   "execution_count": null,
   "metadata": {
    "id": "6Kc1ewJlZC87"
   },
   "outputs": [],
   "source": [
    "#update_application(APPLICATION_ID, model_id)\n",
    "update_application('3ce0f31f-b262-4de6-aad8-411c5016b4ac', model_id)"
   ]
  }
 ],
 "metadata": {
  "colab": {
   "provenance": []
  },
  "kernelspec": {
   "display_name": "Python 3 (ipykernel)",
   "language": "python",
   "name": "python3"
  },
  "language_info": {
   "codemirror_mode": {
    "name": "ipython",
    "version": 3
   },
   "file_extension": ".py",
   "mimetype": "text/x-python",
   "name": "python",
   "nbconvert_exporter": "python",
   "pygments_lexer": "ipython3",
   "version": "3.12.8"
  }
 },
 "nbformat": 4,
 "nbformat_minor": 4
}
